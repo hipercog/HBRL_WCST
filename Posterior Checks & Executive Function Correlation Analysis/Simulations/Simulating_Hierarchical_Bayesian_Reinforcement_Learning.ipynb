{
  "nbformat": 4,
  "nbformat_minor": 0,
  "metadata": {
    "colab": {
      "name": "Simulating Hierarchical Bayesian Reinforcement Learning.ipynb",
      "provenance": [],
      "collapsed_sections": []
    },
    "kernelspec": {
      "name": "python3",
      "display_name": "Python 3"
    },
    "language_info": {
      "name": "python"
    }
  },
  "cells": [
    {
      "cell_type": "markdown",
      "source": [
        "# Simulating Hierarchical Bayesian Reinforcement Learning\n",
        "\n",
        "\n",
        "Simulated example to illustrate the success of the methodology.\n",
        "\n",
        "The same as before, however now $10$ individuals have their parameters sampled the population distributions:\n",
        "\n",
        "$\\alpha^i \\sim $\n",
        "$$\n",
        "\n",
        "----\n",
        "```\n",
        "author:    Zach Wolpe\n",
        "email:     zachcolinwolpe@gmail.com\n",
        "reviewer:  na\n",
        "date:      11 January 2022\n",
        "```\n",
        "----"
      ],
      "metadata": {
        "id": "A3de_HjoJEQb"
      }
    },
    {
      "cell_type": "markdown",
      "source": [
        ""
      ],
      "metadata": {
        "id": "0ndrjJ-nJBvI"
      }
    },
    {
      "cell_type": "code",
      "source": [
        "# %%capture\n",
        "# !pip upgrade arviz==0.6.1\n",
        "# !pip install git+https://github.com/pymc-devs/pymc3\n",
        "# !pip install git+git://github.com/arviz-devs/arviz.git\n"
      ],
      "metadata": {
        "id": "ZweRdTOee8Wg"
      },
      "execution_count": null,
      "outputs": []
    },
    {
      "cell_type": "code",
      "source": [
        ""
      ],
      "metadata": {
        "id": "3n7XpmUugFAK",
        "outputId": "6daffb79-42e4-4cb3-817e-94483614642a",
        "colab": {
          "base_uri": "https://localhost:8080/"
        }
      },
      "execution_count": null,
      "outputs": [
        {
          "output_type": "stream",
          "name": "stdout",
          "text": [
            "Mean Accuracy: 0.681 (0.042)\n"
          ]
        }
      ]
    },
    {
      "cell_type": "code",
      "execution_count": null,
      "metadata": {
        "id": "J5q31j7EIuBA"
      },
      "outputs": [],
      "source": [
        "import matplotlib.pyplot as plt\n",
        "import theano.tensor as tt\n",
        "from scipy import stats\n",
        "from tqdm import tqdm\n",
        "import pandas as pd\n",
        "import numpy as np\n",
        "import pymc3 as pm\n",
        "import arviz as az\n",
        "import theano\n",
        "import math"
      ]
    },
    {
      "cell_type": "code",
      "source": [
        "# alpha population distribution ------------------------------*\n",
        "# params\n",
        "a,b = 3,9\n",
        "\n",
        "# distribution\n",
        "mean, var, skew, kurt = stats.beta.stats(a,b, moments='mvsk')\n",
        "x = np.linspace(stats.beta.ppf(0.01, a, b),\n",
        "                stats.beta.ppf(0.99, a, b), 100)\n",
        "y = stats.beta.pdf(x, a, b)\n",
        "\n",
        "# random sample\n",
        "rv = stats.beta(a, b)\n",
        "r  = rv.rvs(size=10000)\n",
        "\n",
        "# vis \n",
        "fig, ax = plt.subplots(1, 1, figsize=(10,6))\n",
        "ax.plot(x, y, 'lightblue', lw=10, alpha=0.6, label='beta pdf')\n",
        "ax.plot(x, y, 'k-', lw=2, label='frozen pdf')\n",
        "ax.hist(r, bins=80, density=True, color='pink', histtype='stepfilled', alpha=0.4)\n",
        "ax.vlines(x=x[np.where(y==max(y))], ymin=0, ymax=3.5, lw=2, color='steelblue', linestyles='dashed')\n",
        "plt.title('Alpha population distribution')\n",
        "plt.show()\n",
        "# alpha population distribution ------------------------------*"
      ],
      "metadata": {
        "colab": {
          "base_uri": "https://localhost:8080/",
          "height": 390
        },
        "id": "m5kUHAj8O1ip",
        "outputId": "174b4837-fc8c-47f6-f47a-012e9b1d37f3"
      },
      "execution_count": null,
      "outputs": [
        {
          "output_type": "display_data",
          "data": {
            "image/png": "[encoded data removed]",
            "text/plain": [
              "<Figure size 720x432 with 1 Axes>"
            ]
          },
          "metadata": {
            "needs_background": "light"
          }
        }
      ]
    },
    {
      "cell_type": "code",
      "source": [
        "# beta population distribution -------------------------------*\n",
        "# params\n",
        "mu        = 3\n",
        "variance  = 1\n",
        "\n",
        "# distribution\n",
        "sigma = math.sqrt(variance)\n",
        "x     = np.linspace(mu - 3*sigma, mu + 3*sigma, 100)\n",
        "y     = stats.norm.pdf(x, mu, sigma)\n",
        "\n",
        "# random sample\n",
        "rv = stats.norm(mu, sigma)\n",
        "r  = rv.rvs(size=10000)\n",
        "\n",
        "# vis \n",
        "fig, ax = plt.subplots(1, 1, figsize=(10,6))\n",
        "ax.plot(x, y, 'lightblue', lw=10, alpha=0.6, label='alpha pdf')\n",
        "ax.plot(x, y, 'k-', lw=2, label='frozen pdf')\n",
        "ax.hist(r, bins=80, density=True, color='pink', histtype='stepfilled', alpha=0.4)\n",
        "ax.vlines(x=mu, ymin=0, ymax=0.45, lw=2, color='steelblue', linestyles='dashed')\n",
        "plt.title('Beta population distribution')\n",
        "plt.show()\n",
        "# beta population distribution -------------------------------*"
      ],
      "metadata": {
        "colab": {
          "base_uri": "https://localhost:8080/",
          "height": 390
        },
        "id": "P5K_VoDNPhTD",
        "outputId": "b65ae322-77c8-4fc7-c6d0-ae0846c56a9e"
      },
      "execution_count": null,
      "outputs": [
        {
          "output_type": "display_data",
          "data": {
            "image/png": "[encoded data removed]",
            "text/plain": [
              "<Figure size 720x432 with 1 Axes>"
            ]
          },
          "metadata": {
            "needs_background": "light"
          }
        }
      ]
    },
    {
      "cell_type": "markdown",
      "source": [
        "# Generate Subject Data"
      ],
      "metadata": {
        "id": "LwoWO5UOe0Eb"
      }
    },
    {
      "cell_type": "code",
      "source": [
        "\n",
        "%%time\n",
        "# sample population distributions ------------------------------------------*\n",
        "n_samples = 100\n",
        "subject_betas  = stats.norm(loc=mu, scale=sigma).rvs(n_samples)\n",
        "subject_alphas = stats.beta(a, b).rvs(n_samples)"
      ],
      "metadata": {
        "colab": {
          "base_uri": "https://localhost:8080/"
        },
        "id": "GQyjWXUhgpld",
        "outputId": "a2ac42e6-2dca-45e7-e003-77d7978aae7e"
      },
      "execution_count": null,
      "outputs": [
        {
          "output_type": "stream",
          "name": "stdout",
          "text": [
            "CPU times: user 2.88 ms, sys: 0 ns, total: 2.88 ms\n",
            "Wall time: 4.9 ms\n"
          ]
        }
      ]
    },
    {
      "cell_type": "code",
      "source": [
        "# DGP ----------------------------------------------------------------------*\n",
        "def data_generating_process(alpha, beta, n=100, p_r=[.8, .6, .7]):\n",
        "  actions = np.zeros(n, dtype=np.int)\n",
        "  rewards = np.zeros(n, dtype=np.int)\n",
        "  Qs      = np.zeros((n, 3))\n",
        "\n",
        "  # Q init\n",
        "  Q = np.array(len(p_r)*[1/len(p_r)])\n",
        "\n",
        "  for i in tqdm(range(n)):\n",
        "    # P(a|Q): Apply Boltzmann distribution\n",
        "    exp_Q = np.exp(beta*Q)\n",
        "    pi_a  = exp_Q / np.sum(exp_Q)\n",
        "\n",
        "\n",
        "    # Simulate action-reward\n",
        "    a = np.random.choice([0,1,2], p=pi_a)\n",
        "    r = np.random.rand() < p_r[a]\n",
        "\n",
        "    # Update Qt(a) = Qt-1(a) + a[RPE]\n",
        "    Q[a] = Q[a] + alpha * (r - Q[a])\n",
        "\n",
        "    # store\n",
        "    actions[i] = a\n",
        "    rewards[i] = r\n",
        "    Qs[i] = Q.copy()\n",
        "\n",
        "  return actions, rewards, Qs  "
      ],
      "metadata": {
        "id": "yNCgPqQtX1v8"
      },
      "execution_count": null,
      "outputs": []
    },
    {
      "cell_type": "code",
      "source": [
        "# store as a dict\n",
        "n = 100\n",
        "data = {}\n",
        "for i, theta in enumerate(zip(subject_alphas, subject_betas)):\n",
        "  actions, rewards, Qs = data_generating_process(alpha=theta[0], beta=theta[1], n=n)\n",
        "  data['subject_'+str(i)] = {'actions': actions, 'rewards':rewards, 'true_alpha':theta[0], 'true_beta':theta[1], 'Qs':Qs}"
      ],
      "metadata": {
        "colab": {
          "base_uri": "https://localhost:8080/"
        },
        "id": "PyPdoYxDYdBw",
        "outputId": "0a768fc5-d8e9-465c-fbc8-2e5d7cc7d5e2"
      },
      "execution_count": null,
      "outputs": [
        {
          "output_type": "stream",
          "name": "stderr",
          "text": [
            "100%|██████████| 100/100 [00:00<00:00, 11413.38it/s]\n",
            "100%|██████████| 100/100 [00:00<00:00, 12943.39it/s]\n",
            "100%|██████████| 100/100 [00:00<00:00, 12629.64it/s]\n",
            "100%|██████████| 100/100 [00:00<00:00, 8272.30it/s]\n",
            "100%|██████████| 100/100 [00:00<00:00, 10928.64it/s]\n",
            "100%|██████████| 100/100 [00:00<00:00, 12732.78it/s]\n",
            "100%|██████████| 100/100 [00:00<00:00, 11680.04it/s]\n",
            "100%|██████████| 100/100 [00:00<00:00, 8375.88it/s]\n",
            "100%|██████████| 100/100 [00:00<00:00, 12034.96it/s]\n",
            "100%|██████████| 100/100 [00:00<00:00, 8741.78it/s]\n",
            "100%|██████████| 100/100 [00:00<00:00, 6971.80it/s]\n",
            "100%|██████████| 100/100 [00:00<00:00, 9256.70it/s]\n",
            "100%|██████████| 100/100 [00:00<00:00, 9429.22it/s]\n",
            "100%|██████████| 100/100 [00:00<00:00, 8942.70it/s]\n",
            "100%|██████████| 100/100 [00:00<00:00, 11115.16it/s]\n",
            "100%|██████████| 100/100 [00:00<00:00, 13222.48it/s]\n",
            "100%|██████████| 100/100 [00:00<00:00, 11774.48it/s]\n",
            "100%|██████████| 100/100 [00:00<00:00, 10941.76it/s]\n",
            "100%|██████████| 100/100 [00:00<00:00, 11716.26it/s]\n",
            "100%|██████████| 100/100 [00:00<00:00, 11692.09it/s]\n",
            "100%|██████████| 100/100 [00:00<00:00, 11906.84it/s]\n",
            "100%|██████████| 100/100 [00:00<00:00, 11519.33it/s]\n",
            "100%|██████████| 100/100 [00:00<00:00, 13769.42it/s]\n",
            "100%|██████████| 100/100 [00:00<00:00, 15663.25it/s]\n",
            "100%|██████████| 100/100 [00:00<00:00, 15690.79it/s]\n",
            "100%|██████████| 100/100 [00:00<00:00, 13068.81it/s]\n",
            "100%|██████████| 100/100 [00:00<00:00, 11735.27it/s]\n",
            "100%|██████████| 100/100 [00:00<00:00, 11038.22it/s]\n",
            "100%|██████████| 100/100 [00:00<00:00, 11302.96it/s]\n",
            "100%|██████████| 100/100 [00:00<00:00, 11643.41it/s]\n",
            "100%|██████████| 100/100 [00:00<00:00, 8325.00it/s]\n",
            "100%|██████████| 100/100 [00:00<00:00, 10612.85it/s]\n",
            "100%|██████████| 100/100 [00:00<00:00, 11235.75it/s]\n",
            "100%|██████████| 100/100 [00:00<00:00, 11887.94it/s]\n",
            "100%|██████████| 100/100 [00:00<00:00, 11929.87it/s]\n",
            "100%|██████████| 100/100 [00:00<00:00, 11786.72it/s]\n",
            "100%|██████████| 100/100 [00:00<00:00, 11396.95it/s]\n",
            "100%|██████████| 100/100 [00:00<00:00, 11505.11it/s]\n",
            "100%|██████████| 100/100 [00:00<00:00, 11321.58it/s]\n",
            "100%|██████████| 100/100 [00:00<00:00, 11390.45it/s]\n",
            "100%|██████████| 100/100 [00:00<00:00, 11093.69it/s]\n",
            "100%|██████████| 100/100 [00:00<00:00, 11371.61it/s]\n",
            "100%|██████████| 100/100 [00:00<00:00, 10965.50it/s]\n",
            "100%|██████████| 100/100 [00:00<00:00, 11469.25it/s]\n",
            "100%|██████████| 100/100 [00:00<00:00, 10268.83it/s]\n",
            "100%|██████████| 100/100 [00:00<00:00, 11469.25it/s]\n",
            "100%|██████████| 100/100 [00:00<00:00, 12303.98it/s]\n",
            "100%|██████████| 100/100 [00:00<00:00, 12328.57it/s]\n",
            "100%|██████████| 100/100 [00:00<00:00, 11997.09it/s]\n",
            "100%|██████████| 100/100 [00:00<00:00, 10948.61it/s]\n",
            "100%|██████████| 100/100 [00:00<00:00, 10419.60it/s]\n",
            "100%|██████████| 100/100 [00:00<00:00, 9187.36it/s]\n",
            "100%|██████████| 100/100 [00:00<00:00, 9710.61it/s]\n",
            "100%|██████████| 100/100 [00:00<00:00, 9414.40it/s]\n",
            "100%|██████████| 100/100 [00:00<00:00, 9139.91it/s]\n",
            "100%|██████████| 100/100 [00:00<00:00, 16560.60it/s]\n",
            "100%|██████████| 100/100 [00:00<00:00, 7818.92it/s]\n",
            "100%|██████████| 100/100 [00:00<00:00, 11529.15it/s]\n",
            "100%|██████████| 100/100 [00:00<00:00, 8062.71it/s]\n",
            "100%|██████████| 100/100 [00:00<00:00, 8030.14it/s]\n",
            "100%|██████████| 100/100 [00:00<00:00, 11448.59it/s]\n",
            "100%|██████████| 100/100 [00:00<00:00, 7737.28it/s]\n",
            "100%|██████████| 100/100 [00:00<00:00, 7783.23it/s]\n",
            "100%|██████████| 100/100 [00:00<00:00, 14840.79it/s]\n",
            "100%|██████████| 100/100 [00:00<00:00, 9610.49it/s]\n",
            "100%|██████████| 100/100 [00:00<00:00, 7507.93it/s]\n",
            "100%|██████████| 100/100 [00:00<00:00, 6428.74it/s]\n",
            "100%|██████████| 100/100 [00:00<00:00, 14666.42it/s]\n",
            "100%|██████████| 100/100 [00:00<00:00, 7724.89it/s]\n",
            "100%|██████████| 100/100 [00:00<00:00, 8341.56it/s]\n",
            "100%|██████████| 100/100 [00:00<00:00, 7459.33it/s]\n",
            "100%|██████████| 100/100 [00:00<00:00, 8137.64it/s]\n",
            "100%|██████████| 100/100 [00:00<00:00, 8645.38it/s]\n",
            "100%|██████████| 100/100 [00:00<00:00, 7675.27it/s]\n",
            "100%|██████████| 100/100 [00:00<00:00, 10682.31it/s]\n",
            "100%|██████████| 100/100 [00:00<00:00, 9920.77it/s]\n",
            "100%|██████████| 100/100 [00:00<00:00, 10988.77it/s]\n",
            "100%|██████████| 100/100 [00:00<00:00, 10035.42it/s]\n",
            "100%|██████████| 100/100 [00:00<00:00, 13229.99it/s]\n",
            "100%|██████████| 100/100 [00:00<00:00, 11109.56it/s]\n",
            "100%|██████████| 100/100 [00:00<00:00, 12089.42it/s]\n",
            "100%|██████████| 100/100 [00:00<00:00, 7113.21it/s]\n",
            "100%|██████████| 100/100 [00:00<00:00, 9143.30it/s]\n",
            "100%|██████████| 100/100 [00:00<00:00, 9350.39it/s]\n",
            "100%|██████████| 100/100 [00:00<00:00, 10759.87it/s]\n",
            "100%|██████████| 100/100 [00:00<00:00, 11276.83it/s]\n",
            "100%|██████████| 100/100 [00:00<00:00, 10081.25it/s]\n",
            "100%|██████████| 100/100 [00:00<00:00, 9141.50it/s]\n",
            "100%|██████████| 100/100 [00:00<00:00, 9756.01it/s]\n",
            "100%|██████████| 100/100 [00:00<00:00, 8129.13it/s]\n",
            "100%|██████████| 100/100 [00:00<00:00, 10420.89it/s]\n",
            "100%|██████████| 100/100 [00:00<00:00, 5353.77it/s]\n",
            "100%|██████████| 100/100 [00:00<00:00, 11033.00it/s]\n",
            "100%|██████████| 100/100 [00:00<00:00, 7112.37it/s]\n",
            "100%|██████████| 100/100 [00:00<00:00, 8183.53it/s]\n",
            "100%|██████████| 100/100 [00:00<00:00, 13441.13it/s]\n",
            "100%|██████████| 100/100 [00:00<00:00, 12406.98it/s]\n",
            "100%|██████████| 100/100 [00:00<00:00, 15239.27it/s]\n",
            "100%|██████████| 100/100 [00:00<00:00, 11388.59it/s]\n",
            "100%|██████████| 100/100 [00:00<00:00, 11701.22it/s]\n"
          ]
        }
      ]
    },
    {
      "cell_type": "markdown",
      "source": [
        "# Method I: Summary Statistics\n",
        "\n",
        "As a baseline point of comparison, one can use the niave method of fitting all subjects independently & then use thier estimates as samples from the population to estimate the population distribution. This is referred to as the summary statistics approach.\n",
        "\n",
        "## Fit\n",
        "\n",
        "Here we fit all $10$ models independently."
      ],
      "metadata": {
        "id": "wV8mvXMFhIsZ"
      }
    },
    {
      "cell_type": "code",
      "source": [
        "%%time\n",
        "# Bayes RL  ==================================================================================================================================*\n",
        "\n",
        "# each subject\n",
        "for i in tqdm(range(n_samples)):\n",
        "  actions = data['subject_'+str(i)]['actions']\n",
        "  rewards = data['subject_'+str(i)]['rewards']\n",
        "\n",
        "  with pm.Model() as bayesian_reinforcement_learning:\n",
        "\n",
        "    # data\n",
        "    actions_  = pm.Data('actions', actions)\n",
        "    rewards_  = pm.Data('rewards', rewards)\n",
        "\n",
        "    # priors\n",
        "    alpha = pm.Beta('alpha', 1, 1)\n",
        "    beta  = pm.HalfNormal('beta', 10)\n",
        "\n",
        "    # model \n",
        "    # init Qs\n",
        "    Qs = 0.3333 * tt.ones(3, dtype='float64')\n",
        "\n",
        "    # Compute the Q values for each trial\n",
        "    Qs, _ = theano.scan(\n",
        "        fn=lambda action, reward, Qs, alpha: tt.set_subtensor(Qs[action], Qs[action] + alpha * (reward - Qs[action])),\n",
        "        sequences=[actions_, rewards_],\n",
        "        outputs_info=[Qs],\n",
        "        non_sequences=[alpha])\n",
        "\n",
        "\n",
        "    BQs = beta*Qs\n",
        "    pi =  tt.nnet.softmax(BQs)\n",
        "    like = pm.Categorical('like', p=pi, observed=actions_)\n",
        "\n",
        "    # opt\n",
        "    trace = pm.sample(tune=1000, chains=2, target_accept=0.85) # tune=5000, target_accept=0.9 njobs=4 ,target_accept=0.99\n",
        "    idata = az.from_pymc3(trace)\n",
        "    pm.traceplot(idata)\n",
        "\n",
        "\n",
        "    # store estimates\n",
        "    data['subject_'+str(i)]['trace'] = trace\n",
        "    data['subject_'+str(i)]['idata'] = idata\n",
        "  # Bayes RL  ==================================================================================================================================*\n"
      ],
      "metadata": {
        "id": "CygOzxt5hCwk"
      },
      "execution_count": null,
      "outputs": []
    },
    {
      "cell_type": "code",
      "source": [
        "pm.model_to_graphviz(bayesian_reinforcement_learning)"
      ],
      "metadata": {
        "colab": {
          "base_uri": "https://localhost:8080/",
          "height": 456
        },
        "id": "mstLKtkG75ru",
        "outputId": "4522e302-3a6a-4649-af1c-0afa168e71b8"
      },
      "execution_count": null,
      "outputs": [
        {
          "output_type": "execute_result",
          "data": {
            "text/plain": [
              "<graphviz.dot.Digraph at 0x7fae21e9fc10>"
            ],
            "image/svg+xml": "<?xml version=\"1.0\" encoding=\"UTF-8\" standalone=\"no\"?>\n<!DOCTYPE svg PUBLIC \"-//W3C//DTD SVG 1.1//EN\"\n \"http://www.w3.org/Graphics/SVG/1.1/DTD/svg11.dtd\">\n<!-- Generated by graphviz version 2.40.1 (20161225.0304)\n -->\n<!-- Title: %3 Pages: 1 -->\n<svg width=\"358pt\" height=\"327pt\"\n viewBox=\"0.00 0.00 358.10 326.93\" xmlns=\"http://www.w3.org/2000/svg\" xmlns:xlink=\"http://www.w3.org/1999/xlink\">\n<g id=\"graph0\" class=\"graph\" transform=\"scale(1 1) rotate(0) translate(4 322.93)\">\n<title>%3</title>\n<polygon fill=\"#ffffff\" stroke=\"transparent\" points=\"-4,4 -4,-322.93 354.1041,-322.93 354.1041,4 -4,4\"/>\n<g id=\"clust1\" class=\"cluster\">\n<title>cluster100</title>\n<path fill=\"none\" stroke=\"#000000\" d=\"M20,-8C20,-8 126,-8 126,-8 132,-8 138,-14 138,-20 138,-20 138,-298.93 138,-298.93 138,-304.93 132,-310.93 126,-310.93 126,-310.93 20,-310.93 20,-310.93 14,-310.93 8,-304.93 8,-298.93 8,-298.93 8,-20 8,-20 8,-14 14,-8 20,-8\"/>\n<text text-anchor=\"middle\" x=\"118.5\" y=\"-15.8\" font-family=\"Times,serif\" font-size=\"14.00\" fill=\"#000000\">100</text>\n</g>\n<!-- like -->\n<g id=\"node1\" class=\"node\">\n<title>like</title>\n<ellipse fill=\"#d3d3d3\" stroke=\"#000000\" cx=\"73\" cy=\"-165.4767\" rx=\"57.0522\" ry=\"37.4533\"/>\n<text text-anchor=\"middle\" x=\"73\" y=\"-176.7767\" font-family=\"Times,serif\" font-size=\"14.00\" fill=\"#000000\">like</text>\n<text text-anchor=\"middle\" x=\"73\" y=\"-161.7767\" font-family=\"Times,serif\" font-size=\"14.00\" fill=\"#000000\">~</text>\n<text text-anchor=\"middle\" x=\"73\" y=\"-146.7767\" font-family=\"Times,serif\" font-size=\"14.00\" fill=\"#000000\">Categorical</text>\n</g>\n<!-- actions -->\n<g id=\"node2\" class=\"node\">\n<title>actions</title>\n<path fill=\"#d3d3d3\" stroke=\"#000000\" d=\"M89,-92C89,-92 57,-92 57,-92 51,-92 45,-86 45,-80 45,-80 45,-51 45,-51 45,-45 51,-39 57,-39 57,-39 89,-39 89,-39 95,-39 101,-45 101,-51 101,-51 101,-80 101,-80 101,-86 95,-92 89,-92\"/>\n<text text-anchor=\"middle\" x=\"73\" y=\"-76.8\" font-family=\"Times,serif\" font-size=\"14.00\" fill=\"#000000\">actions</text>\n<text text-anchor=\"middle\" x=\"73\" y=\"-61.8\" font-family=\"Times,serif\" font-size=\"14.00\" fill=\"#000000\">~</text>\n<text text-anchor=\"middle\" x=\"73\" y=\"-46.8\" font-family=\"Times,serif\" font-size=\"14.00\" fill=\"#000000\">Data</text>\n</g>\n<!-- like&#45;&gt;actions -->\n<g id=\"edge1\" class=\"edge\">\n<title>like&#45;&gt;actions</title>\n<path fill=\"none\" stroke=\"#000000\" d=\"M73,-127.9646C73,-119.6275 73,-110.7957 73,-102.4801\"/>\n<polygon fill=\"#000000\" stroke=\"#000000\" points=\"76.5001,-102.2991 73,-92.2991 69.5001,-102.2991 76.5001,-102.2991\"/>\n</g>\n<!-- rewards -->\n<g id=\"node3\" class=\"node\">\n<title>rewards</title>\n<path fill=\"#d3d3d3\" stroke=\"#000000\" d=\"M91.5,-302.93C91.5,-302.93 54.5,-302.93 54.5,-302.93 48.5,-302.93 42.5,-296.93 42.5,-290.93 42.5,-290.93 42.5,-261.93 42.5,-261.93 42.5,-255.93 48.5,-249.93 54.5,-249.93 54.5,-249.93 91.5,-249.93 91.5,-249.93 97.5,-249.93 103.5,-255.93 103.5,-261.93 103.5,-261.93 103.5,-290.93 103.5,-290.93 103.5,-296.93 97.5,-302.93 91.5,-302.93\"/>\n<text text-anchor=\"middle\" x=\"73\" y=\"-287.73\" font-family=\"Times,serif\" font-size=\"14.00\" fill=\"#000000\">rewards</text>\n<text text-anchor=\"middle\" x=\"73\" y=\"-272.73\" font-family=\"Times,serif\" font-size=\"14.00\" fill=\"#000000\">~</text>\n<text text-anchor=\"middle\" x=\"73\" y=\"-257.73\" font-family=\"Times,serif\" font-size=\"14.00\" fill=\"#000000\">Data</text>\n</g>\n<!-- rewards&#45;&gt;like -->\n<g id=\"edge4\" class=\"edge\">\n<title>rewards&#45;&gt;like</title>\n<path fill=\"none\" stroke=\"#000000\" d=\"M73,-249.8539C73,-238.9351 73,-225.944 73,-213.4675\"/>\n<polygon fill=\"#000000\" stroke=\"#000000\" points=\"76.5001,-213.1649 73,-203.165 69.5001,-213.165 76.5001,-213.1649\"/>\n</g>\n<!-- alpha -->\n<g id=\"node4\" class=\"node\">\n<title>alpha</title>\n<ellipse fill=\"none\" stroke=\"#000000\" cx=\"179\" cy=\"-276.43\" rx=\"33.4697\" ry=\"37.4533\"/>\n<text text-anchor=\"middle\" x=\"179\" y=\"-287.73\" font-family=\"Times,serif\" font-size=\"14.00\" fill=\"#000000\">alpha</text>\n<text text-anchor=\"middle\" x=\"179\" y=\"-272.73\" font-family=\"Times,serif\" font-size=\"14.00\" fill=\"#000000\">~</text>\n<text text-anchor=\"middle\" x=\"179\" y=\"-257.73\" font-family=\"Times,serif\" font-size=\"14.00\" fill=\"#000000\">Beta</text>\n</g>\n<!-- alpha&#45;&gt;like -->\n<g id=\"edge2\" class=\"edge\">\n<title>alpha&#45;&gt;like</title>\n<path fill=\"none\" stroke=\"#000000\" d=\"M154.415,-250.6962C141.3805,-237.0525 125.0905,-220.0013 110.5138,-204.7435\"/>\n<polygon fill=\"#000000\" stroke=\"#000000\" points=\"112.956,-202.233 103.5174,-197.4201 107.8945,-207.0685 112.956,-202.233\"/>\n</g>\n<!-- beta -->\n<g id=\"node5\" class=\"node\">\n<title>beta</title>\n<ellipse fill=\"none\" stroke=\"#000000\" cx=\"290\" cy=\"-276.43\" rx=\"60.2083\" ry=\"37.4533\"/>\n<text text-anchor=\"middle\" x=\"290\" y=\"-287.73\" font-family=\"Times,serif\" font-size=\"14.00\" fill=\"#000000\">beta</text>\n<text text-anchor=\"middle\" x=\"290\" y=\"-272.73\" font-family=\"Times,serif\" font-size=\"14.00\" fill=\"#000000\">~</text>\n<text text-anchor=\"middle\" x=\"290\" y=\"-257.73\" font-family=\"Times,serif\" font-size=\"14.00\" fill=\"#000000\">HalfNormal</text>\n</g>\n<!-- beta&#45;&gt;like -->\n<g id=\"edge3\" class=\"edge\">\n<title>beta&#45;&gt;like</title>\n<path fill=\"none\" stroke=\"#000000\" d=\"M244.8457,-251.597C236.9253,-247.3294 228.7419,-242.9758 221,-238.9533 190.5824,-223.149 156.3157,-206.0901 128.4203,-192.3911\"/>\n<polygon fill=\"#000000\" stroke=\"#000000\" points=\"129.739,-189.1396 119.2192,-187.8808 126.6579,-195.4251 129.739,-189.1396\"/>\n</g>\n</g>\n</svg>\n"
          },
          "metadata": {},
          "execution_count": 38
        }
      ]
    },
    {
      "cell_type": "markdown",
      "source": [
        "-----\n",
        "\n",
        "# Summary Statistics Distribution\n",
        "\n",
        "Now we simple use the estimates as independent samples to fit the distributions:\n",
        "\n",
        "$$\\alpha \\sim \\mathcal{beta}(a_{\\alpha}, b_{\\alpha}), \\; \\; \\;  \\beta \\sim \\mathcal{N}(\\mu_{\\beta}, \\sigma_{\\beta})$$\n"
      ],
      "metadata": {
        "id": "_PIQIfiKnBeb"
      }
    },
    {
      "cell_type": "code",
      "source": [
        "\n",
        "true_alphas   = []\n",
        "true_betas    = []\n",
        "approx_alpha  = []\n",
        "approx_beta   = []\n",
        "\n",
        "for i in range(10):\n",
        "  true_alphas.append(data['subject_'+str(i)]['true_alpha'])\n",
        "  true_betas.append(data['subject_'+str(i)]['true_beta'])\n",
        "  # approx_alpha.append(data['subject_'+str(i)]['trace']['alpha'])\n",
        "  # approx_beta.append(data['subject_'+str(i)]['trace']['beta'])\n",
        "  # means \n",
        "  approx_alpha.append(data['subject_'+str(i)]['trace']['alpha'].mean())\n",
        "  approx_beta.append(data['subject_'+str(i)]['trace']['beta'].mean())\n"
      ],
      "metadata": {
        "id": "4mvDwNcch6CC"
      },
      "execution_count": null,
      "outputs": []
    },
    {
      "cell_type": "code",
      "source": [
        "trace['alpha'].std()"
      ],
      "metadata": {
        "colab": {
          "base_uri": "https://localhost:8080/"
        },
        "id": "xSiUvQDViW8q",
        "outputId": "e8a8675c-76cf-4a69-f1cc-1540be5cde4d"
      },
      "execution_count": null,
      "outputs": [
        {
          "output_type": "execute_result",
          "data": {
            "text/plain": [
              "0.06007944915605776"
            ]
          },
          "metadata": {},
          "execution_count": 157
        }
      ]
    },
    {
      "cell_type": "code",
      "source": [
        "data['subject_'+str(i)]['trace']['alpha'].mean()"
      ],
      "metadata": {
        "colab": {
          "base_uri": "https://localhost:8080/"
        },
        "id": "zWPLIldAmPqF",
        "outputId": "27ca77e9-0539-4ee0-ccf8-7a311d4315fb"
      },
      "execution_count": null,
      "outputs": [
        {
          "output_type": "execute_result",
          "data": {
            "text/plain": [
              "0.17771872426955176"
            ]
          },
          "metadata": {},
          "execution_count": 132
        }
      ]
    },
    {
      "cell_type": "code",
      "source": [
        "# https://stats.stackexchange.com/questions/68983/beta-distribution-fitting-in-scipy\n",
        "a_al_true, b_al_true, loc_al_true, scale_al_true = stats.beta.fit(true_alphas, floc=0, fscale=1)\n",
        "a_al_aprx, b_al_aprx, loc_al_aprx, scale_al_aprx = stats.beta.fit(approx_alpha, floc=0, fscale=1)\n",
        "\n",
        "beta_true_mu, beta_true_std = stats.norm.fit(true_betas)\n",
        "beta_aprx_mu, beta_aprx_std = stats.norm.fit(approx_beta)\n"
      ],
      "metadata": {
        "id": "vH2Pd-HWmW9t"
      },
      "execution_count": null,
      "outputs": []
    },
    {
      "cell_type": "code",
      "source": [
        "beta_true_mu, beta_true_std, beta_aprx_mu, beta_aprx_std"
      ],
      "metadata": {
        "colab": {
          "base_uri": "https://localhost:8080/"
        },
        "id": "AXAeBVwWrtUk",
        "outputId": "35f55d6a-f5b8-4a86-94f6-c93ff49d1e42"
      },
      "execution_count": null,
      "outputs": [
        {
          "output_type": "execute_result",
          "data": {
            "text/plain": [
              "(3.108770229597089, 0.9595894475151323, 3.4020817685092277, 1.1838876850803135)"
            ]
          },
          "metadata": {},
          "execution_count": 179
        }
      ]
    },
    {
      "cell_type": "code",
      "source": [
        "for i, j in zip(['a', 'b', 'loc', 'scale'], [a_al_true, b_al_true, loc_al_true, scale_al_true]):\n",
        "  print(i, ': ', str(round(j,2)))\n",
        "\n",
        "print('-----')\n",
        "for i, j in zip(['a', 'b', 'loc', 'scale'], [a_al_aprx, b_al_aprx, loc_al_aprx, scale_al_aprx]):\n",
        "  print(i, ': ', str(round(j,2)))\n"
      ],
      "metadata": {
        "colab": {
          "base_uri": "https://localhost:8080/"
        },
        "id": "Yrkfx8b9Y_r8",
        "outputId": "2e902cc0-62bb-4dac-f750-f237d595d781"
      },
      "execution_count": null,
      "outputs": [
        {
          "output_type": "stream",
          "name": "stdout",
          "text": [
            "a :  4.56\n",
            "b :  10.27\n",
            "loc :  0\n",
            "scale :  1\n",
            "-----\n",
            "a :  2.09\n",
            "b :  3.86\n",
            "loc :  0\n",
            "scale :  1\n"
          ]
        }
      ]
    },
    {
      "cell_type": "markdown",
      "source": [
        "# Assess Fit: Summary Statistics Method\n",
        "\n",
        "**COMPLETELY FAILED TO CONVERGE**"
      ],
      "metadata": {
        "id": "RrYBMZon0JcU"
      }
    },
    {
      "cell_type": "code",
      "source": [
        "# alpha population distribution ------------------------------*\n",
        "# params\n",
        "a,b = 3,9\n",
        "\n",
        "# distribution\n",
        "mean, var, skew, kurt = stats.beta.stats(a,b, moments='mvsk')\n",
        "x = np.linspace(stats.beta.ppf(0.01, a, b),\n",
        "                stats.beta.ppf(0.99, a, b), 100)\n",
        "y = stats.beta.pdf(x, a, b)\n",
        "\n",
        "# random sample\n",
        "rv = stats.beta(a, b)\n",
        "r  = rv.rvs(size=10000)\n",
        "\n",
        "# vis \n",
        "fig, ax = plt.subplots(1, 1, figsize=(10,6))\n",
        "ax.plot(x, y, 'lightblue', lw=10, alpha=0.6)\n",
        "ax.plot(x, y, 'k-', lw=2, label='True Population')\n",
        "ax.vlines(x=x[np.where(y==max(y))], ymin=0, ymax=3.5, lw=2, color='steelblue', linestyles='dashed')\n",
        "\n",
        "# fit (unknown) true sample values\n",
        "rv_alpha_true = stats.beta(a=a_al_true, b=b_al_true, loc=loc_al_true, scale=scale_al_true).pdf(x)\n",
        "ax.plot(x, rv_alpha_true, 'pink', lw=10, alpha=0.6)\n",
        "ax.plot(x, rv_alpha_true, 'k-', lw=2, color='darkred', label='Unknown population samples')\n",
        "ax.vlines(x=x[np.where(rv_alpha_true==max(rv_alpha_true))], ymin=0, ymax=3.5, lw=2, color='darkred', linestyles='dashed')\n",
        "\n",
        "# fit approx values \n",
        "rv_alpha_aprx = stats.beta(a_al_aprx, b_al_aprx, loc_al_aprx, scale_al_aprx).pdf(x)\n",
        "ax.plot(x, rv_alpha_aprx, 'lightgreen', lw=10, alpha=0.6)\n",
        "ax.plot(x, rv_alpha_aprx, 'k-', lw=2, color='darkgreen', label='Summary Statistics')\n",
        "ax.vlines(x=x[np.where(rv_alpha_aprx==max(rv_alpha_aprx))], ymin=0, ymax=3.5, lw=2, color='darkgreen', linestyles='dashed')\n",
        "\n",
        "\n",
        "plt.title('Alpha population distribution')\n",
        "plt.legend()\n",
        "plt.show()\n",
        "# alpha population distribution ------------------------------*"
      ],
      "metadata": {
        "colab": {
          "base_uri": "https://localhost:8080/",
          "height": 390
        },
        "id": "7yIPKrqd0I9v",
        "outputId": "8b42ab95-cc35-44ca-d970-a65e21fc06ab"
      },
      "execution_count": null,
      "outputs": [
        {
          "output_type": "display_data",
          "data": {
            "image/png": "[encoded data removed]",
            "text/plain": [
              "<Figure size 720x432 with 1 Axes>"
            ]
          },
          "metadata": {
            "needs_background": "light"
          }
        }
      ]
    },
    {
      "cell_type": "code",
      "source": [
        "# beta population distribution -------------------------------*\n",
        "# params\n",
        "mu        = 3\n",
        "variance  = 1\n",
        "\n",
        "# distribution\n",
        "sigma = math.sqrt(variance)\n",
        "x     = np.linspace(mu - 3*sigma, mu + 3*sigma, 100)\n",
        "y     = stats.norm.pdf(x, mu, sigma)\n",
        "\n",
        "# random sample\n",
        "# rv = stats.norm(mu, sigma)\n",
        "# r  = rv.rvs(size=10000)\n",
        "\n",
        "# vis \n",
        "fig, ax = plt.subplots(1, 1, figsize=(10,6))\n",
        "ax.plot(x, y, 'lightblue', lw=10, alpha=0.6)\n",
        "ax.plot(x, y, 'k-', lw=2, label='True Population')\n",
        "# ax.hist(r, bins=80, density=True, color='pink', histtype='stepfilled', alpha=0.4)\n",
        "ax.vlines(x=mu, ymin=0, ymax=0.45, lw=2, color='steelblue', linestyles='dashed')\n",
        "\n",
        "\n",
        "# fit (unknown) true sample values\n",
        "rv_beta_true = stats.norm(beta_true_mu, beta_true_std).pdf(x)\n",
        "ax.plot(x, rv_beta_true, 'pink', lw=10, alpha=0.6)\n",
        "ax.plot(x, rv_beta_true, 'k-', lw=2, color='darkred', label='Unknown population samples')\n",
        "ax.vlines(x=beta_true_mu, ymin=0, ymax=0.45, lw=2, color='darkred', linestyles='dashed')\n",
        "\n",
        "# fit approx values \n",
        "rv_beta_apprx = stats.norm(beta_aprx_mu, beta_aprx_std).pdf(x)\n",
        "ax.plot(x, rv_beta_apprx, 'lightgreen', lw=10, alpha=0.6)\n",
        "ax.plot(x, rv_beta_apprx, 'k-', lw=2, color='darkgreen', label='Summary Statistics')\n",
        "ax.vlines(x=beta_aprx_mu, ymin=0, ymax=0.45, lw=2, color='darkgreen', linestyles='dashed')\n",
        "\n",
        "plt.title('Beta population distribution')\n",
        "plt.legend()\n",
        "plt.show()\n",
        "# beta population distribution -------------------------------*"
      ],
      "metadata": {
        "colab": {
          "base_uri": "https://localhost:8080/",
          "height": 390
        },
        "id": "bVAfGZCJsc1G",
        "outputId": "933cfb67-f73a-4a4e-8150-32e98fd8396d"
      },
      "execution_count": null,
      "outputs": [
        {
          "output_type": "display_data",
          "data": {
            "image/png": "[encoded data removed]",
            "text/plain": [
              "<Figure size 720x432 with 1 Axes>"
            ]
          },
          "metadata": {
            "needs_background": "light"
          }
        }
      ]
    },
    {
      "cell_type": "markdown",
      "source": [
        ""
      ],
      "metadata": {
        "id": "O1a4hkA4uPi2"
      }
    },
    {
      "cell_type": "markdown",
      "source": [
        "----\n",
        "\n",
        "# Hierarchical Bayesian RL\n",
        "\n",
        "Fitting an Hierarchical Bayesian RL model.\n",
        "\n",
        "\n",
        "# Model\n",
        "\n",
        "The model is the same as before, however now instead of setting a prior distribution over the parameters, a hyperprior is used to represent the population distribution.\n",
        "\n",
        "-----\n",
        "\n",
        "### Model \n",
        "\n",
        "Out $action \\ space$ consists of $3$ options:\n",
        "\n",
        "$$A:a\\in\\{c,s,n\\}$$\n",
        "\n",
        "\n",
        "### Data Generating Process\n",
        "\n",
        "Arificially assume that:\n",
        "\n",
        "$$\\alpha = 0.4, \\beta=7$$\n",
        "\n",
        "We are absolute to simulated a dataset that captures this DGP.\n",
        "\n",
        "Rewards are encoded in binary:\n",
        "\n",
        "$$\n",
        "r_t =\n",
        "\\begin{cases}\n",
        "  & 1, \\text{ if } a_t \\text{ is correct } \\\\\n",
        "  & 0, \\text{ otherwise}\n",
        "\\end{cases}\n",
        "$$\n",
        "\n",
        "\n",
        "Initially we assume that the state values are stationary, with the probability of recieving a reward at each state being:\n",
        "\n",
        "$$\n",
        "Pr(r_t=1|Q_t(a)) = \\begin{cases}\n",
        "  & 0.8 \\text{  if } a=c \\\\\n",
        "  & 0.6 \\text{  if } a=s \\\\\n",
        "  & 0.7 \\text{  if } a=n\n",
        "\\end{cases}\n",
        "$$\n",
        "\n",
        "\n",
        "***Given these parameters we can simulate choice behaviour.***\n",
        "\n",
        "Initialize $t=0$ them all with equal probability:\n",
        "\n",
        "$$Q_0(a)=\\frac{1}{3} \\ ∀ \\ a\\in \\{c,s,n\\}$$\n",
        "\n",
        "Thereafter, the state space approximations are updated when an action is taken & feedback is recieved:\n",
        "\n",
        "$$Q_t(a) = Q_{t-1}(a) + \\alpha \\left[ r_t - Q_{t-1}(a) \\right]\n",
        "$$\n",
        "\n",
        "\n",
        "\n",
        "The state-space approximations are used to sample actions probabilistically in a multinomial fashion, following a Bolzmann distribution:\n",
        "\n",
        "\n",
        "$$\\pi_t(a) = \\frac{exp \\; \\beta Q_t(a) }{ \\sum_{a} \n",
        "exp \\; \\beta \\ Q_t(a) \n",
        "}\n",
        "$$\n",
        "\n",
        "\n",
        "[reference](https://docs.pymc.io/en/v3/pymc-examples/examples/generalized_linear_models/GLM-hierarchical.html)\n",
        "\n",
        "https://docs.pymc.io/en/v3/pymc-examples/examples/case_studies/multilevel_modeling.html"
      ],
      "metadata": {
        "id": "MKQKVRqt1CBt"
      }
    },
    {
      "cell_type": "code",
      "source": [
        "# Convert to table data structure -------------*\n",
        "%%time\n",
        "if 'df' in globals(): del df\n",
        "\n",
        "for subject in tqdm(data.keys()):\n",
        "  if 'df' not in globals():\n",
        "    df = pd.DataFrame({\n",
        "        'subject' : [subject] * n_samples, \n",
        "        'actions' : data[subject]['actions'],\n",
        "        'rewards' : data[subject]['rewards'],\n",
        "        'true_alpha' : data[subject]['true_alpha'] * n_samples,\n",
        "        'true_beta' : data[subject]['true_beta'] * n_samples\n",
        "        })\n",
        "  else:\n",
        "    df2 = pd.DataFrame({\n",
        "        'subject' : [subject] * n_samples, \n",
        "        'actions' : data[subject]['actions'],\n",
        "        'rewards' : data[subject]['rewards'],\n",
        "        'true_alpha' : data[subject]['true_alpha'] * n_samples,\n",
        "        'true_beta' : data[subject]['true_beta'] * n_samples\n",
        "        })\n",
        "    df = df.append(df2, ignore_index=False)\n",
        "\n",
        "df.shape"
      ],
      "metadata": {
        "colab": {
          "base_uri": "https://localhost:8080/"
        },
        "id": "rmi3Z7EPYOxe",
        "outputId": "b1263e7c-7cdf-4cb0-8a95-3e7f88744d5f"
      },
      "execution_count": null,
      "outputs": [
        {
          "output_type": "stream",
          "name": "stderr",
          "text": [
            "100%|██████████| 100/100 [00:00<00:00, 578.52it/s]"
          ]
        },
        {
          "output_type": "stream",
          "name": "stdout",
          "text": [
            "CPU times: user 173 ms, sys: 4.52 ms, total: 177 ms\n",
            "Wall time: 179 ms\n"
          ]
        },
        {
          "output_type": "stream",
          "name": "stderr",
          "text": [
            "\n"
          ]
        }
      ]
    },
    {
      "cell_type": "code",
      "source": [
        "df.head(3)"
      ],
      "metadata": {
        "colab": {
          "base_uri": "https://localhost:8080/",
          "height": 143
        },
        "id": "rXOqHVC0YOvj",
        "outputId": "fbaa3b22-d3a3-472e-9656-e7149aebb1c0"
      },
      "execution_count": null,
      "outputs": [
        {
          "output_type": "execute_result",
          "data": {
            "text/html": [
              "\n",
              "  <div id=\"df-745b6bea-c4c6-4ecc-8cd1-0b6606baf862\">\n",
              "    <div class=\"colab-df-container\">\n",
              "      <div>\n",
              "<style scoped>\n",
              "    .dataframe tbody tr th:only-of-type {\n",
              "        vertical-align: middle;\n",
              "    }\n",
              "\n",
              "    .dataframe tbody tr th {\n",
              "        vertical-align: top;\n",
              "    }\n",
              "\n",
              "    .dataframe thead th {\n",
              "        text-align: right;\n",
              "    }\n",
              "</style>\n",
              "<table border=\"1\" class=\"dataframe\">\n",
              "  <thead>\n",
              "    <tr style=\"text-align: right;\">\n",
              "      <th></th>\n",
              "      <th>subject</th>\n",
              "      <th>actions</th>\n",
              "      <th>rewards</th>\n",
              "      <th>true_alpha</th>\n",
              "      <th>true_beta</th>\n",
              "      <th>subjects</th>\n",
              "    </tr>\n",
              "  </thead>\n",
              "  <tbody>\n",
              "    <tr>\n",
              "      <th>0</th>\n",
              "      <td>subject_0</td>\n",
              "      <td>1</td>\n",
              "      <td>0</td>\n",
              "      <td>50.360971</td>\n",
              "      <td>295.835581</td>\n",
              "      <td>0</td>\n",
              "    </tr>\n",
              "    <tr>\n",
              "      <th>1</th>\n",
              "      <td>subject_0</td>\n",
              "      <td>1</td>\n",
              "      <td>1</td>\n",
              "      <td>50.360971</td>\n",
              "      <td>295.835581</td>\n",
              "      <td>0</td>\n",
              "    </tr>\n",
              "    <tr>\n",
              "      <th>2</th>\n",
              "      <td>subject_0</td>\n",
              "      <td>2</td>\n",
              "      <td>0</td>\n",
              "      <td>50.360971</td>\n",
              "      <td>295.835581</td>\n",
              "      <td>0</td>\n",
              "    </tr>\n",
              "  </tbody>\n",
              "</table>\n",
              "</div>\n",
              "      <button class=\"colab-df-convert\" onclick=\"convertToInteractive('df-745b6bea-c4c6-4ecc-8cd1-0b6606baf862')\"\n",
              "              title=\"Convert this dataframe to an interactive table.\"\n",
              "              style=\"display:none;\">\n",
              "        \n",
              "  <svg xmlns=\"http://www.w3.org/2000/svg\" height=\"24px\"viewBox=\"0 0 24 24\"\n",
              "       width=\"24px\">\n",
              "    <path d=\"M0 0h24v24H0V0z\" fill=\"none\"/>\n",
              "    <path d=\"M18.56 5.44l.94 2.06.94-2.06 2.06-.94-2.06-.94-.94-2.06-.94 2.06-2.06.94zm-11 1L8.5 8.5l.94-2.06 2.06-.94-2.06-.94L8.5 2.5l-.94 2.06-2.06.94zm10 10l.94 2.06.94-2.06 2.06-.94-2.06-.94-.94-2.06-.94 2.06-2.06.94z\"/><path d=\"M17.41 7.96l-1.37-1.37c-.4-.4-.92-.59-1.43-.59-.52 0-1.04.2-1.43.59L10.3 9.45l-7.72 7.72c-.78.78-.78 2.05 0 2.83L4 21.41c.39.39.9.59 1.41.59.51 0 1.02-.2 1.41-.59l7.78-7.78 2.81-2.81c.8-.78.8-2.07 0-2.86zM5.41 20L4 18.59l7.72-7.72 1.47 1.35L5.41 20z\"/>\n",
              "  </svg>\n",
              "      </button>\n",
              "      \n",
              "  <style>\n",
              "    .colab-df-container {\n",
              "      display:flex;\n",
              "      flex-wrap:wrap;\n",
              "      gap: 12px;\n",
              "    }\n",
              "\n",
              "    .colab-df-convert {\n",
              "      background-color: #E8F0FE;\n",
              "      border: none;\n",
              "      border-radius: 50%;\n",
              "      cursor: pointer;\n",
              "      display: none;\n",
              "      fill: #1967D2;\n",
              "      height: 32px;\n",
              "      padding: 0 0 0 0;\n",
              "      width: 32px;\n",
              "    }\n",
              "\n",
              "    .colab-df-convert:hover {\n",
              "      background-color: #E2EBFA;\n",
              "      box-shadow: 0px 1px 2px rgba(60, 64, 67, 0.3), 0px 1px 3px 1px rgba(60, 64, 67, 0.15);\n",
              "      fill: #174EA6;\n",
              "    }\n",
              "\n",
              "    [theme=dark] .colab-df-convert {\n",
              "      background-color: #3B4455;\n",
              "      fill: #D2E3FC;\n",
              "    }\n",
              "\n",
              "    [theme=dark] .colab-df-convert:hover {\n",
              "      background-color: #434B5C;\n",
              "      box-shadow: 0px 1px 3px 1px rgba(0, 0, 0, 0.15);\n",
              "      filter: drop-shadow(0px 1px 2px rgba(0, 0, 0, 0.3));\n",
              "      fill: #FFFFFF;\n",
              "    }\n",
              "  </style>\n",
              "\n",
              "      <script>\n",
              "        const buttonEl =\n",
              "          document.querySelector('#df-745b6bea-c4c6-4ecc-8cd1-0b6606baf862 button.colab-df-convert');\n",
              "        buttonEl.style.display =\n",
              "          google.colab.kernel.accessAllowed ? 'block' : 'none';\n",
              "\n",
              "        async function convertToInteractive(key) {\n",
              "          const element = document.querySelector('#df-745b6bea-c4c6-4ecc-8cd1-0b6606baf862');\n",
              "          const dataTable =\n",
              "            await google.colab.kernel.invokeFunction('convertToInteractive',\n",
              "                                                     [key], {});\n",
              "          if (!dataTable) return;\n",
              "\n",
              "          const docLinkHtml = 'Like what you see? Visit the ' +\n",
              "            '<a target=\"_blank\" href=https://colab.research.google.com/notebooks/data_table.ipynb>data table notebook</a>'\n",
              "            + ' to learn more about interactive tables.';\n",
              "          element.innerHTML = '';\n",
              "          dataTable['output_type'] = 'display_data';\n",
              "          await google.colab.output.renderOutput(dataTable, element);\n",
              "          const docLink = document.createElement('div');\n",
              "          docLink.innerHTML = docLinkHtml;\n",
              "          element.appendChild(docLink);\n",
              "        }\n",
              "      </script>\n",
              "    </div>\n",
              "  </div>\n",
              "  "
            ],
            "text/plain": [
              "     subject  actions  rewards  true_alpha   true_beta  subjects\n",
              "0  subject_0        1        0   50.360971  295.835581         0\n",
              "1  subject_0        1        1   50.360971  295.835581         0\n",
              "2  subject_0        2        0   50.360971  295.835581         0"
            ]
          },
          "metadata": {},
          "execution_count": 61
        }
      ]
    },
    {
      "cell_type": "code",
      "source": [
        ""
      ],
      "metadata": {
        "id": "GGjyThpmYOtV"
      },
      "execution_count": null,
      "outputs": []
    },
    {
      "cell_type": "code",
      "source": [
        "\n",
        "subject_idxs, subjects = pd.factorize(df.subject)\n",
        "coords = {\n",
        "    \"subject\": subjects,\n",
        "    \"sub_id\" : np.arange(len(subject_idxs)),\n",
        "}\n",
        "coords\n"
      ],
      "metadata": {
        "colab": {
          "base_uri": "https://localhost:8080/"
        },
        "id": "crYlGAlXYOrC",
        "outputId": "bb7cfe7d-acd3-4d4f-bbc6-ede680cfda9d"
      },
      "execution_count": null,
      "outputs": [
        {
          "output_type": "execute_result",
          "data": {
            "text/plain": [
              "{'sub_id': array([   0,    1,    2, ..., 9997, 9998, 9999]),\n",
              " 'subject': Index(['subject_0', 'subject_1', 'subject_2', 'subject_3', 'subject_4',\n",
              "        'subject_5', 'subject_6', 'subject_7', 'subject_8', 'subject_9',\n",
              "        'subject_10', 'subject_11', 'subject_12', 'subject_13', 'subject_14',\n",
              "        'subject_15', 'subject_16', 'subject_17', 'subject_18', 'subject_19',\n",
              "        'subject_20', 'subject_21', 'subject_22', 'subject_23', 'subject_24',\n",
              "        'subject_25', 'subject_26', 'subject_27', 'subject_28', 'subject_29',\n",
              "        'subject_30', 'subject_31', 'subject_32', 'subject_33', 'subject_34',\n",
              "        'subject_35', 'subject_36', 'subject_37', 'subject_38', 'subject_39',\n",
              "        'subject_40', 'subject_41', 'subject_42', 'subject_43', 'subject_44',\n",
              "        'subject_45', 'subject_46', 'subject_47', 'subject_48', 'subject_49',\n",
              "        'subject_50', 'subject_51', 'subject_52', 'subject_53', 'subject_54',\n",
              "        'subject_55', 'subject_56', 'subject_57', 'subject_58', 'subject_59',\n",
              "        'subject_60', 'subject_61', 'subject_62', 'subject_63', 'subject_64',\n",
              "        'subject_65', 'subject_66', 'subject_67', 'subject_68', 'subject_69',\n",
              "        'subject_70', 'subject_71', 'subject_72', 'subject_73', 'subject_74',\n",
              "        'subject_75', 'subject_76', 'subject_77', 'subject_78', 'subject_79',\n",
              "        'subject_80', 'subject_81', 'subject_82', 'subject_83', 'subject_84',\n",
              "        'subject_85', 'subject_86', 'subject_87', 'subject_88', 'subject_89',\n",
              "        'subject_90', 'subject_91', 'subject_92', 'subject_93', 'subject_94',\n",
              "        'subject_95', 'subject_96', 'subject_97', 'subject_98', 'subject_99'],\n",
              "       dtype='object')}"
            ]
          },
          "metadata": {},
          "execution_count": 9
        }
      ]
    },
    {
      "cell_type": "code",
      "source": [
        "%%time\n",
        "# Bayes RL  ==================================================================================================================================*\n",
        "\n",
        "\n",
        "with pm.Model(coords=coords) as hierarchical_bayes_RL:\n",
        "\n",
        "  # Data\n",
        "  subject_idx = pm.Data(\"subject_idx\", subject_idxs, dims=\"sub_id\")\n",
        "\n",
        "  # data\n",
        "  actions_  = pm.Data('actions', df.actions.values)\n",
        "  rewards_  = pm.Data('rewards', df.rewards.values)\n",
        "\n",
        "\n",
        "  # Hyperpriors\n",
        "  a_alpha = pm.HalfNormal(\"a_alpha\", 5.0)\n",
        "  b_alpha = pm.HalfNormal(\"b_alpha\", 5.0)\n",
        "  mu_b    = pm.HalfNormal('mu_b',   10.0)\n",
        "  sigma_b = pm.HalfNormal(\"sigma_b\", 5.0)\n",
        " \n",
        "\n",
        "  # Intercept for each county, distributed around group mean mu_a\n",
        "  # Above we just set mu and sd to a fixed value while here we\n",
        "  # plug in a common group distribution for all a and b (which are\n",
        "  # vectors of length n_counties).\n",
        "\n",
        "  # parameters\n",
        "  alpha = pm.Beta('alpha', a_alpha,  b_alpha, dims=\"subject\")\n",
        "  beta = pm.Normal(\"beta\", mu=mu_b, sigma=sigma_b, dims=\"subject\")\n",
        "\n",
        "\n",
        "  # model \n",
        "  # init Qs\n",
        "  Qs = 0.3333 * tt.ones((3, 100), dtype='float64')\n",
        "\n",
        "\n",
        "  # Compute the Q values for each trial\n",
        "  # Qs, _ = theano.scan(\n",
        "  #     # fn=lambda action, reward, Qs, alpha: Qs[action],\n",
        "  #     fn = lambda action, reward, Qs, alpha: tt.set_subtensor(Qs[action], Qs[action] + alpha * (reward - Qs[action])),\n",
        "  #     sequences=[actions_[subject_idx], rewards_[subject_idx]],\n",
        "  #     outputs_info=[Qs],\n",
        "  #     non_sequences=[alpha]\n",
        "  # )\n",
        "  Qs, _ = theano.scan(\n",
        "      # fn=lambda action, reward, Qs, alpha: Qs[action],\n",
        "      fn = lambda action, reward, alpha, Qs: tt.set_subtensor(Qs[0,0], Qs[0,0]),\n",
        "      sequences=[df2.actions, df2.rewards, alpha[subject_idx]],\n",
        "      outputs_info=[Qs]\n",
        "  )\n",
        "\n",
        "  \n",
        "\n",
        "\n",
        "  BQs = beta[subject_idx]  * Qs[:, subject_idx]\n",
        "  pi =  tt.nnet.softmax(BQs)\n",
        "  like = pm.Categorical('P[A]', p=pi, observed=actions_, dims='sub_id')\n",
        "\n",
        "    # opt\n",
        "  # trace = pm.sample(tune=1000, chains=2, target_accept=0.85) # tune=5000, target_accept=0.9 njobs=4 ,target_accept=0.99\n",
        "  # idata = az.from_pymc3(trace)\n",
        "  # pm.traceplot(idata)\n",
        "\n",
        "pm.model_to_graphviz(hierarchical_bayes_RL)\n",
        "  # Bayes RL  ==================================================================================================================================*"
      ],
      "metadata": {
        "colab": {
          "base_uri": "https://localhost:8080/",
          "height": 547
        },
        "id": "XDtWF8nwT_ot",
        "outputId": "a381c9bd-b114-4af3-f409-40674ad01415"
      },
      "execution_count": null,
      "outputs": [
        {
          "output_type": "error",
          "ename": "TypeError",
          "evalue": "ignored",
          "traceback": [
            "\u001b[0;31m---------------------------------------------------------------------------\u001b[0m",
            "\u001b[0;31mTypeError\u001b[0m                                 Traceback (most recent call last)",
            "\u001b[0;32m<ipython-input-299-4511b0fe8a64>\u001b[0m in \u001b[0;36m<module>\u001b[0;34m()\u001b[0m\n\u001b[0;32m----> 1\u001b[0;31m \u001b[0mget_ipython\u001b[0m\u001b[0;34m(\u001b[0m\u001b[0;34m)\u001b[0m\u001b[0;34m.\u001b[0m\u001b[0mrun_cell_magic\u001b[0m\u001b[0;34m(\u001b[0m\u001b[0;34m'time'\u001b[0m\u001b[0;34m,\u001b[0m \u001b[0;34m''\u001b[0m\u001b[0;34m,\u001b[0m \u001b[0;34m'# Bayes RL  ==================================================================================================================================*\\n\\n\\nwith pm.Model(coords=coords) as hierarchical_bayes_RL:\\n\\n  # Data\\n  subject_idx = pm.Data(\"subject_idx\", subject_idxs, dims=\"sub_id\")\\n\\n  # data\\n  actions_  = pm.Data(\\'actions\\', df.actions.values)\\n  rewards_  = pm.Data(\\'rewards\\', df.rewards.values)\\n\\n\\n  # Hyperpriors\\n  a_alpha = pm.HalfNormal(\"a_alpha\", 5.0)\\n  b_alpha = pm.HalfNormal(\"b_alpha\", 5.0)\\n  mu_b    = pm.HalfNormal(\\'mu_b\\',   10.0)\\n  sigma_b = pm.HalfNormal(\"sigma_b\", 5.0)\\n \\n\\n  # Intercept for each county, distributed around group mean mu_a\\n  # Above we just set mu and sd to a fixed value while here we\\n  # plug in a common group distribution for all a and b (which are\\n  # vectors of length n_counties).\\n\\n  # parameters\\n  alpha = pm.Beta(\\'alpha\\', a_alpha,  b_alpha, dims=\"subject\")\\n  beta = pm.Normal(\"beta\", mu=mu_b, sigma=sigma_b, dims=\"subject\")\\n\\n\\n  # model \\n  # init Qs\\n  Qs = 0.3333 * tt.ones((3, 100), dtype=\\'float64\\')\\n\\n\\n  # Compute the Q values for each trial\\n  # Qs, _ = theano.scan(\\n  #     # fn=lambda action, reward, Qs, alpha: Qs[action],\\n  #     fn = lambda action, reward, Qs, alpha: tt.set_subtensor(Qs[action], Qs[action] + alpha * (reward - Qs[acti...\n\u001b[0m",
            "\u001b[0;32m/usr/local/lib/python3.7/dist-packages/IPython/core/interactiveshell.py\u001b[0m in \u001b[0;36mrun_cell_magic\u001b[0;34m(self, magic_name, line, cell)\u001b[0m\n\u001b[1;32m   2115\u001b[0m             \u001b[0mmagic_arg_s\u001b[0m \u001b[0;34m=\u001b[0m \u001b[0mself\u001b[0m\u001b[0;34m.\u001b[0m\u001b[0mvar_expand\u001b[0m\u001b[0;34m(\u001b[0m\u001b[0mline\u001b[0m\u001b[0;34m,\u001b[0m \u001b[0mstack_depth\u001b[0m\u001b[0;34m)\u001b[0m\u001b[0;34m\u001b[0m\u001b[0;34m\u001b[0m\u001b[0m\n\u001b[1;32m   2116\u001b[0m             \u001b[0;32mwith\u001b[0m \u001b[0mself\u001b[0m\u001b[0;34m.\u001b[0m\u001b[0mbuiltin_trap\u001b[0m\u001b[0;34m:\u001b[0m\u001b[0;34m\u001b[0m\u001b[0;34m\u001b[0m\u001b[0m\n\u001b[0;32m-> 2117\u001b[0;31m                 \u001b[0mresult\u001b[0m \u001b[0;34m=\u001b[0m \u001b[0mfn\u001b[0m\u001b[0;34m(\u001b[0m\u001b[0mmagic_arg_s\u001b[0m\u001b[0;34m,\u001b[0m \u001b[0mcell\u001b[0m\u001b[0;34m)\u001b[0m\u001b[0;34m\u001b[0m\u001b[0;34m\u001b[0m\u001b[0m\n\u001b[0m\u001b[1;32m   2118\u001b[0m             \u001b[0;32mreturn\u001b[0m \u001b[0mresult\u001b[0m\u001b[0;34m\u001b[0m\u001b[0;34m\u001b[0m\u001b[0m\n\u001b[1;32m   2119\u001b[0m \u001b[0;34m\u001b[0m\u001b[0m\n",
            "\u001b[0;32m<decorator-gen-53>\u001b[0m in \u001b[0;36mtime\u001b[0;34m(self, line, cell, local_ns)\u001b[0m\n",
            "\u001b[0;32m/usr/local/lib/python3.7/dist-packages/IPython/core/magic.py\u001b[0m in \u001b[0;36m<lambda>\u001b[0;34m(f, *a, **k)\u001b[0m\n\u001b[1;32m    186\u001b[0m     \u001b[0;31m# but it's overkill for just that one bit of state.\u001b[0m\u001b[0;34m\u001b[0m\u001b[0;34m\u001b[0m\u001b[0;34m\u001b[0m\u001b[0m\n\u001b[1;32m    187\u001b[0m     \u001b[0;32mdef\u001b[0m \u001b[0mmagic_deco\u001b[0m\u001b[0;34m(\u001b[0m\u001b[0marg\u001b[0m\u001b[0;34m)\u001b[0m\u001b[0;34m:\u001b[0m\u001b[0;34m\u001b[0m\u001b[0;34m\u001b[0m\u001b[0m\n\u001b[0;32m--> 188\u001b[0;31m         \u001b[0mcall\u001b[0m \u001b[0;34m=\u001b[0m \u001b[0;32mlambda\u001b[0m \u001b[0mf\u001b[0m\u001b[0;34m,\u001b[0m \u001b[0;34m*\u001b[0m\u001b[0ma\u001b[0m\u001b[0;34m,\u001b[0m \u001b[0;34m**\u001b[0m\u001b[0mk\u001b[0m\u001b[0;34m:\u001b[0m \u001b[0mf\u001b[0m\u001b[0;34m(\u001b[0m\u001b[0;34m*\u001b[0m\u001b[0ma\u001b[0m\u001b[0;34m,\u001b[0m \u001b[0;34m**\u001b[0m\u001b[0mk\u001b[0m\u001b[0;34m)\u001b[0m\u001b[0;34m\u001b[0m\u001b[0;34m\u001b[0m\u001b[0m\n\u001b[0m\u001b[1;32m    189\u001b[0m \u001b[0;34m\u001b[0m\u001b[0m\n\u001b[1;32m    190\u001b[0m         \u001b[0;32mif\u001b[0m \u001b[0mcallable\u001b[0m\u001b[0;34m(\u001b[0m\u001b[0marg\u001b[0m\u001b[0;34m)\u001b[0m\u001b[0;34m:\u001b[0m\u001b[0;34m\u001b[0m\u001b[0;34m\u001b[0m\u001b[0m\n",
            "\u001b[0;32m/usr/local/lib/python3.7/dist-packages/IPython/core/magics/execution.py\u001b[0m in \u001b[0;36mtime\u001b[0;34m(self, line, cell, local_ns)\u001b[0m\n\u001b[1;32m   1191\u001b[0m         \u001b[0;32melse\u001b[0m\u001b[0;34m:\u001b[0m\u001b[0;34m\u001b[0m\u001b[0;34m\u001b[0m\u001b[0m\n\u001b[1;32m   1192\u001b[0m             \u001b[0mst\u001b[0m \u001b[0;34m=\u001b[0m \u001b[0mclock2\u001b[0m\u001b[0;34m(\u001b[0m\u001b[0;34m)\u001b[0m\u001b[0;34m\u001b[0m\u001b[0;34m\u001b[0m\u001b[0m\n\u001b[0;32m-> 1193\u001b[0;31m             \u001b[0mexec\u001b[0m\u001b[0;34m(\u001b[0m\u001b[0mcode\u001b[0m\u001b[0;34m,\u001b[0m \u001b[0mglob\u001b[0m\u001b[0;34m,\u001b[0m \u001b[0mlocal_ns\u001b[0m\u001b[0;34m)\u001b[0m\u001b[0;34m\u001b[0m\u001b[0;34m\u001b[0m\u001b[0m\n\u001b[0m\u001b[1;32m   1194\u001b[0m             \u001b[0mend\u001b[0m \u001b[0;34m=\u001b[0m \u001b[0mclock2\u001b[0m\u001b[0;34m(\u001b[0m\u001b[0;34m)\u001b[0m\u001b[0;34m\u001b[0m\u001b[0;34m\u001b[0m\u001b[0m\n\u001b[1;32m   1195\u001b[0m             \u001b[0mout\u001b[0m \u001b[0;34m=\u001b[0m \u001b[0;32mNone\u001b[0m\u001b[0;34m\u001b[0m\u001b[0;34m\u001b[0m\u001b[0m\n",
            "\u001b[0;32m<timed exec>\u001b[0m in \u001b[0;36m<module>\u001b[0;34m()\u001b[0m\n",
            "\u001b[0;32m/usr/local/lib/python3.7/dist-packages/theano/scan/basic.py\u001b[0m in \u001b[0;36mscan\u001b[0;34m(fn, sequences, outputs_info, non_sequences, n_steps, truncate_gradient, go_backwards, mode, name, profile, allow_gc, strict, return_list)\u001b[0m\n\u001b[1;32m    562\u001b[0m         \u001b[0mactual_n_steps\u001b[0m \u001b[0;34m=\u001b[0m \u001b[0mtt\u001b[0m\u001b[0;34m.\u001b[0m\u001b[0mas_tensor\u001b[0m\u001b[0;34m(\u001b[0m\u001b[0mn_steps\u001b[0m\u001b[0;34m)\u001b[0m\u001b[0;34m\u001b[0m\u001b[0;34m\u001b[0m\u001b[0m\n\u001b[1;32m    563\u001b[0m \u001b[0;34m\u001b[0m\u001b[0m\n\u001b[0;32m--> 564\u001b[0;31m     \u001b[0mscan_seqs\u001b[0m \u001b[0;34m=\u001b[0m \u001b[0;34m[\u001b[0m\u001b[0mseq\u001b[0m\u001b[0;34m[\u001b[0m\u001b[0;34m:\u001b[0m\u001b[0mactual_n_steps\u001b[0m\u001b[0;34m]\u001b[0m \u001b[0;32mfor\u001b[0m \u001b[0mseq\u001b[0m \u001b[0;32min\u001b[0m \u001b[0mscan_seqs\u001b[0m\u001b[0;34m]\u001b[0m\u001b[0;34m\u001b[0m\u001b[0;34m\u001b[0m\u001b[0m\n\u001b[0m\u001b[1;32m    565\u001b[0m     \u001b[0;31m# Conventions :\u001b[0m\u001b[0;34m\u001b[0m\u001b[0;34m\u001b[0m\u001b[0;34m\u001b[0m\u001b[0m\n\u001b[1;32m    566\u001b[0m     \u001b[0;31m#   mit_mot = multiple input taps, multiple output taps ( only provided\u001b[0m\u001b[0;34m\u001b[0m\u001b[0;34m\u001b[0m\u001b[0;34m\u001b[0m\u001b[0m\n",
            "\u001b[0;32m/usr/local/lib/python3.7/dist-packages/theano/scan/basic.py\u001b[0m in \u001b[0;36m<listcomp>\u001b[0;34m(.0)\u001b[0m\n\u001b[1;32m    562\u001b[0m         \u001b[0mactual_n_steps\u001b[0m \u001b[0;34m=\u001b[0m \u001b[0mtt\u001b[0m\u001b[0;34m.\u001b[0m\u001b[0mas_tensor\u001b[0m\u001b[0;34m(\u001b[0m\u001b[0mn_steps\u001b[0m\u001b[0;34m)\u001b[0m\u001b[0;34m\u001b[0m\u001b[0;34m\u001b[0m\u001b[0m\n\u001b[1;32m    563\u001b[0m \u001b[0;34m\u001b[0m\u001b[0m\n\u001b[0;32m--> 564\u001b[0;31m     \u001b[0mscan_seqs\u001b[0m \u001b[0;34m=\u001b[0m \u001b[0;34m[\u001b[0m\u001b[0mseq\u001b[0m\u001b[0;34m[\u001b[0m\u001b[0;34m:\u001b[0m\u001b[0mactual_n_steps\u001b[0m\u001b[0;34m]\u001b[0m \u001b[0;32mfor\u001b[0m \u001b[0mseq\u001b[0m \u001b[0;32min\u001b[0m \u001b[0mscan_seqs\u001b[0m\u001b[0;34m]\u001b[0m\u001b[0;34m\u001b[0m\u001b[0;34m\u001b[0m\u001b[0m\n\u001b[0m\u001b[1;32m    565\u001b[0m     \u001b[0;31m# Conventions :\u001b[0m\u001b[0;34m\u001b[0m\u001b[0;34m\u001b[0m\u001b[0;34m\u001b[0m\u001b[0m\n\u001b[1;32m    566\u001b[0m     \u001b[0;31m#   mit_mot = multiple input taps, multiple output taps ( only provided\u001b[0m\u001b[0;34m\u001b[0m\u001b[0;34m\u001b[0m\u001b[0;34m\u001b[0m\u001b[0m\n",
            "\u001b[0;32m/usr/local/lib/python3.7/dist-packages/pandas/core/series.py\u001b[0m in \u001b[0;36m__getitem__\u001b[0;34m(self, key)\u001b[0m\n\u001b[1;32m    904\u001b[0m             \u001b[0;32mreturn\u001b[0m \u001b[0mself\u001b[0m\u001b[0;34m.\u001b[0m\u001b[0m_get_values\u001b[0m\u001b[0;34m(\u001b[0m\u001b[0mkey\u001b[0m\u001b[0;34m)\u001b[0m\u001b[0;34m\u001b[0m\u001b[0;34m\u001b[0m\u001b[0m\n\u001b[1;32m    905\u001b[0m \u001b[0;34m\u001b[0m\u001b[0m\n\u001b[0;32m--> 906\u001b[0;31m         \u001b[0;32mreturn\u001b[0m \u001b[0mself\u001b[0m\u001b[0;34m.\u001b[0m\u001b[0m_get_with\u001b[0m\u001b[0;34m(\u001b[0m\u001b[0mkey\u001b[0m\u001b[0;34m)\u001b[0m\u001b[0;34m\u001b[0m\u001b[0;34m\u001b[0m\u001b[0m\n\u001b[0m\u001b[1;32m    907\u001b[0m \u001b[0;34m\u001b[0m\u001b[0m\n\u001b[1;32m    908\u001b[0m     \u001b[0;32mdef\u001b[0m \u001b[0m_get_with\u001b[0m\u001b[0;34m(\u001b[0m\u001b[0mself\u001b[0m\u001b[0;34m,\u001b[0m \u001b[0mkey\u001b[0m\u001b[0;34m)\u001b[0m\u001b[0;34m:\u001b[0m\u001b[0;34m\u001b[0m\u001b[0;34m\u001b[0m\u001b[0m\n",
            "\u001b[0;32m/usr/local/lib/python3.7/dist-packages/pandas/core/series.py\u001b[0m in \u001b[0;36m_get_with\u001b[0;34m(self, key)\u001b[0m\n\u001b[1;32m    911\u001b[0m             \u001b[0;31m# _convert_slice_indexer to determine if this slice is positional\u001b[0m\u001b[0;34m\u001b[0m\u001b[0;34m\u001b[0m\u001b[0;34m\u001b[0m\u001b[0m\n\u001b[1;32m    912\u001b[0m             \u001b[0;31m#  or label based, and if the latter, convert to positional\u001b[0m\u001b[0;34m\u001b[0m\u001b[0;34m\u001b[0m\u001b[0;34m\u001b[0m\u001b[0m\n\u001b[0;32m--> 913\u001b[0;31m             \u001b[0mslobj\u001b[0m \u001b[0;34m=\u001b[0m \u001b[0mself\u001b[0m\u001b[0;34m.\u001b[0m\u001b[0mindex\u001b[0m\u001b[0;34m.\u001b[0m\u001b[0m_convert_slice_indexer\u001b[0m\u001b[0;34m(\u001b[0m\u001b[0mkey\u001b[0m\u001b[0;34m,\u001b[0m \u001b[0mkind\u001b[0m\u001b[0;34m=\u001b[0m\u001b[0;34m\"getitem\"\u001b[0m\u001b[0;34m)\u001b[0m\u001b[0;34m\u001b[0m\u001b[0;34m\u001b[0m\u001b[0m\n\u001b[0m\u001b[1;32m    914\u001b[0m             \u001b[0;32mreturn\u001b[0m \u001b[0mself\u001b[0m\u001b[0;34m.\u001b[0m\u001b[0m_slice\u001b[0m\u001b[0;34m(\u001b[0m\u001b[0mslobj\u001b[0m\u001b[0;34m)\u001b[0m\u001b[0;34m\u001b[0m\u001b[0;34m\u001b[0m\u001b[0m\n\u001b[1;32m    915\u001b[0m         \u001b[0;32melif\u001b[0m \u001b[0misinstance\u001b[0m\u001b[0;34m(\u001b[0m\u001b[0mkey\u001b[0m\u001b[0;34m,\u001b[0m \u001b[0mABCDataFrame\u001b[0m\u001b[0;34m)\u001b[0m\u001b[0;34m:\u001b[0m\u001b[0;34m\u001b[0m\u001b[0;34m\u001b[0m\u001b[0m\n",
            "\u001b[0;32m/usr/local/lib/python3.7/dist-packages/pandas/core/indexes/base.py\u001b[0m in \u001b[0;36m_convert_slice_indexer\u001b[0;34m(self, key, kind)\u001b[0m\n\u001b[1;32m   3158\u001b[0m             \u001b[0;32mif\u001b[0m \u001b[0mself\u001b[0m\u001b[0;34m.\u001b[0m\u001b[0mis_integer\u001b[0m\u001b[0;34m(\u001b[0m\u001b[0;34m)\u001b[0m \u001b[0;32mor\u001b[0m \u001b[0mis_index_slice\u001b[0m\u001b[0;34m:\u001b[0m\u001b[0;34m\u001b[0m\u001b[0;34m\u001b[0m\u001b[0m\n\u001b[1;32m   3159\u001b[0m                 \u001b[0mself\u001b[0m\u001b[0;34m.\u001b[0m\u001b[0m_validate_indexer\u001b[0m\u001b[0;34m(\u001b[0m\u001b[0;34m\"slice\"\u001b[0m\u001b[0;34m,\u001b[0m \u001b[0mkey\u001b[0m\u001b[0;34m.\u001b[0m\u001b[0mstart\u001b[0m\u001b[0;34m,\u001b[0m \u001b[0;34m\"getitem\"\u001b[0m\u001b[0;34m)\u001b[0m\u001b[0;34m\u001b[0m\u001b[0;34m\u001b[0m\u001b[0m\n\u001b[0;32m-> 3160\u001b[0;31m                 \u001b[0mself\u001b[0m\u001b[0;34m.\u001b[0m\u001b[0m_validate_indexer\u001b[0m\u001b[0;34m(\u001b[0m\u001b[0;34m\"slice\"\u001b[0m\u001b[0;34m,\u001b[0m \u001b[0mkey\u001b[0m\u001b[0;34m.\u001b[0m\u001b[0mstop\u001b[0m\u001b[0;34m,\u001b[0m \u001b[0;34m\"getitem\"\u001b[0m\u001b[0;34m)\u001b[0m\u001b[0;34m\u001b[0m\u001b[0;34m\u001b[0m\u001b[0m\n\u001b[0m\u001b[1;32m   3161\u001b[0m                 \u001b[0mself\u001b[0m\u001b[0;34m.\u001b[0m\u001b[0m_validate_indexer\u001b[0m\u001b[0;34m(\u001b[0m\u001b[0;34m\"slice\"\u001b[0m\u001b[0;34m,\u001b[0m \u001b[0mkey\u001b[0m\u001b[0;34m.\u001b[0m\u001b[0mstep\u001b[0m\u001b[0;34m,\u001b[0m \u001b[0;34m\"getitem\"\u001b[0m\u001b[0;34m)\u001b[0m\u001b[0;34m\u001b[0m\u001b[0;34m\u001b[0m\u001b[0m\n\u001b[1;32m   3162\u001b[0m                 \u001b[0;32mreturn\u001b[0m \u001b[0mkey\u001b[0m\u001b[0;34m\u001b[0m\u001b[0;34m\u001b[0m\u001b[0m\n",
            "\u001b[0;32m/usr/local/lib/python3.7/dist-packages/pandas/core/indexes/base.py\u001b[0m in \u001b[0;36m_validate_indexer\u001b[0;34m(self, form, key, kind)\u001b[0m\n\u001b[1;32m   4998\u001b[0m             \u001b[0;32mpass\u001b[0m\u001b[0;34m\u001b[0m\u001b[0;34m\u001b[0m\u001b[0m\n\u001b[1;32m   4999\u001b[0m         \u001b[0;32melse\u001b[0m\u001b[0;34m:\u001b[0m\u001b[0;34m\u001b[0m\u001b[0;34m\u001b[0m\u001b[0m\n\u001b[0;32m-> 5000\u001b[0;31m             \u001b[0mself\u001b[0m\u001b[0;34m.\u001b[0m\u001b[0m_invalid_indexer\u001b[0m\u001b[0;34m(\u001b[0m\u001b[0mform\u001b[0m\u001b[0;34m,\u001b[0m \u001b[0mkey\u001b[0m\u001b[0;34m)\u001b[0m\u001b[0;34m\u001b[0m\u001b[0;34m\u001b[0m\u001b[0m\n\u001b[0m\u001b[1;32m   5001\u001b[0m \u001b[0;34m\u001b[0m\u001b[0m\n\u001b[1;32m   5002\u001b[0m     \u001b[0;32mdef\u001b[0m \u001b[0m_maybe_cast_slice_bound\u001b[0m\u001b[0;34m(\u001b[0m\u001b[0mself\u001b[0m\u001b[0;34m,\u001b[0m \u001b[0mlabel\u001b[0m\u001b[0;34m,\u001b[0m \u001b[0mside\u001b[0m\u001b[0;34m:\u001b[0m \u001b[0mstr_t\u001b[0m\u001b[0;34m,\u001b[0m \u001b[0mkind\u001b[0m\u001b[0;34m)\u001b[0m\u001b[0;34m:\u001b[0m\u001b[0;34m\u001b[0m\u001b[0;34m\u001b[0m\u001b[0m\n",
            "\u001b[0;32m/usr/local/lib/python3.7/dist-packages/pandas/core/indexes/base.py\u001b[0m in \u001b[0;36m_invalid_indexer\u001b[0;34m(self, form, key)\u001b[0m\n\u001b[1;32m   3269\u001b[0m         \"\"\"\n\u001b[1;32m   3270\u001b[0m         raise TypeError(\n\u001b[0;32m-> 3271\u001b[0;31m             \u001b[0;34mf\"cannot do {form} indexing on {type(self).__name__} with these \"\u001b[0m\u001b[0;34m\u001b[0m\u001b[0;34m\u001b[0m\u001b[0m\n\u001b[0m\u001b[1;32m   3272\u001b[0m             \u001b[0;34mf\"indexers [{key}] of type {type(key).__name__}\"\u001b[0m\u001b[0;34m\u001b[0m\u001b[0;34m\u001b[0m\u001b[0m\n\u001b[1;32m   3273\u001b[0m         )\n",
            "\u001b[0;31mTypeError\u001b[0m: cannot do slice indexing on RangeIndex with these indexers [Elemwise{scalar_minimum,no_inplace}.0] of type TensorVariable"
          ]
        }
      ]
    },
    {
      "cell_type": "code",
      "source": [
        "# ?theano.scan\n",
        "pm.model_to_graphviz(hierarchical_bayes_RL)"
      ],
      "metadata": {
        "id": "adNbjX62FzuT",
        "colab": {
          "base_uri": "https://localhost:8080/",
          "height": 286
        },
        "outputId": "8a3db8bb-65ba-4074-dd2b-1fc762387c61"
      },
      "execution_count": null,
      "outputs": [
        {
          "output_type": "execute_result",
          "data": {
            "text/plain": [
              "<graphviz.dot.Digraph at 0x7feb202c9650>"
            ],
            "image/svg+xml": "<?xml version=\"1.0\" encoding=\"UTF-8\" standalone=\"no\"?>\n<!DOCTYPE svg PUBLIC \"-//W3C//DTD SVG 1.1//EN\"\n \"http://www.w3.org/Graphics/SVG/1.1/DTD/svg11.dtd\">\n<!-- Generated by graphviz version 2.40.1 (20161225.0304)\n -->\n<!-- Title: %3 Pages: 1 -->\n<svg width=\"660pt\" height=\"199pt\"\n viewBox=\"0.00 0.00 660.10 198.93\" xmlns=\"http://www.w3.org/2000/svg\" xmlns:xlink=\"http://www.w3.org/1999/xlink\">\n<g id=\"graph0\" class=\"graph\" transform=\"scale(1 1) rotate(0) translate(4 194.93)\">\n<title>%3</title>\n<polygon fill=\"#ffffff\" stroke=\"transparent\" points=\"-4,4 -4,-194.93 656.1041,-194.93 656.1041,4 -4,4\"/>\n<g id=\"clust1\" class=\"cluster\">\n<title>cluster100</title>\n<path fill=\"none\" stroke=\"#000000\" d=\"M20,-90.93C20,-90.93 96,-90.93 96,-90.93 102,-90.93 108,-96.93 108,-102.93 108,-102.93 108,-170.93 108,-170.93 108,-176.93 102,-182.93 96,-182.93 96,-182.93 20,-182.93 20,-182.93 14,-182.93 8,-176.93 8,-170.93 8,-170.93 8,-102.93 8,-102.93 8,-96.93 14,-90.93 20,-90.93\"/>\n<text text-anchor=\"middle\" x=\"88.5\" y=\"-98.73\" font-family=\"Times,serif\" font-size=\"14.00\" fill=\"#000000\">100</text>\n</g>\n<!-- subject_idx -->\n<g id=\"node1\" class=\"node\">\n<title>subject_idx</title>\n<path fill=\"#d3d3d3\" stroke=\"#000000\" d=\"M87.5,-174.93C87.5,-174.93 28.5,-174.93 28.5,-174.93 22.5,-174.93 16.5,-168.93 16.5,-162.93 16.5,-162.93 16.5,-133.93 16.5,-133.93 16.5,-127.93 22.5,-121.93 28.5,-121.93 28.5,-121.93 87.5,-121.93 87.5,-121.93 93.5,-121.93 99.5,-127.93 99.5,-133.93 99.5,-133.93 99.5,-162.93 99.5,-162.93 99.5,-168.93 93.5,-174.93 87.5,-174.93\"/>\n<text text-anchor=\"middle\" x=\"58\" y=\"-159.73\" font-family=\"Times,serif\" font-size=\"14.00\" fill=\"#000000\">subject_idx</text>\n<text text-anchor=\"middle\" x=\"58\" y=\"-144.73\" font-family=\"Times,serif\" font-size=\"14.00\" fill=\"#000000\">~</text>\n<text text-anchor=\"middle\" x=\"58\" y=\"-129.73\" font-family=\"Times,serif\" font-size=\"14.00\" fill=\"#000000\">Data</text>\n</g>\n<!-- beta -->\n<g id=\"node2\" class=\"node\">\n<title>beta</title>\n<ellipse fill=\"none\" stroke=\"#000000\" cx=\"247\" cy=\"-37.4767\" rx=\"42.3529\" ry=\"37.4533\"/>\n<text text-anchor=\"middle\" x=\"247\" y=\"-48.7767\" font-family=\"Times,serif\" font-size=\"14.00\" fill=\"#000000\">beta</text>\n<text text-anchor=\"middle\" x=\"247\" y=\"-33.7767\" font-family=\"Times,serif\" font-size=\"14.00\" fill=\"#000000\">~</text>\n<text text-anchor=\"middle\" x=\"247\" y=\"-18.7767\" font-family=\"Times,serif\" font-size=\"14.00\" fill=\"#000000\">Normal</text>\n</g>\n<!-- b_alpha -->\n<g id=\"node3\" class=\"node\">\n<title>b_alpha</title>\n<ellipse fill=\"none\" stroke=\"#000000\" cx=\"454\" cy=\"-148.43\" rx=\"60.2083\" ry=\"37.4533\"/>\n<text text-anchor=\"middle\" x=\"454\" y=\"-159.73\" font-family=\"Times,serif\" font-size=\"14.00\" fill=\"#000000\">b_alpha</text>\n<text text-anchor=\"middle\" x=\"454\" y=\"-144.73\" font-family=\"Times,serif\" font-size=\"14.00\" fill=\"#000000\">~</text>\n<text text-anchor=\"middle\" x=\"454\" y=\"-129.73\" font-family=\"Times,serif\" font-size=\"14.00\" fill=\"#000000\">HalfNormal</text>\n</g>\n<!-- alpha -->\n<g id=\"node7\" class=\"node\">\n<title>alpha</title>\n<ellipse fill=\"none\" stroke=\"#000000\" cx=\"523\" cy=\"-37.4767\" rx=\"33.4697\" ry=\"37.4533\"/>\n<text text-anchor=\"middle\" x=\"523\" y=\"-48.7767\" font-family=\"Times,serif\" font-size=\"14.00\" fill=\"#000000\">alpha</text>\n<text text-anchor=\"middle\" x=\"523\" y=\"-33.7767\" font-family=\"Times,serif\" font-size=\"14.00\" fill=\"#000000\">~</text>\n<text text-anchor=\"middle\" x=\"523\" y=\"-18.7767\" font-family=\"Times,serif\" font-size=\"14.00\" fill=\"#000000\">Beta</text>\n</g>\n<!-- b_alpha&#45;&gt;alpha -->\n<g id=\"edge2\" class=\"edge\">\n<title>b_alpha&#45;&gt;alpha</title>\n<path fill=\"none\" stroke=\"#000000\" d=\"M475.832,-113.3237C483.0054,-101.7887 491.0274,-88.8893 498.3923,-77.0463\"/>\n<polygon fill=\"#000000\" stroke=\"#000000\" points=\"501.5625,-78.5762 503.8713,-68.236 495.6181,-74.8795 501.5625,-78.5762\"/>\n</g>\n<!-- mu_b -->\n<g id=\"node4\" class=\"node\">\n<title>mu_b</title>\n<ellipse fill=\"none\" stroke=\"#000000\" cx=\"178\" cy=\"-148.43\" rx=\"60.2083\" ry=\"37.4533\"/>\n<text text-anchor=\"middle\" x=\"178\" y=\"-159.73\" font-family=\"Times,serif\" font-size=\"14.00\" fill=\"#000000\">mu_b</text>\n<text text-anchor=\"middle\" x=\"178\" y=\"-144.73\" font-family=\"Times,serif\" font-size=\"14.00\" fill=\"#000000\">~</text>\n<text text-anchor=\"middle\" x=\"178\" y=\"-129.73\" font-family=\"Times,serif\" font-size=\"14.00\" fill=\"#000000\">HalfNormal</text>\n</g>\n<!-- mu_b&#45;&gt;beta -->\n<g id=\"edge3\" class=\"edge\">\n<title>mu_b&#45;&gt;beta</title>\n<path fill=\"none\" stroke=\"#000000\" d=\"M199.832,-113.3237C206.5613,-102.5029 214.0372,-90.4815 221.017,-79.2578\"/>\n<polygon fill=\"#000000\" stroke=\"#000000\" points=\"224.1757,-80.8061 226.4845,-70.4659 218.2314,-77.1094 224.1757,-80.8061\"/>\n</g>\n<!-- sigma_b -->\n<g id=\"node5\" class=\"node\">\n<title>sigma_b</title>\n<ellipse fill=\"none\" stroke=\"#000000\" cx=\"316\" cy=\"-148.43\" rx=\"60.2083\" ry=\"37.4533\"/>\n<text text-anchor=\"middle\" x=\"316\" y=\"-159.73\" font-family=\"Times,serif\" font-size=\"14.00\" fill=\"#000000\">sigma_b</text>\n<text text-anchor=\"middle\" x=\"316\" y=\"-144.73\" font-family=\"Times,serif\" font-size=\"14.00\" fill=\"#000000\">~</text>\n<text text-anchor=\"middle\" x=\"316\" y=\"-129.73\" font-family=\"Times,serif\" font-size=\"14.00\" fill=\"#000000\">HalfNormal</text>\n</g>\n<!-- sigma_b&#45;&gt;beta -->\n<g id=\"edge4\" class=\"edge\">\n<title>sigma_b&#45;&gt;beta</title>\n<path fill=\"none\" stroke=\"#000000\" d=\"M294.168,-113.3237C287.4387,-102.5029 279.9628,-90.4815 272.983,-79.2578\"/>\n<polygon fill=\"#000000\" stroke=\"#000000\" points=\"275.7686,-77.1094 267.5155,-70.4659 269.8243,-80.8061 275.7686,-77.1094\"/>\n</g>\n<!-- a_alpha -->\n<g id=\"node6\" class=\"node\">\n<title>a_alpha</title>\n<ellipse fill=\"none\" stroke=\"#000000\" cx=\"592\" cy=\"-148.43\" rx=\"60.2083\" ry=\"37.4533\"/>\n<text text-anchor=\"middle\" x=\"592\" y=\"-159.73\" font-family=\"Times,serif\" font-size=\"14.00\" fill=\"#000000\">a_alpha</text>\n<text text-anchor=\"middle\" x=\"592\" y=\"-144.73\" font-family=\"Times,serif\" font-size=\"14.00\" fill=\"#000000\">~</text>\n<text text-anchor=\"middle\" x=\"592\" y=\"-129.73\" font-family=\"Times,serif\" font-size=\"14.00\" fill=\"#000000\">HalfNormal</text>\n</g>\n<!-- a_alpha&#45;&gt;alpha -->\n<g id=\"edge1\" class=\"edge\">\n<title>a_alpha&#45;&gt;alpha</title>\n<path fill=\"none\" stroke=\"#000000\" d=\"M570.168,-113.3237C562.9946,-101.7887 554.9726,-88.8893 547.6077,-77.0463\"/>\n<polygon fill=\"#000000\" stroke=\"#000000\" points=\"550.3819,-74.8795 542.1287,-68.236 544.4375,-78.5762 550.3819,-74.8795\"/>\n</g>\n</g>\n</svg>\n"
          },
          "metadata": {},
          "execution_count": 298
        }
      ]
    },
    {
      "cell_type": "code",
      "source": [
        ""
      ],
      "metadata": {
        "id": "ffS16ewy75qS"
      },
      "execution_count": null,
      "outputs": []
    },
    {
      "cell_type": "markdown",
      "source": [
        "# Ficticious example"
      ],
      "metadata": {
        "id": "hEz4nZwylPAR"
      }
    },
    {
      "cell_type": "code",
      "source": [
        "df_data = pd.DataFrame(columns=[\"date\"]).set_index(\"date\")\n",
        "dates = pd.date_range(start=\"2020-05-01\", end=\"2020-05-20\")\n",
        "\n",
        "for city, mu in {\"Berlin\": 15, \"San Marino\": 18, \"Paris\": 16}.items():\n",
        "    df_data[city] = np.random.normal(loc=mu, size=len(dates))\n",
        "\n",
        "df_data.index = dates\n",
        "df_data.index.name = \"date\"\n",
        "df_data.head()"
      ],
      "metadata": {
        "colab": {
          "base_uri": "https://localhost:8080/",
          "height": 237
        },
        "id": "QiCyVwXHlO4g",
        "outputId": "2eb758d7-5736-4ee2-89c8-1fb7e060ced2"
      },
      "execution_count": null,
      "outputs": [
        {
          "output_type": "execute_result",
          "data": {
            "text/html": [
              "\n",
              "  <div id=\"df-e5892490-3f1e-48dd-a8c4-136de68f4b56\">\n",
              "    <div class=\"colab-df-container\">\n",
              "      <div>\n",
              "<style scoped>\n",
              "    .dataframe tbody tr th:only-of-type {\n",
              "        vertical-align: middle;\n",
              "    }\n",
              "\n",
              "    .dataframe tbody tr th {\n",
              "        vertical-align: top;\n",
              "    }\n",
              "\n",
              "    .dataframe thead th {\n",
              "        text-align: right;\n",
              "    }\n",
              "</style>\n",
              "<table border=\"1\" class=\"dataframe\">\n",
              "  <thead>\n",
              "    <tr style=\"text-align: right;\">\n",
              "      <th></th>\n",
              "      <th>Berlin</th>\n",
              "      <th>San Marino</th>\n",
              "      <th>Paris</th>\n",
              "    </tr>\n",
              "    <tr>\n",
              "      <th>date</th>\n",
              "      <th></th>\n",
              "      <th></th>\n",
              "      <th></th>\n",
              "    </tr>\n",
              "  </thead>\n",
              "  <tbody>\n",
              "    <tr>\n",
              "      <th>2020-05-01</th>\n",
              "      <td>14.519212</td>\n",
              "      <td>17.504966</td>\n",
              "      <td>16.545445</td>\n",
              "    </tr>\n",
              "    <tr>\n",
              "      <th>2020-05-02</th>\n",
              "      <td>15.931921</td>\n",
              "      <td>17.049598</td>\n",
              "      <td>17.271231</td>\n",
              "    </tr>\n",
              "    <tr>\n",
              "      <th>2020-05-03</th>\n",
              "      <td>14.824480</td>\n",
              "      <td>17.882649</td>\n",
              "      <td>17.340459</td>\n",
              "    </tr>\n",
              "    <tr>\n",
              "      <th>2020-05-04</th>\n",
              "      <td>14.797922</td>\n",
              "      <td>17.750652</td>\n",
              "      <td>14.783640</td>\n",
              "    </tr>\n",
              "    <tr>\n",
              "      <th>2020-05-05</th>\n",
              "      <td>15.252943</td>\n",
              "      <td>17.112405</td>\n",
              "      <td>15.617392</td>\n",
              "    </tr>\n",
              "  </tbody>\n",
              "</table>\n",
              "</div>\n",
              "      <button class=\"colab-df-convert\" onclick=\"convertToInteractive('df-e5892490-3f1e-48dd-a8c4-136de68f4b56')\"\n",
              "              title=\"Convert this dataframe to an interactive table.\"\n",
              "              style=\"display:none;\">\n",
              "        \n",
              "  <svg xmlns=\"http://www.w3.org/2000/svg\" height=\"24px\"viewBox=\"0 0 24 24\"\n",
              "       width=\"24px\">\n",
              "    <path d=\"M0 0h24v24H0V0z\" fill=\"none\"/>\n",
              "    <path d=\"M18.56 5.44l.94 2.06.94-2.06 2.06-.94-2.06-.94-.94-2.06-.94 2.06-2.06.94zm-11 1L8.5 8.5l.94-2.06 2.06-.94-2.06-.94L8.5 2.5l-.94 2.06-2.06.94zm10 10l.94 2.06.94-2.06 2.06-.94-2.06-.94-.94-2.06-.94 2.06-2.06.94z\"/><path d=\"M17.41 7.96l-1.37-1.37c-.4-.4-.92-.59-1.43-.59-.52 0-1.04.2-1.43.59L10.3 9.45l-7.72 7.72c-.78.78-.78 2.05 0 2.83L4 21.41c.39.39.9.59 1.41.59.51 0 1.02-.2 1.41-.59l7.78-7.78 2.81-2.81c.8-.78.8-2.07 0-2.86zM5.41 20L4 18.59l7.72-7.72 1.47 1.35L5.41 20z\"/>\n",
              "  </svg>\n",
              "      </button>\n",
              "      \n",
              "  <style>\n",
              "    .colab-df-container {\n",
              "      display:flex;\n",
              "      flex-wrap:wrap;\n",
              "      gap: 12px;\n",
              "    }\n",
              "\n",
              "    .colab-df-convert {\n",
              "      background-color: #E8F0FE;\n",
              "      border: none;\n",
              "      border-radius: 50%;\n",
              "      cursor: pointer;\n",
              "      display: none;\n",
              "      fill: #1967D2;\n",
              "      height: 32px;\n",
              "      padding: 0 0 0 0;\n",
              "      width: 32px;\n",
              "    }\n",
              "\n",
              "    .colab-df-convert:hover {\n",
              "      background-color: #E2EBFA;\n",
              "      box-shadow: 0px 1px 2px rgba(60, 64, 67, 0.3), 0px 1px 3px 1px rgba(60, 64, 67, 0.15);\n",
              "      fill: #174EA6;\n",
              "    }\n",
              "\n",
              "    [theme=dark] .colab-df-convert {\n",
              "      background-color: #3B4455;\n",
              "      fill: #D2E3FC;\n",
              "    }\n",
              "\n",
              "    [theme=dark] .colab-df-convert:hover {\n",
              "      background-color: #434B5C;\n",
              "      box-shadow: 0px 1px 3px 1px rgba(0, 0, 0, 0.15);\n",
              "      filter: drop-shadow(0px 1px 2px rgba(0, 0, 0, 0.3));\n",
              "      fill: #FFFFFF;\n",
              "    }\n",
              "  </style>\n",
              "\n",
              "      <script>\n",
              "        const buttonEl =\n",
              "          document.querySelector('#df-e5892490-3f1e-48dd-a8c4-136de68f4b56 button.colab-df-convert');\n",
              "        buttonEl.style.display =\n",
              "          google.colab.kernel.accessAllowed ? 'block' : 'none';\n",
              "\n",
              "        async function convertToInteractive(key) {\n",
              "          const element = document.querySelector('#df-e5892490-3f1e-48dd-a8c4-136de68f4b56');\n",
              "          const dataTable =\n",
              "            await google.colab.kernel.invokeFunction('convertToInteractive',\n",
              "                                                     [key], {});\n",
              "          if (!dataTable) return;\n",
              "\n",
              "          const docLinkHtml = 'Like what you see? Visit the ' +\n",
              "            '<a target=\"_blank\" href=https://colab.research.google.com/notebooks/data_table.ipynb>data table notebook</a>'\n",
              "            + ' to learn more about interactive tables.';\n",
              "          element.innerHTML = '';\n",
              "          dataTable['output_type'] = 'display_data';\n",
              "          await google.colab.output.renderOutput(dataTable, element);\n",
              "          const docLink = document.createElement('div');\n",
              "          docLink.innerHTML = docLinkHtml;\n",
              "          element.appendChild(docLink);\n",
              "        }\n",
              "      </script>\n",
              "    </div>\n",
              "  </div>\n",
              "  "
            ],
            "text/plain": [
              "               Berlin  San Marino      Paris\n",
              "date                                        \n",
              "2020-05-01  14.519212   17.504966  16.545445\n",
              "2020-05-02  15.931921   17.049598  17.271231\n",
              "2020-05-03  14.824480   17.882649  17.340459\n",
              "2020-05-04  14.797922   17.750652  14.783640\n",
              "2020-05-05  15.252943   17.112405  15.617392"
            ]
          },
          "metadata": {},
          "execution_count": 15
        }
      ]
    },
    {
      "cell_type": "code",
      "source": [
        ""
      ],
      "metadata": {
        "id": "-_prwaL2lO2T"
      },
      "execution_count": null,
      "outputs": []
    },
    {
      "cell_type": "code",
      "source": [
        ""
      ],
      "metadata": {
        "id": "RxKyO4tglO0E"
      },
      "execution_count": null,
      "outputs": []
    },
    {
      "cell_type": "code",
      "source": [
        ""
      ],
      "metadata": {
        "id": "DRmAKNYplOx3"
      },
      "execution_count": null,
      "outputs": []
    },
    {
      "cell_type": "code",
      "source": [
        ""
      ],
      "metadata": {
        "id": "n6oeYVjflOvp"
      },
      "execution_count": null,
      "outputs": []
    },
    {
      "cell_type": "code",
      "source": [
        ""
      ],
      "metadata": {
        "id": "ML7B3drFlOtj"
      },
      "execution_count": null,
      "outputs": []
    },
    {
      "cell_type": "code",
      "source": [
        ""
      ],
      "metadata": {
        "id": "iixqvSyWlOrm"
      },
      "execution_count": null,
      "outputs": []
    },
    {
      "cell_type": "code",
      "source": [
        ""
      ],
      "metadata": {
        "id": "-6-vP5xTlOpI"
      },
      "execution_count": null,
      "outputs": []
    },
    {
      "cell_type": "code",
      "source": [
        ""
      ],
      "metadata": {
        "id": "8NB4Vw9W75nv"
      },
      "execution_count": null,
      "outputs": []
    },
    {
      "cell_type": "markdown",
      "source": [
        "# Simpler case: 1 subject"
      ],
      "metadata": {
        "id": "oWIKIqquktJ1"
      }
    },
    {
      "cell_type": "code",
      "source": [
        "df2.head(2)"
      ],
      "metadata": {
        "colab": {
          "base_uri": "https://localhost:8080/",
          "height": 112
        },
        "id": "bq78PNt4hpFf",
        "outputId": "431639e7-ceec-49d8-8603-90d6ba48b95c"
      },
      "execution_count": null,
      "outputs": [
        {
          "output_type": "execute_result",
          "data": {
            "text/html": [
              "\n",
              "  <div id=\"df-52ab8264-6542-4541-b5d1-577dba647d43\">\n",
              "    <div class=\"colab-df-container\">\n",
              "      <div>\n",
              "<style scoped>\n",
              "    .dataframe tbody tr th:only-of-type {\n",
              "        vertical-align: middle;\n",
              "    }\n",
              "\n",
              "    .dataframe tbody tr th {\n",
              "        vertical-align: top;\n",
              "    }\n",
              "\n",
              "    .dataframe thead th {\n",
              "        text-align: right;\n",
              "    }\n",
              "</style>\n",
              "<table border=\"1\" class=\"dataframe\">\n",
              "  <thead>\n",
              "    <tr style=\"text-align: right;\">\n",
              "      <th></th>\n",
              "      <th>subject</th>\n",
              "      <th>actions</th>\n",
              "      <th>rewards</th>\n",
              "      <th>true_alpha</th>\n",
              "      <th>true_beta</th>\n",
              "    </tr>\n",
              "  </thead>\n",
              "  <tbody>\n",
              "    <tr>\n",
              "      <th>0</th>\n",
              "      <td>subject_99</td>\n",
              "      <td>0</td>\n",
              "      <td>1</td>\n",
              "      <td>22.152091</td>\n",
              "      <td>299.777837</td>\n",
              "    </tr>\n",
              "    <tr>\n",
              "      <th>1</th>\n",
              "      <td>subject_99</td>\n",
              "      <td>0</td>\n",
              "      <td>1</td>\n",
              "      <td>22.152091</td>\n",
              "      <td>299.777837</td>\n",
              "    </tr>\n",
              "  </tbody>\n",
              "</table>\n",
              "</div>\n",
              "      <button class=\"colab-df-convert\" onclick=\"convertToInteractive('df-52ab8264-6542-4541-b5d1-577dba647d43')\"\n",
              "              title=\"Convert this dataframe to an interactive table.\"\n",
              "              style=\"display:none;\">\n",
              "        \n",
              "  <svg xmlns=\"http://www.w3.org/2000/svg\" height=\"24px\"viewBox=\"0 0 24 24\"\n",
              "       width=\"24px\">\n",
              "    <path d=\"M0 0h24v24H0V0z\" fill=\"none\"/>\n",
              "    <path d=\"M18.56 5.44l.94 2.06.94-2.06 2.06-.94-2.06-.94-.94-2.06-.94 2.06-2.06.94zm-11 1L8.5 8.5l.94-2.06 2.06-.94-2.06-.94L8.5 2.5l-.94 2.06-2.06.94zm10 10l.94 2.06.94-2.06 2.06-.94-2.06-.94-.94-2.06-.94 2.06-2.06.94z\"/><path d=\"M17.41 7.96l-1.37-1.37c-.4-.4-.92-.59-1.43-.59-.52 0-1.04.2-1.43.59L10.3 9.45l-7.72 7.72c-.78.78-.78 2.05 0 2.83L4 21.41c.39.39.9.59 1.41.59.51 0 1.02-.2 1.41-.59l7.78-7.78 2.81-2.81c.8-.78.8-2.07 0-2.86zM5.41 20L4 18.59l7.72-7.72 1.47 1.35L5.41 20z\"/>\n",
              "  </svg>\n",
              "      </button>\n",
              "      \n",
              "  <style>\n",
              "    .colab-df-container {\n",
              "      display:flex;\n",
              "      flex-wrap:wrap;\n",
              "      gap: 12px;\n",
              "    }\n",
              "\n",
              "    .colab-df-convert {\n",
              "      background-color: #E8F0FE;\n",
              "      border: none;\n",
              "      border-radius: 50%;\n",
              "      cursor: pointer;\n",
              "      display: none;\n",
              "      fill: #1967D2;\n",
              "      height: 32px;\n",
              "      padding: 0 0 0 0;\n",
              "      width: 32px;\n",
              "    }\n",
              "\n",
              "    .colab-df-convert:hover {\n",
              "      background-color: #E2EBFA;\n",
              "      box-shadow: 0px 1px 2px rgba(60, 64, 67, 0.3), 0px 1px 3px 1px rgba(60, 64, 67, 0.15);\n",
              "      fill: #174EA6;\n",
              "    }\n",
              "\n",
              "    [theme=dark] .colab-df-convert {\n",
              "      background-color: #3B4455;\n",
              "      fill: #D2E3FC;\n",
              "    }\n",
              "\n",
              "    [theme=dark] .colab-df-convert:hover {\n",
              "      background-color: #434B5C;\n",
              "      box-shadow: 0px 1px 3px 1px rgba(0, 0, 0, 0.15);\n",
              "      filter: drop-shadow(0px 1px 2px rgba(0, 0, 0, 0.3));\n",
              "      fill: #FFFFFF;\n",
              "    }\n",
              "  </style>\n",
              "\n",
              "      <script>\n",
              "        const buttonEl =\n",
              "          document.querySelector('#df-52ab8264-6542-4541-b5d1-577dba647d43 button.colab-df-convert');\n",
              "        buttonEl.style.display =\n",
              "          google.colab.kernel.accessAllowed ? 'block' : 'none';\n",
              "\n",
              "        async function convertToInteractive(key) {\n",
              "          const element = document.querySelector('#df-52ab8264-6542-4541-b5d1-577dba647d43');\n",
              "          const dataTable =\n",
              "            await google.colab.kernel.invokeFunction('convertToInteractive',\n",
              "                                                     [key], {});\n",
              "          if (!dataTable) return;\n",
              "\n",
              "          const docLinkHtml = 'Like what you see? Visit the ' +\n",
              "            '<a target=\"_blank\" href=https://colab.research.google.com/notebooks/data_table.ipynb>data table notebook</a>'\n",
              "            + ' to learn more about interactive tables.';\n",
              "          element.innerHTML = '';\n",
              "          dataTable['output_type'] = 'display_data';\n",
              "          await google.colab.output.renderOutput(dataTable, element);\n",
              "          const docLink = document.createElement('div');\n",
              "          docLink.innerHTML = docLinkHtml;\n",
              "          element.appendChild(docLink);\n",
              "        }\n",
              "      </script>\n",
              "    </div>\n",
              "  </div>\n",
              "  "
            ],
            "text/plain": [
              "      subject  actions  rewards  true_alpha   true_beta\n",
              "0  subject_99        0        1   22.152091  299.777837\n",
              "1  subject_99        0        1   22.152091  299.777837"
            ]
          },
          "metadata": {},
          "execution_count": 46
        }
      ]
    },
    {
      "cell_type": "code",
      "source": [
        "# REGULAR RL MODEL WITH COORDS ------------XXXXXX\n",
        "\n",
        "\n",
        "subject_idxs, subjects = pd.factorize(df2.subject)\n",
        "coords = {\n",
        "    \"subject\": subjects,\n",
        "    \"sub_id\" : np.arange(len(subject_idxs)),\n",
        "}\n",
        "coords"
      ],
      "metadata": {
        "colab": {
          "base_uri": "https://localhost:8080/"
        },
        "id": "czKR1xCJhpDc",
        "outputId": "3acc78aa-a4ad-492e-8dda-998b0b5cd734"
      },
      "execution_count": null,
      "outputs": [
        {
          "output_type": "execute_result",
          "data": {
            "text/plain": [
              "{'sub_id': array([ 0,  1,  2,  3,  4,  5,  6,  7,  8,  9, 10, 11, 12, 13, 14, 15, 16,\n",
              "        17, 18, 19, 20, 21, 22, 23, 24, 25, 26, 27, 28, 29, 30, 31, 32, 33,\n",
              "        34, 35, 36, 37, 38, 39, 40, 41, 42, 43, 44, 45, 46, 47, 48, 49, 50,\n",
              "        51, 52, 53, 54, 55, 56, 57, 58, 59, 60, 61, 62, 63, 64, 65, 66, 67,\n",
              "        68, 69, 70, 71, 72, 73, 74, 75, 76, 77, 78, 79, 80, 81, 82, 83, 84,\n",
              "        85, 86, 87, 88, 89, 90, 91, 92, 93, 94, 95, 96, 97, 98, 99]),\n",
              " 'subject': Index(['subject_99'], dtype='object')}"
            ]
          },
          "metadata": {},
          "execution_count": 47
        }
      ]
    },
    {
      "cell_type": "code",
      "source": [
        "with pm.Model(coords=coords) as dummy_model:\n",
        "  subject_idx = pm.Data(\"subject_idx\", subject_idxs, dims=\"sub_id\")\n",
        "\n",
        "  # hyperpriors\n",
        "  mu_a = pm.Normal(\"mu_a\", mu=0.0, sigma=100)\n",
        "  sigma_a = pm.HalfNormal(\"sigma_a\", 5.0)\n",
        "  mu_b = pm.Normal(\"mu_b\", mu=0.0, sigma=100)\n",
        "  sigma_b = pm.HalfNormal(\"sigma_b\", 5.0)\n",
        "\n",
        "  a = pm.Normal(\"a\", mu=mu_a, sigma=sigma_a, dims=\"subject\")\n",
        "  b = pm.Normal(\"b\", mu=mu_b, sigma=sigma_b, dims=\"subject\")\n",
        "\n",
        "  eps = pm.HalfCauchy(\"eps\", 5.0)\n",
        "  radon_est = a[subject_idx] + b[subject_idx] * df.true_beta.values\n",
        "\n",
        "    # Data likelihood\n",
        "  radon_like = pm.Normal(\n",
        "        \"radon_like\", mu=radon_est, sigma=eps, observed=df.true_alpha, dims=\"sub_id\"\n",
        "    )"
      ],
      "metadata": {
        "id": "mCDpmUKZv1Xt"
      },
      "execution_count": null,
      "outputs": []
    },
    {
      "cell_type": "code",
      "source": [
        "pm.model_to_graphviz(dummy_model)\n"
      ],
      "metadata": {
        "colab": {
          "base_uri": "https://localhost:8080/",
          "height": 483
        },
        "id": "2I6ZgWzRv1RP",
        "outputId": "de95ecf4-8924-4cc9-d4ac-ed51d55644b9"
      },
      "execution_count": null,
      "outputs": [
        {
          "output_type": "execute_result",
          "data": {
            "text/plain": [
              "<graphviz.dot.Digraph at 0x7fec6b3a6cd0>"
            ],
            "image/svg+xml": "<?xml version=\"1.0\" encoding=\"UTF-8\" standalone=\"no\"?>\n<!DOCTYPE svg PUBLIC \"-//W3C//DTD SVG 1.1//EN\"\n \"http://www.w3.org/Graphics/SVG/1.1/DTD/svg11.dtd\">\n<!-- Generated by graphviz version 2.40.1 (20161225.0304)\n -->\n<!-- Title: %3 Pages: 1 -->\n<svg width=\"616pt\" height=\"347pt\"\n viewBox=\"0.00 0.00 616.43 346.86\" xmlns=\"http://www.w3.org/2000/svg\" xmlns:xlink=\"http://www.w3.org/1999/xlink\">\n<g id=\"graph0\" class=\"graph\" transform=\"scale(1 1) rotate(0) translate(4 342.86)\">\n<title>%3</title>\n<polygon fill=\"#ffffff\" stroke=\"transparent\" points=\"-4,4 -4,-342.86 612.4264,-342.86 612.4264,4 -4,4\"/>\n<g id=\"clust1\" class=\"cluster\">\n<title>cluster10,000</title>\n<path fill=\"none\" stroke=\"#000000\" d=\"M20,-8C20,-8 122,-8 122,-8 128,-8 134,-14 134,-20 134,-20 134,-212.93 134,-212.93 134,-218.93 128,-224.93 122,-224.93 122,-224.93 20,-224.93 20,-224.93 14,-224.93 8,-218.93 8,-212.93 8,-212.93 8,-20 8,-20 8,-14 14,-8 20,-8\"/>\n<text text-anchor=\"middle\" x=\"105\" y=\"-15.8\" font-family=\"Times,serif\" font-size=\"14.00\" fill=\"#000000\">10,000</text>\n</g>\n<g id=\"clust2\" class=\"cluster\">\n<title>cluster100</title>\n<path fill=\"none\" stroke=\"#000000\" d=\"M286,-121.9533C286,-121.9533 465,-121.9533 465,-121.9533 471,-121.9533 477,-127.9533 477,-133.9533 477,-133.9533 477,-223.9066 477,-223.9066 477,-229.9066 471,-235.9066 465,-235.9066 465,-235.9066 286,-235.9066 286,-235.9066 280,-235.9066 274,-229.9066 274,-223.9066 274,-223.9066 274,-133.9533 274,-133.9533 274,-127.9533 280,-121.9533 286,-121.9533\"/>\n<text text-anchor=\"middle\" x=\"457.5\" y=\"-129.7533\" font-family=\"Times,serif\" font-size=\"14.00\" fill=\"#000000\">100</text>\n</g>\n<!-- radon_like -->\n<g id=\"node1\" class=\"node\">\n<title>radon_like</title>\n<ellipse fill=\"#d3d3d3\" stroke=\"#000000\" cx=\"71\" cy=\"-76.4767\" rx=\"55.3091\" ry=\"37.4533\"/>\n<text text-anchor=\"middle\" x=\"71\" y=\"-87.7767\" font-family=\"Times,serif\" font-size=\"14.00\" fill=\"#000000\">radon_like</text>\n<text text-anchor=\"middle\" x=\"71\" y=\"-72.7767\" font-family=\"Times,serif\" font-size=\"14.00\" fill=\"#000000\">~</text>\n<text text-anchor=\"middle\" x=\"71\" y=\"-57.7767\" font-family=\"Times,serif\" font-size=\"14.00\" fill=\"#000000\">Normal</text>\n</g>\n<!-- subject_idx -->\n<g id=\"node2\" class=\"node\">\n<title>subject_idx</title>\n<path fill=\"#d3d3d3\" stroke=\"#000000\" d=\"M100.5,-216.93C100.5,-216.93 41.5,-216.93 41.5,-216.93 35.5,-216.93 29.5,-210.93 29.5,-204.93 29.5,-204.93 29.5,-175.93 29.5,-175.93 29.5,-169.93 35.5,-163.93 41.5,-163.93 41.5,-163.93 100.5,-163.93 100.5,-163.93 106.5,-163.93 112.5,-169.93 112.5,-175.93 112.5,-175.93 112.5,-204.93 112.5,-204.93 112.5,-210.93 106.5,-216.93 100.5,-216.93\"/>\n<text text-anchor=\"middle\" x=\"71\" y=\"-201.73\" font-family=\"Times,serif\" font-size=\"14.00\" fill=\"#000000\">subject_idx</text>\n<text text-anchor=\"middle\" x=\"71\" y=\"-186.73\" font-family=\"Times,serif\" font-size=\"14.00\" fill=\"#000000\">~</text>\n<text text-anchor=\"middle\" x=\"71\" y=\"-171.73\" font-family=\"Times,serif\" font-size=\"14.00\" fill=\"#000000\">Data</text>\n</g>\n<!-- subject_idx&#45;&gt;radon_like -->\n<g id=\"edge8\" class=\"edge\">\n<title>subject_idx&#45;&gt;radon_like</title>\n<path fill=\"none\" stroke=\"#000000\" d=\"M71,-163.713C71,-151.9706 71,-137.8127 71,-124.3507\"/>\n<polygon fill=\"#000000\" stroke=\"#000000\" points=\"74.5001,-124.2434 71,-114.2434 67.5001,-124.2434 74.5001,-124.2434\"/>\n</g>\n<!-- eps -->\n<g id=\"node3\" class=\"node\">\n<title>eps</title>\n<ellipse fill=\"none\" stroke=\"#000000\" cx=\"203\" cy=\"-190.43\" rx=\"60.623\" ry=\"37.4533\"/>\n<text text-anchor=\"middle\" x=\"203\" y=\"-201.73\" font-family=\"Times,serif\" font-size=\"14.00\" fill=\"#000000\">eps</text>\n<text text-anchor=\"middle\" x=\"203\" y=\"-186.73\" font-family=\"Times,serif\" font-size=\"14.00\" fill=\"#000000\">~</text>\n<text text-anchor=\"middle\" x=\"203\" y=\"-171.73\" font-family=\"Times,serif\" font-size=\"14.00\" fill=\"#000000\">HalfCauchy</text>\n</g>\n<!-- eps&#45;&gt;radon_like -->\n<g id=\"edge5\" class=\"edge\">\n<title>eps&#45;&gt;radon_like</title>\n<path fill=\"none\" stroke=\"#000000\" d=\"M174.2492,-157.3024C163.4004,-145.5864 150.6207,-132.6676 138,-121.9533 132.4003,-117.1995 126.2953,-112.4917 120.1247,-108.0092\"/>\n<polygon fill=\"#000000\" stroke=\"#000000\" points=\"121.8949,-104.9742 111.7107,-102.0533 117.8506,-110.6877 121.8949,-104.9742\"/>\n</g>\n<!-- mu_b -->\n<g id=\"node4\" class=\"node\">\n<title>mu_b</title>\n<ellipse fill=\"none\" stroke=\"#000000\" cx=\"186\" cy=\"-301.3833\" rx=\"42.3529\" ry=\"37.4533\"/>\n<text text-anchor=\"middle\" x=\"186\" y=\"-312.6833\" font-family=\"Times,serif\" font-size=\"14.00\" fill=\"#000000\">mu_b</text>\n<text text-anchor=\"middle\" x=\"186\" y=\"-297.6833\" font-family=\"Times,serif\" font-size=\"14.00\" fill=\"#000000\">~</text>\n<text text-anchor=\"middle\" x=\"186\" y=\"-282.6833\" font-family=\"Times,serif\" font-size=\"14.00\" fill=\"#000000\">Normal</text>\n</g>\n<!-- b -->\n<g id=\"node9\" class=\"node\">\n<title>b</title>\n<ellipse fill=\"none\" stroke=\"#000000\" cx=\"324\" cy=\"-190.43\" rx=\"42.3529\" ry=\"37.4533\"/>\n<text text-anchor=\"middle\" x=\"324\" y=\"-201.73\" font-family=\"Times,serif\" font-size=\"14.00\" fill=\"#000000\">b</text>\n<text text-anchor=\"middle\" x=\"324\" y=\"-186.73\" font-family=\"Times,serif\" font-size=\"14.00\" fill=\"#000000\">~</text>\n<text text-anchor=\"middle\" x=\"324\" y=\"-171.73\" font-family=\"Times,serif\" font-size=\"14.00\" fill=\"#000000\">Normal</text>\n</g>\n<!-- mu_b&#45;&gt;b -->\n<g id=\"edge3\" class=\"edge\">\n<title>mu_b&#45;&gt;b</title>\n<path fill=\"none\" stroke=\"#000000\" d=\"M219.1333,-277.4511C235.5809,-265.3193 255.6031,-250.1684 273,-235.9066 277.5255,-232.1967 282.2005,-228.228 286.7995,-224.238\"/>\n<polygon fill=\"#000000\" stroke=\"#000000\" points=\"289.2191,-226.7712 294.4274,-217.5449 284.6023,-221.5096 289.2191,-226.7712\"/>\n</g>\n<!-- sigma_a -->\n<g id=\"node5\" class=\"node\">\n<title>sigma_a</title>\n<ellipse fill=\"none\" stroke=\"#000000\" cx=\"445\" cy=\"-301.3833\" rx=\"60.2083\" ry=\"37.4533\"/>\n<text text-anchor=\"middle\" x=\"445\" y=\"-312.6833\" font-family=\"Times,serif\" font-size=\"14.00\" fill=\"#000000\">sigma_a</text>\n<text text-anchor=\"middle\" x=\"445\" y=\"-297.6833\" font-family=\"Times,serif\" font-size=\"14.00\" fill=\"#000000\">~</text>\n<text text-anchor=\"middle\" x=\"445\" y=\"-282.6833\" font-family=\"Times,serif\" font-size=\"14.00\" fill=\"#000000\">HalfNormal</text>\n</g>\n<!-- a -->\n<g id=\"node8\" class=\"node\">\n<title>a</title>\n<ellipse fill=\"none\" stroke=\"#000000\" cx=\"427\" cy=\"-190.43\" rx=\"42.3529\" ry=\"37.4533\"/>\n<text text-anchor=\"middle\" x=\"427\" y=\"-201.73\" font-family=\"Times,serif\" font-size=\"14.00\" fill=\"#000000\">a</text>\n<text text-anchor=\"middle\" x=\"427\" y=\"-186.73\" font-family=\"Times,serif\" font-size=\"14.00\" fill=\"#000000\">~</text>\n<text text-anchor=\"middle\" x=\"427\" y=\"-171.73\" font-family=\"Times,serif\" font-size=\"14.00\" fill=\"#000000\">Normal</text>\n</g>\n<!-- sigma_a&#45;&gt;a -->\n<g id=\"edge2\" class=\"edge\">\n<title>sigma_a&#45;&gt;a</title>\n<path fill=\"none\" stroke=\"#000000\" d=\"M438.906,-263.8196C437.5425,-255.4149 436.0794,-246.3958 434.6615,-237.6561\"/>\n<polygon fill=\"#000000\" stroke=\"#000000\" points=\"438.0829,-236.8888 433.0266,-227.5783 431.1732,-238.0098 438.0829,-236.8888\"/>\n</g>\n<!-- sigma_b -->\n<g id=\"node6\" class=\"node\">\n<title>sigma_b</title>\n<ellipse fill=\"none\" stroke=\"#000000\" cx=\"307\" cy=\"-301.3833\" rx=\"60.2083\" ry=\"37.4533\"/>\n<text text-anchor=\"middle\" x=\"307\" y=\"-312.6833\" font-family=\"Times,serif\" font-size=\"14.00\" fill=\"#000000\">sigma_b</text>\n<text text-anchor=\"middle\" x=\"307\" y=\"-297.6833\" font-family=\"Times,serif\" font-size=\"14.00\" fill=\"#000000\">~</text>\n<text text-anchor=\"middle\" x=\"307\" y=\"-282.6833\" font-family=\"Times,serif\" font-size=\"14.00\" fill=\"#000000\">HalfNormal</text>\n</g>\n<!-- sigma_b&#45;&gt;b -->\n<g id=\"edge4\" class=\"edge\">\n<title>sigma_b&#45;&gt;b</title>\n<path fill=\"none\" stroke=\"#000000\" d=\"M312.7554,-263.8196C314.0432,-255.4149 315.4251,-246.3958 316.7641,-237.6561\"/>\n<polygon fill=\"#000000\" stroke=\"#000000\" points=\"320.2533,-237.9931 318.3082,-227.5783 313.334,-236.9329 320.2533,-237.9931\"/>\n</g>\n<!-- mu_a -->\n<g id=\"node7\" class=\"node\">\n<title>mu_a</title>\n<ellipse fill=\"none\" stroke=\"#000000\" cx=\"566\" cy=\"-301.3833\" rx=\"42.3529\" ry=\"37.4533\"/>\n<text text-anchor=\"middle\" x=\"566\" y=\"-312.6833\" font-family=\"Times,serif\" font-size=\"14.00\" fill=\"#000000\">mu_a</text>\n<text text-anchor=\"middle\" x=\"566\" y=\"-297.6833\" font-family=\"Times,serif\" font-size=\"14.00\" fill=\"#000000\">~</text>\n<text text-anchor=\"middle\" x=\"566\" y=\"-282.6833\" font-family=\"Times,serif\" font-size=\"14.00\" fill=\"#000000\">Normal</text>\n</g>\n<!-- mu_a&#45;&gt;a -->\n<g id=\"edge1\" class=\"edge\">\n<title>mu_a&#45;&gt;a</title>\n<path fill=\"none\" stroke=\"#000000\" d=\"M534.4587,-276.2063C514.4296,-260.2185 488.333,-239.3875 466.873,-222.2576\"/>\n<polygon fill=\"#000000\" stroke=\"#000000\" points=\"468.8965,-219.3945 458.8976,-215.8914 464.5296,-224.8654 468.8965,-219.3945\"/>\n</g>\n<!-- a&#45;&gt;radon_like -->\n<g id=\"edge7\" class=\"edge\">\n<title>a&#45;&gt;radon_like</title>\n<path fill=\"none\" stroke=\"#000000\" d=\"M408.8629,-156.4726C400.2919,-143.643 388.8698,-130.1716 375,-121.9533 335.7303,-98.685 213.1943,-86.207 136.2114,-80.4886\"/>\n<polygon fill=\"#000000\" stroke=\"#000000\" points=\"136.356,-76.99 126.1294,-79.7589 135.8506,-83.9717 136.356,-76.99\"/>\n</g>\n<!-- b&#45;&gt;radon_like -->\n<g id=\"edge6\" class=\"edge\">\n<title>b&#45;&gt;radon_like</title>\n<path fill=\"none\" stroke=\"#000000\" d=\"M305.5624,-156.2668C297.1856,-143.7233 286.177,-130.5121 273,-121.9533 250.5079,-107.3441 185.6051,-94.3149 135.375,-85.9873\"/>\n<polygon fill=\"#000000\" stroke=\"#000000\" points=\"135.6535,-82.4866 125.221,-84.3341 134.5286,-89.3957 135.6535,-82.4866\"/>\n</g>\n</g>\n</svg>\n"
          },
          "metadata": {},
          "execution_count": 12
        }
      ]
    },
    {
      "cell_type": "markdown",
      "source": [
        "# Heirarchical Bayes RL"
      ],
      "metadata": {
        "id": "hmBye9zO67U6"
      }
    },
    {
      "cell_type": "code",
      "source": [
        "coords['sub_id']"
      ],
      "metadata": {
        "colab": {
          "base_uri": "https://localhost:8080/"
        },
        "id": "A62EaDpdDt51",
        "outputId": "fb07b5dc-3554-43b5-97a3-ff3a8e308e6e"
      },
      "execution_count": null,
      "outputs": [
        {
          "output_type": "execute_result",
          "data": {
            "text/plain": [
              "array([ 0,  1,  2,  3,  4,  5,  6,  7,  8,  9, 10, 11, 12, 13, 14, 15, 16,\n",
              "       17, 18, 19, 20, 21, 22, 23, 24, 25, 26, 27, 28, 29, 30, 31, 32, 33,\n",
              "       34, 35, 36, 37, 38, 39, 40, 41, 42, 43, 44, 45, 46, 47, 48, 49, 50,\n",
              "       51, 52, 53, 54, 55, 56, 57, 58, 59, 60, 61, 62, 63, 64, 65, 66, 67,\n",
              "       68, 69, 70, 71, 72, 73, 74, 75, 76, 77, 78, 79, 80, 81, 82, 83, 84,\n",
              "       85, 86, 87, 88, 89, 90, 91, 92, 93, 94, 95, 96, 97, 98, 99])"
            ]
          },
          "metadata": {},
          "execution_count": 48
        }
      ]
    },
    {
      "cell_type": "code",
      "source": [
        "Qs = 0.3333 * tt.ones((3,100), dtype='float64')\n",
        "Qs = tt.set_subtensor(Qs[0,0], 1)\n",
        "Qs.shape.eval()"
      ],
      "metadata": {
        "colab": {
          "base_uri": "https://localhost:8080/"
        },
        "id": "Ck-AOXMad4QZ",
        "outputId": "d32625e5-7a2b-49e4-9fa7-02f097b3f9ee"
      },
      "execution_count": null,
      "outputs": [
        {
          "output_type": "execute_result",
          "data": {
            "text/plain": [
              "array([  3, 100])"
            ]
          },
          "metadata": {},
          "execution_count": 49
        }
      ]
    },
    {
      "cell_type": "code",
      "source": [
        "# REGULAR RL MODEL WITH COORDS ------------XXXXXX\n",
        "\n",
        "\n",
        "subject_idxs, subjects = pd.factorize(df2.subject)\n",
        "coords = {\n",
        "    \"subject\": subjects,\n",
        "    \"sub_id\" : np.arange(len(subject_idxs)),\n",
        "}\n",
        "coords"
      ],
      "metadata": {
        "colab": {
          "base_uri": "https://localhost:8080/"
        },
        "id": "egf-KhOd2tX_",
        "outputId": "e82f559a-315d-4fe5-f4ba-d62a580e8267"
      },
      "execution_count": null,
      "outputs": [
        {
          "output_type": "execute_result",
          "data": {
            "text/plain": [
              "{'sub_id': array([ 0,  1,  2,  3,  4,  5,  6,  7,  8,  9, 10, 11, 12, 13, 14, 15, 16,\n",
              "        17, 18, 19, 20, 21, 22, 23, 24, 25, 26, 27, 28, 29, 30, 31, 32, 33,\n",
              "        34, 35, 36, 37, 38, 39, 40, 41, 42, 43, 44, 45, 46, 47, 48, 49, 50,\n",
              "        51, 52, 53, 54, 55, 56, 57, 58, 59, 60, 61, 62, 63, 64, 65, 66, 67,\n",
              "        68, 69, 70, 71, 72, 73, 74, 75, 76, 77, 78, 79, 80, 81, 82, 83, 84,\n",
              "        85, 86, 87, 88, 89, 90, 91, 92, 93, 94, 95, 96, 97, 98, 99]),\n",
              " 'subject': Index(['subject_99'], dtype='object')}"
            ]
          },
          "metadata": {},
          "execution_count": 163
        }
      ]
    },
    {
      "cell_type": "code",
      "source": [
        "data = pd.DataFrame({'idx': subject_idxs, 'actions':df2.actions, 'rewards':df2.rewards})\n",
        "\n",
        "data"
      ],
      "metadata": {
        "colab": {
          "base_uri": "https://localhost:8080/",
          "height": 423
        },
        "id": "DO7EkfASRyHS",
        "outputId": "e69d8441-0b8f-49f9-e211-52a302a8ca2a"
      },
      "execution_count": null,
      "outputs": [
        {
          "output_type": "execute_result",
          "data": {
            "text/html": [
              "\n",
              "  <div id=\"df-73474bae-74b1-4880-9608-e8370c567d20\">\n",
              "    <div class=\"colab-df-container\">\n",
              "      <div>\n",
              "<style scoped>\n",
              "    .dataframe tbody tr th:only-of-type {\n",
              "        vertical-align: middle;\n",
              "    }\n",
              "\n",
              "    .dataframe tbody tr th {\n",
              "        vertical-align: top;\n",
              "    }\n",
              "\n",
              "    .dataframe thead th {\n",
              "        text-align: right;\n",
              "    }\n",
              "</style>\n",
              "<table border=\"1\" class=\"dataframe\">\n",
              "  <thead>\n",
              "    <tr style=\"text-align: right;\">\n",
              "      <th></th>\n",
              "      <th>idx</th>\n",
              "      <th>actions</th>\n",
              "      <th>rewards</th>\n",
              "    </tr>\n",
              "  </thead>\n",
              "  <tbody>\n",
              "    <tr>\n",
              "      <th>0</th>\n",
              "      <td>0</td>\n",
              "      <td>0</td>\n",
              "      <td>1</td>\n",
              "    </tr>\n",
              "    <tr>\n",
              "      <th>1</th>\n",
              "      <td>0</td>\n",
              "      <td>0</td>\n",
              "      <td>1</td>\n",
              "    </tr>\n",
              "    <tr>\n",
              "      <th>2</th>\n",
              "      <td>0</td>\n",
              "      <td>2</td>\n",
              "      <td>1</td>\n",
              "    </tr>\n",
              "    <tr>\n",
              "      <th>3</th>\n",
              "      <td>0</td>\n",
              "      <td>2</td>\n",
              "      <td>1</td>\n",
              "    </tr>\n",
              "    <tr>\n",
              "      <th>4</th>\n",
              "      <td>0</td>\n",
              "      <td>0</td>\n",
              "      <td>1</td>\n",
              "    </tr>\n",
              "    <tr>\n",
              "      <th>...</th>\n",
              "      <td>...</td>\n",
              "      <td>...</td>\n",
              "      <td>...</td>\n",
              "    </tr>\n",
              "    <tr>\n",
              "      <th>95</th>\n",
              "      <td>0</td>\n",
              "      <td>1</td>\n",
              "      <td>0</td>\n",
              "    </tr>\n",
              "    <tr>\n",
              "      <th>96</th>\n",
              "      <td>0</td>\n",
              "      <td>0</td>\n",
              "      <td>1</td>\n",
              "    </tr>\n",
              "    <tr>\n",
              "      <th>97</th>\n",
              "      <td>0</td>\n",
              "      <td>2</td>\n",
              "      <td>1</td>\n",
              "    </tr>\n",
              "    <tr>\n",
              "      <th>98</th>\n",
              "      <td>0</td>\n",
              "      <td>2</td>\n",
              "      <td>0</td>\n",
              "    </tr>\n",
              "    <tr>\n",
              "      <th>99</th>\n",
              "      <td>0</td>\n",
              "      <td>2</td>\n",
              "      <td>0</td>\n",
              "    </tr>\n",
              "  </tbody>\n",
              "</table>\n",
              "<p>100 rows × 3 columns</p>\n",
              "</div>\n",
              "      <button class=\"colab-df-convert\" onclick=\"convertToInteractive('df-73474bae-74b1-4880-9608-e8370c567d20')\"\n",
              "              title=\"Convert this dataframe to an interactive table.\"\n",
              "              style=\"display:none;\">\n",
              "        \n",
              "  <svg xmlns=\"http://www.w3.org/2000/svg\" height=\"24px\"viewBox=\"0 0 24 24\"\n",
              "       width=\"24px\">\n",
              "    <path d=\"M0 0h24v24H0V0z\" fill=\"none\"/>\n",
              "    <path d=\"M18.56 5.44l.94 2.06.94-2.06 2.06-.94-2.06-.94-.94-2.06-.94 2.06-2.06.94zm-11 1L8.5 8.5l.94-2.06 2.06-.94-2.06-.94L8.5 2.5l-.94 2.06-2.06.94zm10 10l.94 2.06.94-2.06 2.06-.94-2.06-.94-.94-2.06-.94 2.06-2.06.94z\"/><path d=\"M17.41 7.96l-1.37-1.37c-.4-.4-.92-.59-1.43-.59-.52 0-1.04.2-1.43.59L10.3 9.45l-7.72 7.72c-.78.78-.78 2.05 0 2.83L4 21.41c.39.39.9.59 1.41.59.51 0 1.02-.2 1.41-.59l7.78-7.78 2.81-2.81c.8-.78.8-2.07 0-2.86zM5.41 20L4 18.59l7.72-7.72 1.47 1.35L5.41 20z\"/>\n",
              "  </svg>\n",
              "      </button>\n",
              "      \n",
              "  <style>\n",
              "    .colab-df-container {\n",
              "      display:flex;\n",
              "      flex-wrap:wrap;\n",
              "      gap: 12px;\n",
              "    }\n",
              "\n",
              "    .colab-df-convert {\n",
              "      background-color: #E8F0FE;\n",
              "      border: none;\n",
              "      border-radius: 50%;\n",
              "      cursor: pointer;\n",
              "      display: none;\n",
              "      fill: #1967D2;\n",
              "      height: 32px;\n",
              "      padding: 0 0 0 0;\n",
              "      width: 32px;\n",
              "    }\n",
              "\n",
              "    .colab-df-convert:hover {\n",
              "      background-color: #E2EBFA;\n",
              "      box-shadow: 0px 1px 2px rgba(60, 64, 67, 0.3), 0px 1px 3px 1px rgba(60, 64, 67, 0.15);\n",
              "      fill: #174EA6;\n",
              "    }\n",
              "\n",
              "    [theme=dark] .colab-df-convert {\n",
              "      background-color: #3B4455;\n",
              "      fill: #D2E3FC;\n",
              "    }\n",
              "\n",
              "    [theme=dark] .colab-df-convert:hover {\n",
              "      background-color: #434B5C;\n",
              "      box-shadow: 0px 1px 3px 1px rgba(0, 0, 0, 0.15);\n",
              "      filter: drop-shadow(0px 1px 2px rgba(0, 0, 0, 0.3));\n",
              "      fill: #FFFFFF;\n",
              "    }\n",
              "  </style>\n",
              "\n",
              "      <script>\n",
              "        const buttonEl =\n",
              "          document.querySelector('#df-73474bae-74b1-4880-9608-e8370c567d20 button.colab-df-convert');\n",
              "        buttonEl.style.display =\n",
              "          google.colab.kernel.accessAllowed ? 'block' : 'none';\n",
              "\n",
              "        async function convertToInteractive(key) {\n",
              "          const element = document.querySelector('#df-73474bae-74b1-4880-9608-e8370c567d20');\n",
              "          const dataTable =\n",
              "            await google.colab.kernel.invokeFunction('convertToInteractive',\n",
              "                                                     [key], {});\n",
              "          if (!dataTable) return;\n",
              "\n",
              "          const docLinkHtml = 'Like what you see? Visit the ' +\n",
              "            '<a target=\"_blank\" href=https://colab.research.google.com/notebooks/data_table.ipynb>data table notebook</a>'\n",
              "            + ' to learn more about interactive tables.';\n",
              "          element.innerHTML = '';\n",
              "          dataTable['output_type'] = 'display_data';\n",
              "          await google.colab.output.renderOutput(dataTable, element);\n",
              "          const docLink = document.createElement('div');\n",
              "          docLink.innerHTML = docLinkHtml;\n",
              "          element.appendChild(docLink);\n",
              "        }\n",
              "      </script>\n",
              "    </div>\n",
              "  </div>\n",
              "  "
            ],
            "text/plain": [
              "    idx  actions  rewards\n",
              "0     0        0        1\n",
              "1     0        0        1\n",
              "2     0        2        1\n",
              "3     0        2        1\n",
              "4     0        0        1\n",
              "..  ...      ...      ...\n",
              "95    0        1        0\n",
              "96    0        0        1\n",
              "97    0        2        1\n",
              "98    0        2        0\n",
              "99    0        2        0\n",
              "\n",
              "[100 rows x 3 columns]"
            ]
          },
          "metadata": {},
          "execution_count": 170
        }
      ]
    },
    {
      "cell_type": "code",
      "source": [
        "def fetch_data(idx):\n",
        "  sub = data.loc[data.idx==idx,]\n",
        "  act = sub.actions.values\n",
        "  rew = sub.rewards.values\n",
        "  return act, rew\n",
        "\n",
        "\n",
        "def tensor_update(idx, alpha, Qs):\n",
        "  action, reward = fetch_data(idx)\n",
        "  print('okay!')\n",
        "  Qs = tt.set_subtensor(Qs[idx, action], Qs[idx, action] + alpha * (reward - Qs[idx, action]))\n",
        "  return Qs"
      ],
      "metadata": {
        "id": "xXe10v1vb4Z-"
      },
      "execution_count": null,
      "outputs": []
    },
    {
      "cell_type": "code",
      "source": [
        "with pm.Model(coords=coords) as hierarchical_bayes_RL:\n",
        "  subject_idx = pm.Data(\"subject_idx\", subject_idxs, dims=\"sub_id\")\n",
        "\n",
        "    # data\n",
        "  # actions_  = pm.Data('actions',  data.actions.values)\n",
        "  # rewards_  = pm.Data('rewards',  data.rewards.values)\n",
        "  # idx_      = pm.Data('idx',      data.idx.values)\n",
        "\n",
        "  # Hyperpriors\n",
        "  a_alpha = pm.HalfNormal(\"a_alpha\", 5.0)\n",
        "  b_alpha = pm.HalfNormal(\"b_alpha\", 5.0)\n",
        "  mu_b    = pm.HalfNormal('mu_b',   10.0)\n",
        "  sigma_b = pm.HalfNormal(\"sigma_b\", 5.0)\n",
        " \n",
        "\n",
        "\n",
        "  # parameters\n",
        "  alpha = pm.Beta('alpha', a_alpha,  b_alpha, dims=\"subject\")\n",
        "  beta = pm.Normal(\"beta\", mu=mu_b, sigma=sigma_b, dims=\"subject\")\n",
        "\n",
        "  \n",
        "  # Q matrix\n",
        "  Qs = 0.3333 * tt.ones((100,3), dtype='float64')\n",
        "\n",
        "  # UPDATE Qs\n",
        "  # for each subject\n",
        "    # for each action\n",
        "  # Qs, _ = theano.scan( # idx?????????????\n",
        "  #       fn = lambda action, reward, alpha, idx, Qs: tt.set_subtensor(Qs[action, idx], Qs[action, idx] + alpha * (reward - Qs[action, idx])),\n",
        "  #       sequences = [df2.actions, df2.rewards, alpha[subject_idx], subject_idx],\n",
        "  #       # outputs_info = [Qs]\n",
        "  #   )\n",
        "\n",
        "\n",
        "  # for ix in data.idx.unique():\n",
        "  #   print(ix)\n",
        "  #   sub = data.loc[data.idx==ix,]\n",
        "  #   act = sub.actions.values\n",
        "  #   rew = sub.rewards.values\n",
        "  #   Qs, _ = theano.scan( # idx?????????????\n",
        "  #         fn = lambda action, reward, alpha, idx, Qs: tt.set_subtensor(Qs[action, idx], Qs[action, idx] + alpha * (reward - Qs[action, idx])),\n",
        "  #         sequences = [act, rew, alpha],\n",
        "  #         # outputs_info = [Qs]\n",
        "  #     )\n",
        "\n",
        " \n",
        "    # Qs, _ = theano.scan(\n",
        "    #   fn  = lambda alpha, idx, Qs: tt.set_subtensor(Qs[0,0], 999),\n",
        "    #   sequences = [alpha, subject_idx], # , df2.actions, df2.rewards\n",
        "    #     outputs_info=[Qs],\n",
        "\n",
        "    # )\n",
        "\n",
        "\n",
        "\n",
        "\n",
        "  Qs, _ = theano.scan(\n",
        "      fn  = lambda idx, alpha, Qs: tensor_update,\n",
        "      sequences = [subject_idx, alpha], # , df2.actions, df2.rewards\n",
        "       outputs_info=[Qs]\n",
        "  )\n",
        "\n",
        "\n",
        "\n",
        "\n",
        "  # Qs, _ = theano.scan(\n",
        "  #     fn  = lambda alpha, idx, Qs: tt.set_subtensor(Qs[idx,0], 999),\n",
        "  #     sequences = [alpha, subject_idx], # , df2.actions, df2.rewards\n",
        "  #      outputs_info=[Qs],\n",
        "\n",
        "  # )\n",
        " \n",
        "\n",
        "  # apply softmax -------------------------* \n",
        "  BQs = beta * Qs\n",
        "  BQs, _ = theano.scan(\n",
        "      fn  = lambda b, q: tt.nnet.softmax(b*q),\n",
        "      sequences = [beta, Qs]\n",
        "  )\n",
        "\n",
        "  # pi  = tt.nnet.softmax(BQs)\n",
        "  pi  = BQs[subject_idx]\n",
        "  PA  = pm.Categorical('P[A]', p=pi, observed=df2.actions, dims='sub_id')\n",
        "\n",
        "\n",
        "\n",
        "pm.model_to_graphviz(hierarchical_bayes_RL)\n",
        "  # Bayes RL  =================================="
      ],
      "metadata": {
        "colab": {
          "base_uri": "https://localhost:8080/",
          "height": 418
        },
        "id": "p1OKG_mvv1Ou",
        "outputId": "0f2c900c-9a9e-4121-e195-7b621b2e67a0"
      },
      "execution_count": null,
      "outputs": [
        {
          "output_type": "error",
          "ename": "ValueError",
          "evalue": "ignored",
          "traceback": [
            "\u001b[0;31m---------------------------------------------------------------------------\u001b[0m",
            "\u001b[0;31mValueError\u001b[0m                                Traceback (most recent call last)",
            "\u001b[0;32m<ipython-input-300-dfa99e56495b>\u001b[0m in \u001b[0;36m<module>\u001b[0;34m()\u001b[0m\n\u001b[1;32m     58\u001b[0m       \u001b[0mfn\u001b[0m  \u001b[0;34m=\u001b[0m \u001b[0;32mlambda\u001b[0m \u001b[0midx\u001b[0m\u001b[0;34m,\u001b[0m \u001b[0malpha\u001b[0m\u001b[0;34m,\u001b[0m \u001b[0mQs\u001b[0m\u001b[0;34m:\u001b[0m \u001b[0mtensor_update\u001b[0m\u001b[0;34m,\u001b[0m\u001b[0;34m\u001b[0m\u001b[0;34m\u001b[0m\u001b[0m\n\u001b[1;32m     59\u001b[0m       \u001b[0msequences\u001b[0m \u001b[0;34m=\u001b[0m \u001b[0;34m[\u001b[0m\u001b[0msubject_idx\u001b[0m\u001b[0;34m,\u001b[0m \u001b[0malpha\u001b[0m\u001b[0;34m]\u001b[0m\u001b[0;34m,\u001b[0m \u001b[0;31m# , df2.actions, df2.rewards\u001b[0m\u001b[0;34m\u001b[0m\u001b[0;34m\u001b[0m\u001b[0m\n\u001b[0;32m---> 60\u001b[0;31m        \u001b[0moutputs_info\u001b[0m\u001b[0;34m=\u001b[0m\u001b[0;34m[\u001b[0m\u001b[0mQs\u001b[0m\u001b[0;34m]\u001b[0m\u001b[0;34m\u001b[0m\u001b[0;34m\u001b[0m\u001b[0m\n\u001b[0m\u001b[1;32m     61\u001b[0m   )\n\u001b[1;32m     62\u001b[0m \u001b[0;34m\u001b[0m\u001b[0m\n",
            "\u001b[0;32m/usr/local/lib/python3.7/dist-packages/theano/scan/basic.py\u001b[0m in \u001b[0;36mscan\u001b[0;34m(fn, sequences, outputs_info, non_sequences, n_steps, truncate_gradient, go_backwards, mode, name, profile, allow_gc, strict, return_list)\u001b[0m\n\u001b[1;32m    745\u001b[0m     \u001b[0;31m# and outputs that needs to be separated\u001b[0m\u001b[0;34m\u001b[0m\u001b[0;34m\u001b[0m\u001b[0;34m\u001b[0m\u001b[0m\n\u001b[1;32m    746\u001b[0m \u001b[0;34m\u001b[0m\u001b[0m\n\u001b[0;32m--> 747\u001b[0;31m     \u001b[0mcondition\u001b[0m\u001b[0;34m,\u001b[0m \u001b[0moutputs\u001b[0m\u001b[0;34m,\u001b[0m \u001b[0mupdates\u001b[0m \u001b[0;34m=\u001b[0m \u001b[0mutils\u001b[0m\u001b[0;34m.\u001b[0m\u001b[0mget_updates_and_outputs\u001b[0m\u001b[0;34m(\u001b[0m\u001b[0mfn\u001b[0m\u001b[0;34m(\u001b[0m\u001b[0;34m*\u001b[0m\u001b[0margs\u001b[0m\u001b[0;34m)\u001b[0m\u001b[0;34m)\u001b[0m\u001b[0;34m\u001b[0m\u001b[0;34m\u001b[0m\u001b[0m\n\u001b[0m\u001b[1;32m    748\u001b[0m     \u001b[0;32mif\u001b[0m \u001b[0mcondition\u001b[0m \u001b[0;32mis\u001b[0m \u001b[0;32mnot\u001b[0m \u001b[0;32mNone\u001b[0m\u001b[0;34m:\u001b[0m\u001b[0;34m\u001b[0m\u001b[0;34m\u001b[0m\u001b[0m\n\u001b[1;32m    749\u001b[0m         \u001b[0mas_while\u001b[0m \u001b[0;34m=\u001b[0m \u001b[0;32mTrue\u001b[0m\u001b[0;34m\u001b[0m\u001b[0;34m\u001b[0m\u001b[0m\n",
            "\u001b[0;32m/usr/local/lib/python3.7/dist-packages/theano/scan/utils.py\u001b[0m in \u001b[0;36mget_updates_and_outputs\u001b[0;34m(ls)\u001b[0m\n\u001b[1;32m    503\u001b[0m     \u001b[0;32mif\u001b[0m \u001b[0;32mnot\u001b[0m \u001b[0m_filter\u001b[0m\u001b[0;34m(\u001b[0m\u001b[0mls\u001b[0m\u001b[0;34m)\u001b[0m\u001b[0;34m:\u001b[0m\u001b[0;34m\u001b[0m\u001b[0;34m\u001b[0m\u001b[0m\n\u001b[1;32m    504\u001b[0m         raise ValueError(\n\u001b[0;32m--> 505\u001b[0;31m             \u001b[0;34m\"The return value of your scan lambda expression may only be \"\u001b[0m\u001b[0;34m\u001b[0m\u001b[0;34m\u001b[0m\u001b[0m\n\u001b[0m\u001b[1;32m    506\u001b[0m             \u001b[0;34m\"made of lists, tuples, or dictionaries containing Theano \"\u001b[0m\u001b[0;34m\u001b[0m\u001b[0;34m\u001b[0m\u001b[0m\n\u001b[1;32m    507\u001b[0m             \u001b[0;34m\"variables (or `theano.scan.utils.until` objects for \"\u001b[0m\u001b[0;34m\u001b[0m\u001b[0;34m\u001b[0m\u001b[0m\n",
            "\u001b[0;31mValueError\u001b[0m: The return value of your scan lambda expression may only be made of lists, tuples, or dictionaries containing Theano variables (or `theano.scan.utils.until` objects for conditions). In particular if you need to use constant values, you can use `tensor.constant` to turn them into Theano variables."
          ]
        }
      ]
    },
    {
      "cell_type": "code",
      "source": [
        "Qs"
      ],
      "metadata": {
        "id": "WY_fFu4-9WUx",
        "colab": {
          "base_uri": "https://localhost:8080/",
          "height": 344
        },
        "outputId": "05b498e4-b99a-4f5c-f189-03cc2e2befc9"
      },
      "execution_count": null,
      "outputs": [
        {
          "output_type": "error",
          "ename": "MissingInputError",
          "evalue": "ignored",
          "traceback": [
            "\u001b[0;31m---------------------------------------------------------------------------\u001b[0m",
            "\u001b[0;31mMissingInputError\u001b[0m                         Traceback (most recent call last)",
            "\u001b[0;32m<ipython-input-181-4689c42a0f4c>\u001b[0m in \u001b[0;36m<module>\u001b[0;34m()\u001b[0m\n\u001b[0;32m----> 1\u001b[0;31m \u001b[0mQs\u001b[0m\u001b[0;34m.\u001b[0m\u001b[0meval\u001b[0m\u001b[0;34m(\u001b[0m\u001b[0;34m)\u001b[0m\u001b[0;34m\u001b[0m\u001b[0;34m\u001b[0m\u001b[0m\n\u001b[0m",
            "\u001b[0;32m/usr/local/lib/python3.7/dist-packages/theano/graph/basic.py\u001b[0m in \u001b[0;36meval\u001b[0;34m(self, inputs_to_values)\u001b[0m\n\u001b[1;32m    552\u001b[0m         \u001b[0minputs\u001b[0m \u001b[0;34m=\u001b[0m \u001b[0mtuple\u001b[0m\u001b[0;34m(\u001b[0m\u001b[0msorted\u001b[0m\u001b[0;34m(\u001b[0m\u001b[0minputs_to_values\u001b[0m\u001b[0;34m.\u001b[0m\u001b[0mkeys\u001b[0m\u001b[0;34m(\u001b[0m\u001b[0;34m)\u001b[0m\u001b[0;34m,\u001b[0m \u001b[0mkey\u001b[0m\u001b[0;34m=\u001b[0m\u001b[0mid\u001b[0m\u001b[0;34m)\u001b[0m\u001b[0;34m)\u001b[0m\u001b[0;34m\u001b[0m\u001b[0;34m\u001b[0m\u001b[0m\n\u001b[1;32m    553\u001b[0m         \u001b[0;32mif\u001b[0m \u001b[0minputs\u001b[0m \u001b[0;32mnot\u001b[0m \u001b[0;32min\u001b[0m \u001b[0mself\u001b[0m\u001b[0;34m.\u001b[0m\u001b[0m_fn_cache\u001b[0m\u001b[0;34m:\u001b[0m\u001b[0;34m\u001b[0m\u001b[0;34m\u001b[0m\u001b[0m\n\u001b[0;32m--> 554\u001b[0;31m             \u001b[0mself\u001b[0m\u001b[0;34m.\u001b[0m\u001b[0m_fn_cache\u001b[0m\u001b[0;34m[\u001b[0m\u001b[0minputs\u001b[0m\u001b[0;34m]\u001b[0m \u001b[0;34m=\u001b[0m \u001b[0mtheano\u001b[0m\u001b[0;34m.\u001b[0m\u001b[0mfunction\u001b[0m\u001b[0;34m(\u001b[0m\u001b[0minputs\u001b[0m\u001b[0;34m,\u001b[0m \u001b[0mself\u001b[0m\u001b[0;34m)\u001b[0m\u001b[0;34m\u001b[0m\u001b[0;34m\u001b[0m\u001b[0m\n\u001b[0m\u001b[1;32m    555\u001b[0m         \u001b[0margs\u001b[0m \u001b[0;34m=\u001b[0m \u001b[0;34m[\u001b[0m\u001b[0minputs_to_values\u001b[0m\u001b[0;34m[\u001b[0m\u001b[0mparam\u001b[0m\u001b[0;34m]\u001b[0m \u001b[0;32mfor\u001b[0m \u001b[0mparam\u001b[0m \u001b[0;32min\u001b[0m \u001b[0minputs\u001b[0m\u001b[0;34m]\u001b[0m\u001b[0;34m\u001b[0m\u001b[0;34m\u001b[0m\u001b[0m\n\u001b[1;32m    556\u001b[0m \u001b[0;34m\u001b[0m\u001b[0m\n",
            "\u001b[0;32m/usr/local/lib/python3.7/dist-packages/theano/compile/function/__init__.py\u001b[0m in \u001b[0;36mfunction\u001b[0;34m(inputs, outputs, mode, updates, givens, no_default_updates, accept_inplace, name, rebuild_strict, allow_input_downcast, profile, on_unused_input)\u001b[0m\n\u001b[1;32m    348\u001b[0m             \u001b[0mon_unused_input\u001b[0m\u001b[0;34m=\u001b[0m\u001b[0mon_unused_input\u001b[0m\u001b[0;34m,\u001b[0m\u001b[0;34m\u001b[0m\u001b[0;34m\u001b[0m\u001b[0m\n\u001b[1;32m    349\u001b[0m             \u001b[0mprofile\u001b[0m\u001b[0;34m=\u001b[0m\u001b[0mprofile\u001b[0m\u001b[0;34m,\u001b[0m\u001b[0;34m\u001b[0m\u001b[0;34m\u001b[0m\u001b[0m\n\u001b[0;32m--> 350\u001b[0;31m             \u001b[0moutput_keys\u001b[0m\u001b[0;34m=\u001b[0m\u001b[0moutput_keys\u001b[0m\u001b[0;34m,\u001b[0m\u001b[0;34m\u001b[0m\u001b[0;34m\u001b[0m\u001b[0m\n\u001b[0m\u001b[1;32m    351\u001b[0m         )\n\u001b[1;32m    352\u001b[0m     \u001b[0;32mreturn\u001b[0m \u001b[0mfn\u001b[0m\u001b[0;34m\u001b[0m\u001b[0;34m\u001b[0m\u001b[0m\n",
            "\u001b[0;32m/usr/local/lib/python3.7/dist-packages/theano/compile/function/pfunc.py\u001b[0m in \u001b[0;36mpfunc\u001b[0;34m(params, outputs, mode, updates, givens, no_default_updates, accept_inplace, name, rebuild_strict, allow_input_downcast, profile, on_unused_input, output_keys)\u001b[0m\n\u001b[1;32m    530\u001b[0m         \u001b[0mprofile\u001b[0m\u001b[0;34m=\u001b[0m\u001b[0mprofile\u001b[0m\u001b[0;34m,\u001b[0m\u001b[0;34m\u001b[0m\u001b[0;34m\u001b[0m\u001b[0m\n\u001b[1;32m    531\u001b[0m         \u001b[0mon_unused_input\u001b[0m\u001b[0;34m=\u001b[0m\u001b[0mon_unused_input\u001b[0m\u001b[0;34m,\u001b[0m\u001b[0;34m\u001b[0m\u001b[0;34m\u001b[0m\u001b[0m\n\u001b[0;32m--> 532\u001b[0;31m         \u001b[0moutput_keys\u001b[0m\u001b[0;34m=\u001b[0m\u001b[0moutput_keys\u001b[0m\u001b[0;34m,\u001b[0m\u001b[0;34m\u001b[0m\u001b[0;34m\u001b[0m\u001b[0m\n\u001b[0m\u001b[1;32m    533\u001b[0m     )\n\u001b[1;32m    534\u001b[0m \u001b[0;34m\u001b[0m\u001b[0m\n",
            "\u001b[0;32m/usr/local/lib/python3.7/dist-packages/theano/compile/function/types.py\u001b[0m in \u001b[0;36morig_function\u001b[0;34m(inputs, outputs, mode, accept_inplace, name, profile, on_unused_input, output_keys)\u001b[0m\n\u001b[1;32m   1976\u001b[0m             \u001b[0mon_unused_input\u001b[0m\u001b[0;34m=\u001b[0m\u001b[0mon_unused_input\u001b[0m\u001b[0;34m,\u001b[0m\u001b[0;34m\u001b[0m\u001b[0;34m\u001b[0m\u001b[0m\n\u001b[1;32m   1977\u001b[0m             \u001b[0moutput_keys\u001b[0m\u001b[0;34m=\u001b[0m\u001b[0moutput_keys\u001b[0m\u001b[0;34m,\u001b[0m\u001b[0;34m\u001b[0m\u001b[0;34m\u001b[0m\u001b[0m\n\u001b[0;32m-> 1978\u001b[0;31m             \u001b[0mname\u001b[0m\u001b[0;34m=\u001b[0m\u001b[0mname\u001b[0m\u001b[0;34m,\u001b[0m\u001b[0;34m\u001b[0m\u001b[0;34m\u001b[0m\u001b[0m\n\u001b[0m\u001b[1;32m   1979\u001b[0m         )\n\u001b[1;32m   1980\u001b[0m         \u001b[0;32mwith\u001b[0m \u001b[0mconfig\u001b[0m\u001b[0;34m.\u001b[0m\u001b[0mchange_flags\u001b[0m\u001b[0;34m(\u001b[0m\u001b[0mcompute_test_value\u001b[0m\u001b[0;34m=\u001b[0m\u001b[0;34m\"off\"\u001b[0m\u001b[0;34m)\u001b[0m\u001b[0;34m:\u001b[0m\u001b[0;34m\u001b[0m\u001b[0;34m\u001b[0m\u001b[0m\n",
            "\u001b[0;32m/usr/local/lib/python3.7/dist-packages/theano/compile/function/types.py\u001b[0m in \u001b[0;36m__init__\u001b[0;34m(self, inputs, outputs, mode, accept_inplace, function_builder, profile, on_unused_input, fgraph, output_keys, name)\u001b[0m\n\u001b[1;32m   1582\u001b[0m             \u001b[0;31m# make the fgraph (copies the graph, creates NEW INPUT AND\u001b[0m\u001b[0;34m\u001b[0m\u001b[0;34m\u001b[0m\u001b[0;34m\u001b[0m\u001b[0m\n\u001b[1;32m   1583\u001b[0m             \u001b[0;31m# OUTPUT VARIABLES)\u001b[0m\u001b[0;34m\u001b[0m\u001b[0;34m\u001b[0m\u001b[0;34m\u001b[0m\u001b[0m\n\u001b[0;32m-> 1584\u001b[0;31m             \u001b[0mfgraph\u001b[0m\u001b[0;34m,\u001b[0m \u001b[0madditional_outputs\u001b[0m \u001b[0;34m=\u001b[0m \u001b[0mstd_fgraph\u001b[0m\u001b[0;34m(\u001b[0m\u001b[0minputs\u001b[0m\u001b[0;34m,\u001b[0m \u001b[0moutputs\u001b[0m\u001b[0;34m,\u001b[0m \u001b[0maccept_inplace\u001b[0m\u001b[0;34m)\u001b[0m\u001b[0;34m\u001b[0m\u001b[0;34m\u001b[0m\u001b[0m\n\u001b[0m\u001b[1;32m   1585\u001b[0m             \u001b[0mfgraph\u001b[0m\u001b[0;34m.\u001b[0m\u001b[0mprofile\u001b[0m \u001b[0;34m=\u001b[0m \u001b[0mprofile\u001b[0m\u001b[0;34m\u001b[0m\u001b[0;34m\u001b[0m\u001b[0m\n\u001b[1;32m   1586\u001b[0m         \u001b[0;32melse\u001b[0m\u001b[0;34m:\u001b[0m\u001b[0;34m\u001b[0m\u001b[0;34m\u001b[0m\u001b[0m\n",
            "\u001b[0;32m/usr/local/lib/python3.7/dist-packages/theano/compile/function/types.py\u001b[0m in \u001b[0;36mstd_fgraph\u001b[0;34m(input_specs, output_specs, accept_inplace)\u001b[0m\n\u001b[1;32m    186\u001b[0m     \u001b[0morig_outputs\u001b[0m \u001b[0;34m=\u001b[0m \u001b[0;34m[\u001b[0m\u001b[0mspec\u001b[0m\u001b[0;34m.\u001b[0m\u001b[0mvariable\u001b[0m \u001b[0;32mfor\u001b[0m \u001b[0mspec\u001b[0m \u001b[0;32min\u001b[0m \u001b[0moutput_specs\u001b[0m\u001b[0;34m]\u001b[0m \u001b[0;34m+\u001b[0m \u001b[0mupdates\u001b[0m\u001b[0;34m\u001b[0m\u001b[0;34m\u001b[0m\u001b[0m\n\u001b[1;32m    187\u001b[0m \u001b[0;34m\u001b[0m\u001b[0m\n\u001b[0;32m--> 188\u001b[0;31m     \u001b[0mfgraph\u001b[0m \u001b[0;34m=\u001b[0m \u001b[0mFunctionGraph\u001b[0m\u001b[0;34m(\u001b[0m\u001b[0morig_inputs\u001b[0m\u001b[0;34m,\u001b[0m \u001b[0morig_outputs\u001b[0m\u001b[0;34m,\u001b[0m \u001b[0mupdate_mapping\u001b[0m\u001b[0;34m=\u001b[0m\u001b[0mupdate_mapping\u001b[0m\u001b[0;34m)\u001b[0m\u001b[0;34m\u001b[0m\u001b[0;34m\u001b[0m\u001b[0m\n\u001b[0m\u001b[1;32m    189\u001b[0m \u001b[0;34m\u001b[0m\u001b[0m\n\u001b[1;32m    190\u001b[0m     \u001b[0;32mfor\u001b[0m \u001b[0mnode\u001b[0m \u001b[0;32min\u001b[0m \u001b[0mfgraph\u001b[0m\u001b[0;34m.\u001b[0m\u001b[0mapply_nodes\u001b[0m\u001b[0;34m:\u001b[0m\u001b[0;34m\u001b[0m\u001b[0;34m\u001b[0m\u001b[0m\n",
            "\u001b[0;32m/usr/local/lib/python3.7/dist-packages/theano/graph/fg.py\u001b[0m in \u001b[0;36m__init__\u001b[0;34m(self, inputs, outputs, features, clone, update_mapping)\u001b[0m\n\u001b[1;32m    160\u001b[0m \u001b[0;34m\u001b[0m\u001b[0m\n\u001b[1;32m    161\u001b[0m         \u001b[0;32mfor\u001b[0m \u001b[0moutput\u001b[0m \u001b[0;32min\u001b[0m \u001b[0moutputs\u001b[0m\u001b[0;34m:\u001b[0m\u001b[0;34m\u001b[0m\u001b[0;34m\u001b[0m\u001b[0m\n\u001b[0;32m--> 162\u001b[0;31m             \u001b[0mself\u001b[0m\u001b[0;34m.\u001b[0m\u001b[0mimport_var\u001b[0m\u001b[0;34m(\u001b[0m\u001b[0moutput\u001b[0m\u001b[0;34m,\u001b[0m \u001b[0mreason\u001b[0m\u001b[0;34m=\u001b[0m\u001b[0;34m\"init\"\u001b[0m\u001b[0;34m)\u001b[0m\u001b[0;34m\u001b[0m\u001b[0;34m\u001b[0m\u001b[0m\n\u001b[0m\u001b[1;32m    163\u001b[0m         \u001b[0;32mfor\u001b[0m \u001b[0mi\u001b[0m\u001b[0;34m,\u001b[0m \u001b[0moutput\u001b[0m \u001b[0;32min\u001b[0m \u001b[0menumerate\u001b[0m\u001b[0;34m(\u001b[0m\u001b[0moutputs\u001b[0m\u001b[0;34m)\u001b[0m\u001b[0;34m:\u001b[0m\u001b[0;34m\u001b[0m\u001b[0;34m\u001b[0m\u001b[0m\n\u001b[1;32m    164\u001b[0m             \u001b[0mself\u001b[0m\u001b[0;34m.\u001b[0m\u001b[0mclients\u001b[0m\u001b[0;34m[\u001b[0m\u001b[0moutput\u001b[0m\u001b[0;34m]\u001b[0m\u001b[0;34m.\u001b[0m\u001b[0mappend\u001b[0m\u001b[0;34m(\u001b[0m\u001b[0;34m(\u001b[0m\u001b[0;34m\"output\"\u001b[0m\u001b[0;34m,\u001b[0m \u001b[0mi\u001b[0m\u001b[0;34m)\u001b[0m\u001b[0;34m)\u001b[0m\u001b[0;34m\u001b[0m\u001b[0;34m\u001b[0m\u001b[0m\n",
            "\u001b[0;32m/usr/local/lib/python3.7/dist-packages/theano/graph/fg.py\u001b[0m in \u001b[0;36mimport_var\u001b[0;34m(self, var, reason)\u001b[0m\n\u001b[1;32m    328\u001b[0m         \u001b[0;31m# Imports the owners of the variables\u001b[0m\u001b[0;34m\u001b[0m\u001b[0;34m\u001b[0m\u001b[0;34m\u001b[0m\u001b[0m\n\u001b[1;32m    329\u001b[0m         \u001b[0;32mif\u001b[0m \u001b[0mvar\u001b[0m\u001b[0;34m.\u001b[0m\u001b[0mowner\u001b[0m \u001b[0;32mand\u001b[0m \u001b[0mvar\u001b[0m\u001b[0;34m.\u001b[0m\u001b[0mowner\u001b[0m \u001b[0;32mnot\u001b[0m \u001b[0;32min\u001b[0m \u001b[0mself\u001b[0m\u001b[0;34m.\u001b[0m\u001b[0mapply_nodes\u001b[0m\u001b[0;34m:\u001b[0m\u001b[0;34m\u001b[0m\u001b[0;34m\u001b[0m\u001b[0m\n\u001b[0;32m--> 330\u001b[0;31m             \u001b[0mself\u001b[0m\u001b[0;34m.\u001b[0m\u001b[0mimport_node\u001b[0m\u001b[0;34m(\u001b[0m\u001b[0mvar\u001b[0m\u001b[0;34m.\u001b[0m\u001b[0mowner\u001b[0m\u001b[0;34m,\u001b[0m \u001b[0mreason\u001b[0m\u001b[0;34m=\u001b[0m\u001b[0mreason\u001b[0m\u001b[0;34m)\u001b[0m\u001b[0;34m\u001b[0m\u001b[0;34m\u001b[0m\u001b[0m\n\u001b[0m\u001b[1;32m    331\u001b[0m         elif (\n\u001b[1;32m    332\u001b[0m             \u001b[0mvar\u001b[0m\u001b[0;34m.\u001b[0m\u001b[0mowner\u001b[0m \u001b[0;32mis\u001b[0m \u001b[0;32mNone\u001b[0m\u001b[0;34m\u001b[0m\u001b[0;34m\u001b[0m\u001b[0m\n",
            "\u001b[0;32m/usr/local/lib/python3.7/dist-packages/theano/graph/fg.py\u001b[0m in \u001b[0;36mimport_node\u001b[0;34m(self, apply_node, check, reason)\u001b[0m\n\u001b[1;32m    381\u001b[0m                             \u001b[0;34m\"for more information on this error.\"\u001b[0m\u001b[0;34m\u001b[0m\u001b[0;34m\u001b[0m\u001b[0m\n\u001b[1;32m    382\u001b[0m                         )\n\u001b[0;32m--> 383\u001b[0;31m                         \u001b[0;32mraise\u001b[0m \u001b[0mMissingInputError\u001b[0m\u001b[0;34m(\u001b[0m\u001b[0merror_msg\u001b[0m\u001b[0;34m,\u001b[0m \u001b[0mvariable\u001b[0m\u001b[0;34m=\u001b[0m\u001b[0mvar\u001b[0m\u001b[0;34m)\u001b[0m\u001b[0;34m\u001b[0m\u001b[0;34m\u001b[0m\u001b[0m\n\u001b[0m\u001b[1;32m    384\u001b[0m \u001b[0;34m\u001b[0m\u001b[0m\n\u001b[1;32m    385\u001b[0m         \u001b[0;32mfor\u001b[0m \u001b[0mnode\u001b[0m \u001b[0;32min\u001b[0m \u001b[0mnew_nodes\u001b[0m\u001b[0;34m:\u001b[0m\u001b[0;34m\u001b[0m\u001b[0;34m\u001b[0m\u001b[0m\n",
            "\u001b[0;31mMissingInputError\u001b[0m: Input 0 of the graph (indices start from 0), used to compute Elemwise{neg,no_inplace}(alpha_logodds__), was not provided and not given a value. Use the Theano flag exception_verbosity='high', for more information on this error."
          ]
        }
      ]
    },
    {
      "cell_type": "markdown",
      "source": [
        "# Pyro π"
      ],
      "metadata": {
        "id": "AeXVwnxVzoz1"
      }
    },
    {
      "cell_type": "code",
      "source": [
        "import numpyro\n",
        "from numpyro.infer import MCMC, NUTS, Predictive\n",
        "import numpyro.distributions as dist\n",
        "from jax import random\n",
        "\n",
        "assert numpyro.__version__.startswith(\"0.8.0\")"
      ],
      "metadata": {
        "colab": {
          "base_uri": "https://localhost:8080/"
        },
        "id": "USa1pSULdtr3",
        "outputId": "199100c0-ef43-44e0-c006-01c294717317"
      },
      "execution_count": null,
      "outputs": [
        {
          "output_type": "stream",
          "name": "stderr",
          "text": [
            "/usr/local/lib/python3.7/dist-packages/jax/experimental/optimizers.py:30: FutureWarning: jax.experimental.optimizers is deprecated, import jax.example_libraries.optimizers instead\n",
            "  FutureWarning)\n",
            "/usr/local/lib/python3.7/dist-packages/jax/experimental/stax.py:30: FutureWarning: jax.experimental.stax is deprecated, import jax.example_libraries.stax instead\n",
            "  FutureWarning)\n"
          ]
        }
      ]
    },
    {
      "cell_type": "code",
      "source": [
        ""
      ],
      "metadata": {
        "id": "2fIzVxicz76Q"
      },
      "execution_count": null,
      "outputs": []
    },
    {
      "cell_type": "code",
      "source": [
        "import pandas as pd\n",
        "import numpy as np\n",
        "import seaborn as sns\n",
        "import matplotlib.pyplot as plt\n",
        "data"
      ],
      "metadata": {
        "colab": {
          "base_uri": "https://localhost:8080/",
          "height": 423
        },
        "id": "hJne2JAYd6tU",
        "outputId": "c7d4e681-a8ce-4b01-f16b-8cbc2f5b5794"
      },
      "execution_count": null,
      "outputs": [
        {
          "output_type": "execute_result",
          "data": {
            "text/html": [
              "\n",
              "  <div id=\"df-939d514c-211b-427a-a5e0-8b7b395ad53a\">\n",
              "    <div class=\"colab-df-container\">\n",
              "      <div>\n",
              "<style scoped>\n",
              "    .dataframe tbody tr th:only-of-type {\n",
              "        vertical-align: middle;\n",
              "    }\n",
              "\n",
              "    .dataframe tbody tr th {\n",
              "        vertical-align: top;\n",
              "    }\n",
              "\n",
              "    .dataframe thead th {\n",
              "        text-align: right;\n",
              "    }\n",
              "</style>\n",
              "<table border=\"1\" class=\"dataframe\">\n",
              "  <thead>\n",
              "    <tr style=\"text-align: right;\">\n",
              "      <th></th>\n",
              "      <th>idx</th>\n",
              "      <th>actions</th>\n",
              "      <th>rewards</th>\n",
              "    </tr>\n",
              "  </thead>\n",
              "  <tbody>\n",
              "    <tr>\n",
              "      <th>0</th>\n",
              "      <td>0</td>\n",
              "      <td>0</td>\n",
              "      <td>1</td>\n",
              "    </tr>\n",
              "    <tr>\n",
              "      <th>1</th>\n",
              "      <td>0</td>\n",
              "      <td>0</td>\n",
              "      <td>1</td>\n",
              "    </tr>\n",
              "    <tr>\n",
              "      <th>2</th>\n",
              "      <td>0</td>\n",
              "      <td>2</td>\n",
              "      <td>1</td>\n",
              "    </tr>\n",
              "    <tr>\n",
              "      <th>3</th>\n",
              "      <td>0</td>\n",
              "      <td>2</td>\n",
              "      <td>1</td>\n",
              "    </tr>\n",
              "    <tr>\n",
              "      <th>4</th>\n",
              "      <td>0</td>\n",
              "      <td>0</td>\n",
              "      <td>1</td>\n",
              "    </tr>\n",
              "    <tr>\n",
              "      <th>...</th>\n",
              "      <td>...</td>\n",
              "      <td>...</td>\n",
              "      <td>...</td>\n",
              "    </tr>\n",
              "    <tr>\n",
              "      <th>95</th>\n",
              "      <td>0</td>\n",
              "      <td>1</td>\n",
              "      <td>0</td>\n",
              "    </tr>\n",
              "    <tr>\n",
              "      <th>96</th>\n",
              "      <td>0</td>\n",
              "      <td>0</td>\n",
              "      <td>1</td>\n",
              "    </tr>\n",
              "    <tr>\n",
              "      <th>97</th>\n",
              "      <td>0</td>\n",
              "      <td>2</td>\n",
              "      <td>1</td>\n",
              "    </tr>\n",
              "    <tr>\n",
              "      <th>98</th>\n",
              "      <td>0</td>\n",
              "      <td>2</td>\n",
              "      <td>0</td>\n",
              "    </tr>\n",
              "    <tr>\n",
              "      <th>99</th>\n",
              "      <td>0</td>\n",
              "      <td>2</td>\n",
              "      <td>0</td>\n",
              "    </tr>\n",
              "  </tbody>\n",
              "</table>\n",
              "<p>100 rows × 3 columns</p>\n",
              "</div>\n",
              "      <button class=\"colab-df-convert\" onclick=\"convertToInteractive('df-939d514c-211b-427a-a5e0-8b7b395ad53a')\"\n",
              "              title=\"Convert this dataframe to an interactive table.\"\n",
              "              style=\"display:none;\">\n",
              "        \n",
              "  <svg xmlns=\"http://www.w3.org/2000/svg\" height=\"24px\"viewBox=\"0 0 24 24\"\n",
              "       width=\"24px\">\n",
              "    <path d=\"M0 0h24v24H0V0z\" fill=\"none\"/>\n",
              "    <path d=\"M18.56 5.44l.94 2.06.94-2.06 2.06-.94-2.06-.94-.94-2.06-.94 2.06-2.06.94zm-11 1L8.5 8.5l.94-2.06 2.06-.94-2.06-.94L8.5 2.5l-.94 2.06-2.06.94zm10 10l.94 2.06.94-2.06 2.06-.94-2.06-.94-.94-2.06-.94 2.06-2.06.94z\"/><path d=\"M17.41 7.96l-1.37-1.37c-.4-.4-.92-.59-1.43-.59-.52 0-1.04.2-1.43.59L10.3 9.45l-7.72 7.72c-.78.78-.78 2.05 0 2.83L4 21.41c.39.39.9.59 1.41.59.51 0 1.02-.2 1.41-.59l7.78-7.78 2.81-2.81c.8-.78.8-2.07 0-2.86zM5.41 20L4 18.59l7.72-7.72 1.47 1.35L5.41 20z\"/>\n",
              "  </svg>\n",
              "      </button>\n",
              "      \n",
              "  <style>\n",
              "    .colab-df-container {\n",
              "      display:flex;\n",
              "      flex-wrap:wrap;\n",
              "      gap: 12px;\n",
              "    }\n",
              "\n",
              "    .colab-df-convert {\n",
              "      background-color: #E8F0FE;\n",
              "      border: none;\n",
              "      border-radius: 50%;\n",
              "      cursor: pointer;\n",
              "      display: none;\n",
              "      fill: #1967D2;\n",
              "      height: 32px;\n",
              "      padding: 0 0 0 0;\n",
              "      width: 32px;\n",
              "    }\n",
              "\n",
              "    .colab-df-convert:hover {\n",
              "      background-color: #E2EBFA;\n",
              "      box-shadow: 0px 1px 2px rgba(60, 64, 67, 0.3), 0px 1px 3px 1px rgba(60, 64, 67, 0.15);\n",
              "      fill: #174EA6;\n",
              "    }\n",
              "\n",
              "    [theme=dark] .colab-df-convert {\n",
              "      background-color: #3B4455;\n",
              "      fill: #D2E3FC;\n",
              "    }\n",
              "\n",
              "    [theme=dark] .colab-df-convert:hover {\n",
              "      background-color: #434B5C;\n",
              "      box-shadow: 0px 1px 3px 1px rgba(0, 0, 0, 0.15);\n",
              "      filter: drop-shadow(0px 1px 2px rgba(0, 0, 0, 0.3));\n",
              "      fill: #FFFFFF;\n",
              "    }\n",
              "  </style>\n",
              "\n",
              "      <script>\n",
              "        const buttonEl =\n",
              "          document.querySelector('#df-939d514c-211b-427a-a5e0-8b7b395ad53a button.colab-df-convert');\n",
              "        buttonEl.style.display =\n",
              "          google.colab.kernel.accessAllowed ? 'block' : 'none';\n",
              "\n",
              "        async function convertToInteractive(key) {\n",
              "          const element = document.querySelector('#df-939d514c-211b-427a-a5e0-8b7b395ad53a');\n",
              "          const dataTable =\n",
              "            await google.colab.kernel.invokeFunction('convertToInteractive',\n",
              "                                                     [key], {});\n",
              "          if (!dataTable) return;\n",
              "\n",
              "          const docLinkHtml = 'Like what you see? Visit the ' +\n",
              "            '<a target=\"_blank\" href=https://colab.research.google.com/notebooks/data_table.ipynb>data table notebook</a>'\n",
              "            + ' to learn more about interactive tables.';\n",
              "          element.innerHTML = '';\n",
              "          dataTable['output_type'] = 'display_data';\n",
              "          await google.colab.output.renderOutput(dataTable, element);\n",
              "          const docLink = document.createElement('div');\n",
              "          docLink.innerHTML = docLinkHtml;\n",
              "          element.appendChild(docLink);\n",
              "        }\n",
              "      </script>\n",
              "    </div>\n",
              "  </div>\n",
              "  "
            ],
            "text/plain": [
              "    idx  actions  rewards\n",
              "0     0        0        1\n",
              "1     0        0        1\n",
              "2     0        2        1\n",
              "3     0        2        1\n",
              "4     0        0        1\n",
              "..  ...      ...      ...\n",
              "95    0        1        0\n",
              "96    0        0        1\n",
              "97    0        2        1\n",
              "98    0        2        0\n",
              "99    0        2        0\n",
              "\n",
              "[100 rows x 3 columns]"
            ]
          },
          "metadata": {},
          "execution_count": 200
        }
      ]
    },
    {
      "cell_type": "code",
      "source": [
        "# from scipy.special import softmax\n",
        "data"
      ],
      "metadata": {
        "colab": {
          "base_uri": "https://localhost:8080/",
          "height": 423
        },
        "id": "jhYcPccliiLv",
        "outputId": "573d159b-0513-41ed-92fa-b5d2975387d8"
      },
      "execution_count": null,
      "outputs": [
        {
          "output_type": "execute_result",
          "data": {
            "text/html": [
              "\n",
              "  <div id=\"df-fb09e292-b0be-4341-9700-8a459a9fa35c\">\n",
              "    <div class=\"colab-df-container\">\n",
              "      <div>\n",
              "<style scoped>\n",
              "    .dataframe tbody tr th:only-of-type {\n",
              "        vertical-align: middle;\n",
              "    }\n",
              "\n",
              "    .dataframe tbody tr th {\n",
              "        vertical-align: top;\n",
              "    }\n",
              "\n",
              "    .dataframe thead th {\n",
              "        text-align: right;\n",
              "    }\n",
              "</style>\n",
              "<table border=\"1\" class=\"dataframe\">\n",
              "  <thead>\n",
              "    <tr style=\"text-align: right;\">\n",
              "      <th></th>\n",
              "      <th>idx</th>\n",
              "      <th>actions</th>\n",
              "      <th>rewards</th>\n",
              "    </tr>\n",
              "  </thead>\n",
              "  <tbody>\n",
              "    <tr>\n",
              "      <th>0</th>\n",
              "      <td>0</td>\n",
              "      <td>0</td>\n",
              "      <td>1</td>\n",
              "    </tr>\n",
              "    <tr>\n",
              "      <th>1</th>\n",
              "      <td>0</td>\n",
              "      <td>0</td>\n",
              "      <td>1</td>\n",
              "    </tr>\n",
              "    <tr>\n",
              "      <th>2</th>\n",
              "      <td>0</td>\n",
              "      <td>2</td>\n",
              "      <td>1</td>\n",
              "    </tr>\n",
              "    <tr>\n",
              "      <th>3</th>\n",
              "      <td>0</td>\n",
              "      <td>2</td>\n",
              "      <td>1</td>\n",
              "    </tr>\n",
              "    <tr>\n",
              "      <th>4</th>\n",
              "      <td>0</td>\n",
              "      <td>0</td>\n",
              "      <td>1</td>\n",
              "    </tr>\n",
              "    <tr>\n",
              "      <th>...</th>\n",
              "      <td>...</td>\n",
              "      <td>...</td>\n",
              "      <td>...</td>\n",
              "    </tr>\n",
              "    <tr>\n",
              "      <th>95</th>\n",
              "      <td>0</td>\n",
              "      <td>1</td>\n",
              "      <td>0</td>\n",
              "    </tr>\n",
              "    <tr>\n",
              "      <th>96</th>\n",
              "      <td>0</td>\n",
              "      <td>0</td>\n",
              "      <td>1</td>\n",
              "    </tr>\n",
              "    <tr>\n",
              "      <th>97</th>\n",
              "      <td>0</td>\n",
              "      <td>2</td>\n",
              "      <td>1</td>\n",
              "    </tr>\n",
              "    <tr>\n",
              "      <th>98</th>\n",
              "      <td>0</td>\n",
              "      <td>2</td>\n",
              "      <td>0</td>\n",
              "    </tr>\n",
              "    <tr>\n",
              "      <th>99</th>\n",
              "      <td>0</td>\n",
              "      <td>2</td>\n",
              "      <td>0</td>\n",
              "    </tr>\n",
              "  </tbody>\n",
              "</table>\n",
              "<p>100 rows × 3 columns</p>\n",
              "</div>\n",
              "      <button class=\"colab-df-convert\" onclick=\"convertToInteractive('df-fb09e292-b0be-4341-9700-8a459a9fa35c')\"\n",
              "              title=\"Convert this dataframe to an interactive table.\"\n",
              "              style=\"display:none;\">\n",
              "        \n",
              "  <svg xmlns=\"http://www.w3.org/2000/svg\" height=\"24px\"viewBox=\"0 0 24 24\"\n",
              "       width=\"24px\">\n",
              "    <path d=\"M0 0h24v24H0V0z\" fill=\"none\"/>\n",
              "    <path d=\"M18.56 5.44l.94 2.06.94-2.06 2.06-.94-2.06-.94-.94-2.06-.94 2.06-2.06.94zm-11 1L8.5 8.5l.94-2.06 2.06-.94-2.06-.94L8.5 2.5l-.94 2.06-2.06.94zm10 10l.94 2.06.94-2.06 2.06-.94-2.06-.94-.94-2.06-.94 2.06-2.06.94z\"/><path d=\"M17.41 7.96l-1.37-1.37c-.4-.4-.92-.59-1.43-.59-.52 0-1.04.2-1.43.59L10.3 9.45l-7.72 7.72c-.78.78-.78 2.05 0 2.83L4 21.41c.39.39.9.59 1.41.59.51 0 1.02-.2 1.41-.59l7.78-7.78 2.81-2.81c.8-.78.8-2.07 0-2.86zM5.41 20L4 18.59l7.72-7.72 1.47 1.35L5.41 20z\"/>\n",
              "  </svg>\n",
              "      </button>\n",
              "      \n",
              "  <style>\n",
              "    .colab-df-container {\n",
              "      display:flex;\n",
              "      flex-wrap:wrap;\n",
              "      gap: 12px;\n",
              "    }\n",
              "\n",
              "    .colab-df-convert {\n",
              "      background-color: #E8F0FE;\n",
              "      border: none;\n",
              "      border-radius: 50%;\n",
              "      cursor: pointer;\n",
              "      display: none;\n",
              "      fill: #1967D2;\n",
              "      height: 32px;\n",
              "      padding: 0 0 0 0;\n",
              "      width: 32px;\n",
              "    }\n",
              "\n",
              "    .colab-df-convert:hover {\n",
              "      background-color: #E2EBFA;\n",
              "      box-shadow: 0px 1px 2px rgba(60, 64, 67, 0.3), 0px 1px 3px 1px rgba(60, 64, 67, 0.15);\n",
              "      fill: #174EA6;\n",
              "    }\n",
              "\n",
              "    [theme=dark] .colab-df-convert {\n",
              "      background-color: #3B4455;\n",
              "      fill: #D2E3FC;\n",
              "    }\n",
              "\n",
              "    [theme=dark] .colab-df-convert:hover {\n",
              "      background-color: #434B5C;\n",
              "      box-shadow: 0px 1px 3px 1px rgba(0, 0, 0, 0.15);\n",
              "      filter: drop-shadow(0px 1px 2px rgba(0, 0, 0, 0.3));\n",
              "      fill: #FFFFFF;\n",
              "    }\n",
              "  </style>\n",
              "\n",
              "      <script>\n",
              "        const buttonEl =\n",
              "          document.querySelector('#df-fb09e292-b0be-4341-9700-8a459a9fa35c button.colab-df-convert');\n",
              "        buttonEl.style.display =\n",
              "          google.colab.kernel.accessAllowed ? 'block' : 'none';\n",
              "\n",
              "        async function convertToInteractive(key) {\n",
              "          const element = document.querySelector('#df-fb09e292-b0be-4341-9700-8a459a9fa35c');\n",
              "          const dataTable =\n",
              "            await google.colab.kernel.invokeFunction('convertToInteractive',\n",
              "                                                     [key], {});\n",
              "          if (!dataTable) return;\n",
              "\n",
              "          const docLinkHtml = 'Like what you see? Visit the ' +\n",
              "            '<a target=\"_blank\" href=https://colab.research.google.com/notebooks/data_table.ipynb>data table notebook</a>'\n",
              "            + ' to learn more about interactive tables.';\n",
              "          element.innerHTML = '';\n",
              "          dataTable['output_type'] = 'display_data';\n",
              "          await google.colab.output.renderOutput(dataTable, element);\n",
              "          const docLink = document.createElement('div');\n",
              "          docLink.innerHTML = docLinkHtml;\n",
              "          element.appendChild(docLink);\n",
              "        }\n",
              "      </script>\n",
              "    </div>\n",
              "  </div>\n",
              "  "
            ],
            "text/plain": [
              "    idx  actions  rewards\n",
              "0     0        0        1\n",
              "1     0        0        1\n",
              "2     0        2        1\n",
              "3     0        2        1\n",
              "4     0        0        1\n",
              "..  ...      ...      ...\n",
              "95    0        1        0\n",
              "96    0        0        1\n",
              "97    0        2        1\n",
              "98    0        2        0\n",
              "99    0        2        0\n",
              "\n",
              "[100 rows x 3 columns]"
            ]
          },
          "metadata": {},
          "execution_count": 322
        }
      ]
    },
    {
      "cell_type": "code",
      "source": [
        "# artificial probs\n",
        "pi = np.random.rand(*data.shape)\n",
        "pi.shape"
      ],
      "metadata": {
        "colab": {
          "base_uri": "https://localhost:8080/"
        },
        "id": "yJKn38sz3bGN",
        "outputId": "55226ce3-6f9e-47dd-9122-aa968e39c1c4"
      },
      "execution_count": null,
      "outputs": [
        {
          "output_type": "execute_result",
          "data": {
            "text/plain": [
              "(100, 3)"
            ]
          },
          "metadata": {},
          "execution_count": 353
        }
      ]
    },
    {
      "cell_type": "code",
      "source": [
        "def model(data, actions=None):\n",
        "\n",
        "  # Hyperpriors\n",
        "  a_α = numpyro.sample(\"a_α\", dist.HalfNormal(5.0))\n",
        "  b_α = numpyro.sample(\"b_α\", dist.HalfNormal(5.0))\n",
        "  μ_β = numpyro.sample(\"μ_β\", dist.HalfNormal(10.0))\n",
        "  σ_β = numpyro.sample(\"σ_β\", dist.HalfNormal(5.0))\n",
        "\n",
        "  \n",
        "  # Q matrix\n",
        "  Qs = 0.3333 * np.ones((1,3), dtype='float64')\n",
        "\n",
        "\n",
        "  subject_idx         = data.idx\n",
        "  unique_subject_IDs  = np.unique(subject_idx)\n",
        "  n_subjects          = len(unique_subject_IDs)\n",
        "\n",
        "\n",
        "  # parameters\n",
        "  with numpyro.plate(\"i\", n_subjects):\n",
        "    α = numpyro.sample(\"α\", dist.Beta(a_α, b_α))\n",
        "    β = numpyro.sample(\"β\", dist.Normal(μ_β, σ_β))\n",
        "\n",
        "\n",
        "  # Q update\n",
        "  for idx in unique_subject_IDs:\n",
        "    sub = data.loc[data.idx==idx,]\n",
        "    at = sub.actions.values\n",
        "    rt = sub.rewards.values\n",
        "    Qs[idx, at] = Qs[idx, at] + (rt - Qs[idx, at])\n",
        "\n",
        "\n",
        "  # model \n",
        "  BQs = (β*Qs)[subject_idx]\n",
        "\n",
        "  with numpyro.plate(\"data\", len(subject_idx)):\n",
        "    # z = β*Qs\n",
        "\n",
        "    # artificial probabilitites\n",
        "    pi = np.random.rand(*data.shape)\n",
        "    numpyro.sample(\"obs\", dist.Categorical(probs=pi), obs=actions)\n",
        "\n",
        "\n",
        "\n",
        "  # Add:\n",
        "  # - softmax               choice probabilisties\n",
        "  # - dist.Categorical()    sample yhat\n",
        "  # - loop through alpha    update Q\n",
        "\n",
        "\n",
        "numpyro.render_model(model, model_args=(data, None))"
      ],
      "metadata": {
        "colab": {
          "base_uri": "https://localhost:8080/",
          "height": 363
        },
        "id": "o_i3pNX7d0l6",
        "outputId": "e6f82ee6-0aef-4eca-e919-49cec4a6d0cd"
      },
      "execution_count": null,
      "outputs": [
        {
          "output_type": "error",
          "ename": "ValueError",
          "evalue": "ignored",
          "traceback": [
            "\u001b[0;31m---------------------------------------------------------------------------\u001b[0m",
            "\u001b[0;31mValueError\u001b[0m                                Traceback (most recent call last)",
            "\u001b[0;32m<ipython-input-356-ff98a9794fa4>\u001b[0m in \u001b[0;36m<module>\u001b[0;34m()\u001b[0m\n\u001b[1;32m     49\u001b[0m \u001b[0;34m\u001b[0m\u001b[0m\n\u001b[1;32m     50\u001b[0m \u001b[0;34m\u001b[0m\u001b[0m\n\u001b[0;32m---> 51\u001b[0;31m \u001b[0mnumpyro\u001b[0m\u001b[0;34m.\u001b[0m\u001b[0mrender_model\u001b[0m\u001b[0;34m(\u001b[0m\u001b[0mmodel\u001b[0m\u001b[0;34m,\u001b[0m \u001b[0mmodel_args\u001b[0m\u001b[0;34m=\u001b[0m\u001b[0;34m(\u001b[0m\u001b[0mdata\u001b[0m\u001b[0;34m,\u001b[0m \u001b[0;32mNone\u001b[0m\u001b[0;34m)\u001b[0m\u001b[0;34m)\u001b[0m\u001b[0;34m\u001b[0m\u001b[0;34m\u001b[0m\u001b[0m\n\u001b[0m",
            "\u001b[0;32m/usr/local/lib/python3.7/dist-packages/numpyro/contrib/render.py\u001b[0m in \u001b[0;36mrender_model\u001b[0;34m(model, model_args, model_kwargs, filename, render_distributions, num_tries)\u001b[0m\n\u001b[1;32m    314\u001b[0m     \"\"\"\n\u001b[1;32m    315\u001b[0m     relations = get_model_relations(\n\u001b[0;32m--> 316\u001b[0;31m         \u001b[0mmodel\u001b[0m\u001b[0;34m,\u001b[0m \u001b[0mmodel_args\u001b[0m\u001b[0;34m=\u001b[0m\u001b[0mmodel_args\u001b[0m\u001b[0;34m,\u001b[0m \u001b[0mmodel_kwargs\u001b[0m\u001b[0;34m=\u001b[0m\u001b[0mmodel_kwargs\u001b[0m\u001b[0;34m,\u001b[0m \u001b[0mnum_tries\u001b[0m\u001b[0;34m=\u001b[0m\u001b[0mnum_tries\u001b[0m\u001b[0;34m\u001b[0m\u001b[0;34m\u001b[0m\u001b[0m\n\u001b[0m\u001b[1;32m    317\u001b[0m     )\n\u001b[1;32m    318\u001b[0m     \u001b[0mgraph_spec\u001b[0m \u001b[0;34m=\u001b[0m \u001b[0mgenerate_graph_specification\u001b[0m\u001b[0;34m(\u001b[0m\u001b[0mrelations\u001b[0m\u001b[0;34m)\u001b[0m\u001b[0;34m\u001b[0m\u001b[0;34m\u001b[0m\u001b[0m\n",
            "\u001b[0;32m/usr/local/lib/python3.7/dist-packages/numpyro/contrib/render.py\u001b[0m in \u001b[0;36mget_model_relations\u001b[0;34m(model, model_args, model_kwargs, num_tries)\u001b[0m\n\u001b[1;32m     52\u001b[0m \u001b[0;34m\u001b[0m\u001b[0m\n\u001b[1;32m     53\u001b[0m     trace = handlers.trace(handlers.seed(model, 0)).get_trace(\n\u001b[0;32m---> 54\u001b[0;31m         \u001b[0;34m*\u001b[0m\u001b[0mmodel_args\u001b[0m\u001b[0;34m,\u001b[0m \u001b[0;34m**\u001b[0m\u001b[0mmodel_kwargs\u001b[0m\u001b[0;34m\u001b[0m\u001b[0;34m\u001b[0m\u001b[0m\n\u001b[0m\u001b[1;32m     55\u001b[0m     )\n\u001b[1;32m     56\u001b[0m     obs_sites = [\n",
            "\u001b[0;32m/usr/local/lib/python3.7/dist-packages/numpyro/handlers.py\u001b[0m in \u001b[0;36mget_trace\u001b[0;34m(self, *args, **kwargs)\u001b[0m\n\u001b[1;32m    163\u001b[0m         \u001b[0;34m:\u001b[0m\u001b[0;32mreturn\u001b[0m\u001b[0;34m:\u001b[0m\u001b[0;31m \u001b[0m\u001b[0;31m`\u001b[0m\u001b[0mOrderedDict\u001b[0m\u001b[0;31m`\u001b[0m \u001b[0mcontaining\u001b[0m \u001b[0mthe\u001b[0m \u001b[0mexecution\u001b[0m \u001b[0mtrace\u001b[0m\u001b[0;34m.\u001b[0m\u001b[0;34m\u001b[0m\u001b[0;34m\u001b[0m\u001b[0m\n\u001b[1;32m    164\u001b[0m         \"\"\"\n\u001b[0;32m--> 165\u001b[0;31m         \u001b[0mself\u001b[0m\u001b[0;34m(\u001b[0m\u001b[0;34m*\u001b[0m\u001b[0margs\u001b[0m\u001b[0;34m,\u001b[0m \u001b[0;34m**\u001b[0m\u001b[0mkwargs\u001b[0m\u001b[0;34m)\u001b[0m\u001b[0;34m\u001b[0m\u001b[0;34m\u001b[0m\u001b[0m\n\u001b[0m\u001b[1;32m    166\u001b[0m         \u001b[0;32mreturn\u001b[0m \u001b[0mself\u001b[0m\u001b[0;34m.\u001b[0m\u001b[0mtrace\u001b[0m\u001b[0;34m\u001b[0m\u001b[0;34m\u001b[0m\u001b[0m\n\u001b[1;32m    167\u001b[0m \u001b[0;34m\u001b[0m\u001b[0m\n",
            "\u001b[0;32m/usr/local/lib/python3.7/dist-packages/numpyro/primitives.py\u001b[0m in \u001b[0;36m__call__\u001b[0;34m(self, *args, **kwargs)\u001b[0m\n\u001b[1;32m     85\u001b[0m             \u001b[0;32mreturn\u001b[0m \u001b[0mself\u001b[0m\u001b[0;34m\u001b[0m\u001b[0;34m\u001b[0m\u001b[0m\n\u001b[1;32m     86\u001b[0m         \u001b[0;32mwith\u001b[0m \u001b[0mself\u001b[0m\u001b[0;34m:\u001b[0m\u001b[0;34m\u001b[0m\u001b[0;34m\u001b[0m\u001b[0m\n\u001b[0;32m---> 87\u001b[0;31m             \u001b[0;32mreturn\u001b[0m \u001b[0mself\u001b[0m\u001b[0;34m.\u001b[0m\u001b[0mfn\u001b[0m\u001b[0;34m(\u001b[0m\u001b[0;34m*\u001b[0m\u001b[0margs\u001b[0m\u001b[0;34m,\u001b[0m \u001b[0;34m**\u001b[0m\u001b[0mkwargs\u001b[0m\u001b[0;34m)\u001b[0m\u001b[0;34m\u001b[0m\u001b[0;34m\u001b[0m\u001b[0m\n\u001b[0m\u001b[1;32m     88\u001b[0m \u001b[0;34m\u001b[0m\u001b[0m\n\u001b[1;32m     89\u001b[0m \u001b[0;34m\u001b[0m\u001b[0m\n",
            "\u001b[0;32m/usr/local/lib/python3.7/dist-packages/numpyro/primitives.py\u001b[0m in \u001b[0;36m__call__\u001b[0;34m(self, *args, **kwargs)\u001b[0m\n\u001b[1;32m     85\u001b[0m             \u001b[0;32mreturn\u001b[0m \u001b[0mself\u001b[0m\u001b[0;34m\u001b[0m\u001b[0;34m\u001b[0m\u001b[0m\n\u001b[1;32m     86\u001b[0m         \u001b[0;32mwith\u001b[0m \u001b[0mself\u001b[0m\u001b[0;34m:\u001b[0m\u001b[0;34m\u001b[0m\u001b[0;34m\u001b[0m\u001b[0m\n\u001b[0;32m---> 87\u001b[0;31m             \u001b[0;32mreturn\u001b[0m \u001b[0mself\u001b[0m\u001b[0;34m.\u001b[0m\u001b[0mfn\u001b[0m\u001b[0;34m(\u001b[0m\u001b[0;34m*\u001b[0m\u001b[0margs\u001b[0m\u001b[0;34m,\u001b[0m \u001b[0;34m**\u001b[0m\u001b[0mkwargs\u001b[0m\u001b[0;34m)\u001b[0m\u001b[0;34m\u001b[0m\u001b[0;34m\u001b[0m\u001b[0m\n\u001b[0m\u001b[1;32m     88\u001b[0m \u001b[0;34m\u001b[0m\u001b[0m\n\u001b[1;32m     89\u001b[0m \u001b[0;34m\u001b[0m\u001b[0m\n",
            "\u001b[0;32m<ipython-input-356-ff98a9794fa4>\u001b[0m in \u001b[0;36mmodel\u001b[0;34m(data, actions)\u001b[0m\n\u001b[1;32m     32\u001b[0m \u001b[0;34m\u001b[0m\u001b[0m\n\u001b[1;32m     33\u001b[0m   \u001b[0;31m# model\u001b[0m\u001b[0;34m\u001b[0m\u001b[0;34m\u001b[0m\u001b[0;34m\u001b[0m\u001b[0m\n\u001b[0;32m---> 34\u001b[0;31m   \u001b[0mBQs\u001b[0m \u001b[0;34m=\u001b[0m \u001b[0;34m(\u001b[0m\u001b[0mβ\u001b[0m\u001b[0;34m*\u001b[0m\u001b[0mQs\u001b[0m\u001b[0;34m)\u001b[0m\u001b[0;34m[\u001b[0m\u001b[0msubject_idx\u001b[0m\u001b[0;34m]\u001b[0m\u001b[0;34m\u001b[0m\u001b[0;34m\u001b[0m\u001b[0m\n\u001b[0m\u001b[1;32m     35\u001b[0m \u001b[0;34m\u001b[0m\u001b[0m\n\u001b[1;32m     36\u001b[0m   \u001b[0;32mwith\u001b[0m \u001b[0mnumpyro\u001b[0m\u001b[0;34m.\u001b[0m\u001b[0mplate\u001b[0m\u001b[0;34m(\u001b[0m\u001b[0;34m\"data\"\u001b[0m\u001b[0;34m,\u001b[0m \u001b[0mlen\u001b[0m\u001b[0;34m(\u001b[0m\u001b[0msubject_idx\u001b[0m\u001b[0;34m)\u001b[0m\u001b[0;34m)\u001b[0m\u001b[0;34m:\u001b[0m\u001b[0;34m\u001b[0m\u001b[0;34m\u001b[0m\u001b[0m\n",
            "\u001b[0;32m/usr/local/lib/python3.7/dist-packages/jax/_src/numpy/lax_numpy.py\u001b[0m in \u001b[0;36m_rewriting_take\u001b[0;34m(arr, idx, indices_are_sorted, unique_indices, mode, fill_value)\u001b[0m\n\u001b[1;32m   5643\u001b[0m   \u001b[0mtreedef\u001b[0m\u001b[0;34m,\u001b[0m \u001b[0mstatic_idx\u001b[0m\u001b[0;34m,\u001b[0m \u001b[0mdynamic_idx\u001b[0m \u001b[0;34m=\u001b[0m \u001b[0m_split_index_for_jit\u001b[0m\u001b[0;34m(\u001b[0m\u001b[0midx\u001b[0m\u001b[0;34m,\u001b[0m \u001b[0marr\u001b[0m\u001b[0;34m.\u001b[0m\u001b[0mshape\u001b[0m\u001b[0;34m)\u001b[0m\u001b[0;34m\u001b[0m\u001b[0;34m\u001b[0m\u001b[0m\n\u001b[1;32m   5644\u001b[0m   return _gather(arr, treedef, static_idx, dynamic_idx, indices_are_sorted,\n\u001b[0;32m-> 5645\u001b[0;31m                  unique_indices, mode, fill_value)\n\u001b[0m\u001b[1;32m   5646\u001b[0m \u001b[0;34m\u001b[0m\u001b[0m\n\u001b[1;32m   5647\u001b[0m \u001b[0;31m# TODO(phawkins): re-enable jit after fixing excessive recompilation for\u001b[0m\u001b[0;34m\u001b[0m\u001b[0;34m\u001b[0m\u001b[0;34m\u001b[0m\u001b[0m\n",
            "\u001b[0;32m/usr/local/lib/python3.7/dist-packages/jax/_src/numpy/lax_numpy.py\u001b[0m in \u001b[0;36m_gather\u001b[0;34m(arr, treedef, static_idx, dynamic_idx, indices_are_sorted, unique_indices, mode, fill_value)\u001b[0m\n\u001b[1;32m   5651\u001b[0m             unique_indices, mode, fill_value):\n\u001b[1;32m   5652\u001b[0m   \u001b[0midx\u001b[0m \u001b[0;34m=\u001b[0m \u001b[0m_merge_static_and_dynamic_indices\u001b[0m\u001b[0;34m(\u001b[0m\u001b[0mtreedef\u001b[0m\u001b[0;34m,\u001b[0m \u001b[0mstatic_idx\u001b[0m\u001b[0;34m,\u001b[0m \u001b[0mdynamic_idx\u001b[0m\u001b[0;34m)\u001b[0m\u001b[0;34m\u001b[0m\u001b[0;34m\u001b[0m\u001b[0m\n\u001b[0;32m-> 5653\u001b[0;31m   \u001b[0mindexer\u001b[0m \u001b[0;34m=\u001b[0m \u001b[0m_index_to_gather\u001b[0m\u001b[0;34m(\u001b[0m\u001b[0mshape\u001b[0m\u001b[0;34m(\u001b[0m\u001b[0marr\u001b[0m\u001b[0;34m)\u001b[0m\u001b[0;34m,\u001b[0m \u001b[0midx\u001b[0m\u001b[0;34m)\u001b[0m  \u001b[0;31m# shared with _scatter_update\u001b[0m\u001b[0;34m\u001b[0m\u001b[0;34m\u001b[0m\u001b[0m\n\u001b[0m\u001b[1;32m   5654\u001b[0m   \u001b[0my\u001b[0m \u001b[0;34m=\u001b[0m \u001b[0marr\u001b[0m\u001b[0;34m\u001b[0m\u001b[0;34m\u001b[0m\u001b[0m\n\u001b[1;32m   5655\u001b[0m \u001b[0;34m\u001b[0m\u001b[0m\n",
            "\u001b[0;32m/usr/local/lib/python3.7/dist-packages/jax/_src/numpy/lax_numpy.py\u001b[0m in \u001b[0;36m_index_to_gather\u001b[0;34m(x_shape, idx, normalize_indices)\u001b[0m\n\u001b[1;32m   5778\u001b[0m       advanced_pairs = ((_normalize_index(e, x_shape[j]), i, j)\n\u001b[1;32m   5779\u001b[0m                         for e, i, j in advanced_pairs)\n\u001b[0;32m-> 5780\u001b[0;31m     \u001b[0madvanced_indexes\u001b[0m\u001b[0;34m,\u001b[0m \u001b[0midx_advanced_axes\u001b[0m\u001b[0;34m,\u001b[0m \u001b[0mx_advanced_axes\u001b[0m \u001b[0;34m=\u001b[0m \u001b[0mzip\u001b[0m\u001b[0;34m(\u001b[0m\u001b[0;34m*\u001b[0m\u001b[0madvanced_pairs\u001b[0m\u001b[0;34m)\u001b[0m\u001b[0;34m\u001b[0m\u001b[0;34m\u001b[0m\u001b[0m\n\u001b[0m\u001b[1;32m   5781\u001b[0m     \u001b[0madvanced_axes_are_contiguous\u001b[0m \u001b[0;34m=\u001b[0m \u001b[0mnp\u001b[0m\u001b[0;34m.\u001b[0m\u001b[0mall\u001b[0m\u001b[0;34m(\u001b[0m\u001b[0mnp\u001b[0m\u001b[0;34m.\u001b[0m\u001b[0mdiff\u001b[0m\u001b[0;34m(\u001b[0m\u001b[0midx_advanced_axes\u001b[0m\u001b[0;34m)\u001b[0m \u001b[0;34m==\u001b[0m \u001b[0;36m1\u001b[0m\u001b[0;34m)\u001b[0m\u001b[0;34m\u001b[0m\u001b[0;34m\u001b[0m\u001b[0m\n\u001b[1;32m   5782\u001b[0m \u001b[0;34m\u001b[0m\u001b[0m\n",
            "\u001b[0;31mValueError\u001b[0m: not enough values to unpack (expected 3, got 0)"
          ]
        }
      ]
    },
    {
      "cell_type": "code",
      "source": [
        ""
      ],
      "metadata": {
        "id": "G8QWiPvEjDzg"
      },
      "execution_count": null,
      "outputs": []
    },
    {
      "cell_type": "code",
      "source": [
        "# ?numpyro.render_model#(modelsubject_idx, data)\n",
        "\n",
        "# import pyro\n",
        "\n"
      ],
      "metadata": {
        "id": "pUPIR0gBkGVw"
      },
      "execution_count": null,
      "outputs": []
    },
    {
      "cell_type": "code",
      "source": [
        "nuts_kernel = NUTS(model)\n",
        "\n",
        "mcmc = MCMC(nuts_kernel, num_samples=2000, num_warmup=2000)\n",
        "rng_key = random.PRNGKey(0)\n",
        "mcmc.run(rng_key, subject_idx, data, actions=None)\n",
        "\n",
        "posterior_samples = mcmc.get_samples()"
      ],
      "metadata": {
        "id": "H71Ip_TkjDw2"
      },
      "execution_count": null,
      "outputs": []
    },
    {
      "cell_type": "code",
      "source": [
        "?dist.CategoricalProbs"
      ],
      "metadata": {
        "id": "3KYvrXa6jTcJ"
      },
      "execution_count": null,
      "outputs": []
    },
    {
      "cell_type": "code",
      "source": [
        ""
      ],
      "metadata": {
        "id": "NoF0Hg1ljTZx"
      },
      "execution_count": null,
      "outputs": []
    },
    {
      "cell_type": "code",
      "source": [
        ""
      ],
      "metadata": {
        "id": "wDOCDlyYjTUt"
      },
      "execution_count": null,
      "outputs": []
    },
    {
      "cell_type": "code",
      "source": [
        "FVC_obs = train[\"FVC\"].values\n",
        "Weeks = train[\"Weeks\"].values\n",
        "PatientID = train[\"PatientID\"].values"
      ],
      "metadata": {
        "id": "o2UOp8Ovd0h4"
      },
      "execution_count": null,
      "outputs": []
    },
    {
      "cell_type": "code",
      "source": [
        "def model(PatientID, Weeks, FVC_obs=None):\n",
        "    μ_α = numpyro.sample(\"μ_α\", dist.Normal(0.0, 100.0))\n",
        "    σ_α = numpyro.sample(\"σ_α\", dist.HalfNormal(100.0))\n",
        "    μ_β = numpyro.sample(\"μ_β\", dist.Normal(0.0, 100.0))\n",
        "    σ_β = numpyro.sample(\"σ_β\", dist.HalfNormal(100.0))\n",
        "\n",
        "    np.unique()\n",
        "    unique_patient_IDs = np.unique(PatientID)\n",
        "    n_patients = len(unique_patient_IDs)\n",
        "\n",
        "    with numpyro.plate(\"plate_i\", n_patients):\n",
        "        α = numpyro.sample(\"α\", dist.Normal(μ_α, σ_α))\n",
        "        β = numpyro.sample(\"β\", dist.Normal(μ_β, σ_β))\n",
        "\n",
        "    σ = numpyro.sample(\"σ\", dist.HalfNormal(100.0))\n",
        "    FVC_est = α[PatientID] + β[PatientID] * Weeks\n",
        "\n",
        "    with numpyro.plate(\"data\", len(PatientID)):\n",
        "        numpyro.sample(\"obs\", dist.Normal(FVC_est, σ), obs=FVC_obs)"
      ],
      "metadata": {
        "id": "t-f_waBXdtpg"
      },
      "execution_count": null,
      "outputs": []
    },
    {
      "cell_type": "code",
      "source": [
        ""
      ],
      "metadata": {
        "colab": {
          "base_uri": "https://localhost:8080/",
          "height": 227
        },
        "id": "WzHKgjhRdtnO",
        "outputId": "d265b2b7-8104-4613-8d4f-a8d9c0a115dc"
      },
      "execution_count": null,
      "outputs": [
        {
          "output_type": "execute_result",
          "data": {
            "text/plain": [
              "<graphviz.dot.Digraph at 0x7fec54636dd0>"
            ],
            "image/svg+xml": "<?xml version=\"1.0\" encoding=\"UTF-8\" standalone=\"no\"?>\n<!DOCTYPE svg PUBLIC \"-//W3C//DTD SVG 1.1//EN\"\n \"http://www.w3.org/Graphics/SVG/1.1/DTD/svg11.dtd\">\n<!-- Generated by graphviz version 2.40.1 (20161225.0304)\n -->\n<!-- Title: %3 Pages: 1 -->\n<svg width=\"278pt\" height=\"155pt\"\n viewBox=\"0.00 0.00 278.00 155.00\" xmlns=\"http://www.w3.org/2000/svg\" xmlns:xlink=\"http://www.w3.org/1999/xlink\">\n<g id=\"graph0\" class=\"graph\" transform=\"scale(1 1) rotate(0) translate(4 151)\">\n<title>%3</title>\n<polygon fill=\"#ffffff\" stroke=\"transparent\" points=\"-4,4 -4,-151 274,-151 274,4 -4,4\"/>\n<g id=\"clust1\" class=\"cluster\">\n<title>cluster_plate_i</title>\n<polygon fill=\"none\" stroke=\"#000000\" points=\"64,-8 64,-83 206,-83 206,-8 64,-8\"/>\n<text text-anchor=\"middle\" x=\"178.5\" y=\"-15.8\" font-family=\"Times,serif\" font-size=\"14.00\" fill=\"#000000\">plate_i</text>\n</g>\n<!-- a_α -->\n<g id=\"node1\" class=\"node\">\n<title>a_α</title>\n<ellipse fill=\"#ffffff\" stroke=\"#000000\" cx=\"27\" cy=\"-129\" rx=\"27\" ry=\"18\"/>\n<text text-anchor=\"middle\" x=\"27\" y=\"-125.3\" font-family=\"Times,serif\" font-size=\"14.00\" fill=\"#000000\">a_α</text>\n</g>\n<!-- α -->\n<g id=\"node5\" class=\"node\">\n<title>α</title>\n<ellipse fill=\"#ffffff\" stroke=\"#000000\" cx=\"99\" cy=\"-57\" rx=\"27\" ry=\"18\"/>\n<text text-anchor=\"middle\" x=\"99\" y=\"-53.3\" font-family=\"Times,serif\" font-size=\"14.00\" fill=\"#000000\">α</text>\n</g>\n<!-- a_α&#45;&gt;α -->\n<g id=\"edge1\" class=\"edge\">\n<title>a_α&#45;&gt;α</title>\n<path fill=\"none\" stroke=\"#000000\" d=\"M42.2693,-113.7307C52.197,-103.803 65.3153,-90.6847 76.4363,-79.5637\"/>\n<polygon fill=\"#000000\" stroke=\"#000000\" points=\"79.1564,-81.7933 83.7527,-72.2473 74.2067,-76.8436 79.1564,-81.7933\"/>\n</g>\n<!-- b_α -->\n<g id=\"node2\" class=\"node\">\n<title>b_α</title>\n<ellipse fill=\"#ffffff\" stroke=\"#000000\" cx=\"99\" cy=\"-129\" rx=\"27\" ry=\"18\"/>\n<text text-anchor=\"middle\" x=\"99\" y=\"-125.3\" font-family=\"Times,serif\" font-size=\"14.00\" fill=\"#000000\">b_α</text>\n</g>\n<!-- b_α&#45;&gt;α -->\n<g id=\"edge2\" class=\"edge\">\n<title>b_α&#45;&gt;α</title>\n<path fill=\"none\" stroke=\"#000000\" d=\"M99,-110.8314C99,-103.131 99,-93.9743 99,-85.4166\"/>\n<polygon fill=\"#000000\" stroke=\"#000000\" points=\"102.5001,-85.4132 99,-75.4133 95.5001,-85.4133 102.5001,-85.4132\"/>\n</g>\n<!-- μ_β -->\n<g id=\"node3\" class=\"node\">\n<title>μ_β</title>\n<ellipse fill=\"#ffffff\" stroke=\"#000000\" cx=\"171\" cy=\"-129\" rx=\"27\" ry=\"18\"/>\n<text text-anchor=\"middle\" x=\"171\" y=\"-125.3\" font-family=\"Times,serif\" font-size=\"14.00\" fill=\"#000000\">μ_β</text>\n</g>\n<!-- β -->\n<g id=\"node6\" class=\"node\">\n<title>β</title>\n<ellipse fill=\"#ffffff\" stroke=\"#000000\" cx=\"171\" cy=\"-57\" rx=\"27\" ry=\"18\"/>\n<text text-anchor=\"middle\" x=\"171\" y=\"-53.3\" font-family=\"Times,serif\" font-size=\"14.00\" fill=\"#000000\">β</text>\n</g>\n<!-- μ_β&#45;&gt;β -->\n<g id=\"edge3\" class=\"edge\">\n<title>μ_β&#45;&gt;β</title>\n<path fill=\"none\" stroke=\"#000000\" d=\"M171,-110.8314C171,-103.131 171,-93.9743 171,-85.4166\"/>\n<polygon fill=\"#000000\" stroke=\"#000000\" points=\"174.5001,-85.4132 171,-75.4133 167.5001,-85.4133 174.5001,-85.4132\"/>\n</g>\n<!-- σ_β -->\n<g id=\"node4\" class=\"node\">\n<title>σ_β</title>\n<ellipse fill=\"#ffffff\" stroke=\"#000000\" cx=\"243\" cy=\"-129\" rx=\"27\" ry=\"18\"/>\n<text text-anchor=\"middle\" x=\"243\" y=\"-125.3\" font-family=\"Times,serif\" font-size=\"14.00\" fill=\"#000000\">σ_β</text>\n</g>\n<!-- σ_β&#45;&gt;β -->\n<g id=\"edge4\" class=\"edge\">\n<title>σ_β&#45;&gt;β</title>\n<path fill=\"none\" stroke=\"#000000\" d=\"M227.7307,-113.7307C217.803,-103.803 204.6847,-90.6847 193.5637,-79.5637\"/>\n<polygon fill=\"#000000\" stroke=\"#000000\" points=\"195.7933,-76.8436 186.2473,-72.2473 190.8436,-81.7933 195.7933,-76.8436\"/>\n</g>\n</g>\n</svg>\n"
          },
          "metadata": {},
          "execution_count": 226
        }
      ]
    },
    {
      "cell_type": "code",
      "source": [
        ""
      ],
      "metadata": {
        "id": "2mK8sjDFi46_"
      },
      "execution_count": null,
      "outputs": []
    },
    {
      "cell_type": "code",
      "source": [
        ""
      ],
      "metadata": {
        "id": "mtWbVLWio1YO"
      },
      "execution_count": null,
      "outputs": []
    },
    {
      "cell_type": "code",
      "source": [
        ""
      ],
      "metadata": {
        "id": "DNgKY7gEo1Vw"
      },
      "execution_count": null,
      "outputs": []
    },
    {
      "cell_type": "code",
      "source": [
        "\n"
      ],
      "metadata": {
        "id": "KnizeDnD4Zta"
      },
      "execution_count": null,
      "outputs": []
    },
    {
      "cell_type": "code",
      "source": [
        ""
      ],
      "metadata": {
        "id": "MbYXSfZU4Zqz"
      },
      "execution_count": null,
      "outputs": []
    },
    {
      "cell_type": "code",
      "source": [
        ""
      ],
      "metadata": {
        "colab": {
          "base_uri": "https://localhost:8080/"
        },
        "id": "xlSubGvLo1RN",
        "outputId": "269561f7-21b7-43ad-e7e6-16acbca1b4c4"
      },
      "execution_count": null,
      "outputs": [
        {
          "output_type": "execute_result",
          "data": {
            "text/plain": [
              "array([ 0,  0,  0, ..., 99, 99, 99])"
            ]
          },
          "metadata": {},
          "execution_count": 18
        }
      ]
    },
    {
      "cell_type": "code",
      "source": [
        "n_subjects"
      ],
      "metadata": {
        "colab": {
          "base_uri": "https://localhost:8080/"
        },
        "id": "fYbsvZls5pxq",
        "outputId": "e6997b63-e21c-4735-c84a-4cd99a936bf5"
      },
      "execution_count": null,
      "outputs": [
        {
          "output_type": "execute_result",
          "data": {
            "text/plain": [
              "100"
            ]
          },
          "metadata": {},
          "execution_count": 21
        }
      ]
    },
    {
      "cell_type": "code",
      "source": [
        "import pystan\n",
        "\n",
        "data_dict = {'n_s': n_subjects, 'n_t': n_subjects*100, 'Action': actions, 'Reward':rewards, 'Subjects':subject}\n"
      ],
      "metadata": {
        "id": "tXIQUryn5OCm"
      },
      "execution_count": null,
      "outputs": []
    },
    {
      "cell_type": "code",
      "source": [
        ""
      ],
      "metadata": {
        "id": "ycbB_LwEo1IV"
      },
      "execution_count": null,
      "outputs": []
    },
    {
      "cell_type": "code",
      "source": [
        ""
      ],
      "metadata": {
        "id": "NiPUDwgj6NjF"
      },
      "execution_count": null,
      "outputs": []
    },
    {
      "cell_type": "code",
      "source": [
        ""
      ],
      "metadata": {
        "id": "RV46Hw3y6Ngp"
      },
      "execution_count": null,
      "outputs": []
    },
    {
      "cell_type": "code",
      "source": [
        ""
      ],
      "metadata": {
        "id": "OOxoViaQ6NeM"
      },
      "execution_count": null,
      "outputs": []
    },
    {
      "cell_type": "markdown",
      "source": [
        "# πStan"
      ],
      "metadata": {
        "id": "sdLTDZvZcQpj"
      }
    },
    {
      "cell_type": "code",
      "source": [
        "import pystan\n",
        "# https://mc-stan.org/users/documentation/case-studies/radon.html"
      ],
      "metadata": {
        "id": "RRyLOVZpcvws"
      },
      "execution_count": null,
      "outputs": []
    },
    {
      "cell_type": "code",
      "source": [
        "subjects    = df.subject.unique()\n",
        "n_subjects  = len(subjects)\n",
        "sub_lookup  = dict(zip(subjects, range(len(subjects))))\n",
        "subjects    = df['subjects'] = df.subject.replace(sub_lookup).values\n",
        "actions     = df.actions.values\n",
        "rewards     = df.rewards.values\n"
      ],
      "metadata": {
        "id": "QpDIr9vBcc8S"
      },
      "execution_count": null,
      "outputs": []
    },
    {
      "cell_type": "code",
      "source": [
        "df2.head(3)"
      ],
      "metadata": {
        "colab": {
          "base_uri": "https://localhost:8080/",
          "height": 143
        },
        "id": "OYX-fhGGnabB",
        "outputId": "0d8451a9-bc47-42e6-c7e7-2a57577d446e"
      },
      "execution_count": null,
      "outputs": [
        {
          "output_type": "execute_result",
          "data": {
            "text/html": [
              "\n",
              "  <div id=\"df-cc5a7687-21d1-4fc3-938d-9aaf22fb9063\">\n",
              "    <div class=\"colab-df-container\">\n",
              "      <div>\n",
              "<style scoped>\n",
              "    .dataframe tbody tr th:only-of-type {\n",
              "        vertical-align: middle;\n",
              "    }\n",
              "\n",
              "    .dataframe tbody tr th {\n",
              "        vertical-align: top;\n",
              "    }\n",
              "\n",
              "    .dataframe thead th {\n",
              "        text-align: right;\n",
              "    }\n",
              "</style>\n",
              "<table border=\"1\" class=\"dataframe\">\n",
              "  <thead>\n",
              "    <tr style=\"text-align: right;\">\n",
              "      <th></th>\n",
              "      <th>subject</th>\n",
              "      <th>actions</th>\n",
              "      <th>rewards</th>\n",
              "      <th>true_alpha</th>\n",
              "      <th>true_beta</th>\n",
              "    </tr>\n",
              "  </thead>\n",
              "  <tbody>\n",
              "    <tr>\n",
              "      <th>0</th>\n",
              "      <td>subject_99</td>\n",
              "      <td>2</td>\n",
              "      <td>1</td>\n",
              "      <td>28.265336</td>\n",
              "      <td>301.148257</td>\n",
              "    </tr>\n",
              "    <tr>\n",
              "      <th>1</th>\n",
              "      <td>subject_99</td>\n",
              "      <td>2</td>\n",
              "      <td>1</td>\n",
              "      <td>28.265336</td>\n",
              "      <td>301.148257</td>\n",
              "    </tr>\n",
              "    <tr>\n",
              "      <th>2</th>\n",
              "      <td>subject_99</td>\n",
              "      <td>2</td>\n",
              "      <td>1</td>\n",
              "      <td>28.265336</td>\n",
              "      <td>301.148257</td>\n",
              "    </tr>\n",
              "  </tbody>\n",
              "</table>\n",
              "</div>\n",
              "      <button class=\"colab-df-convert\" onclick=\"convertToInteractive('df-cc5a7687-21d1-4fc3-938d-9aaf22fb9063')\"\n",
              "              title=\"Convert this dataframe to an interactive table.\"\n",
              "              style=\"display:none;\">\n",
              "        \n",
              "  <svg xmlns=\"http://www.w3.org/2000/svg\" height=\"24px\"viewBox=\"0 0 24 24\"\n",
              "       width=\"24px\">\n",
              "    <path d=\"M0 0h24v24H0V0z\" fill=\"none\"/>\n",
              "    <path d=\"M18.56 5.44l.94 2.06.94-2.06 2.06-.94-2.06-.94-.94-2.06-.94 2.06-2.06.94zm-11 1L8.5 8.5l.94-2.06 2.06-.94-2.06-.94L8.5 2.5l-.94 2.06-2.06.94zm10 10l.94 2.06.94-2.06 2.06-.94-2.06-.94-.94-2.06-.94 2.06-2.06.94z\"/><path d=\"M17.41 7.96l-1.37-1.37c-.4-.4-.92-.59-1.43-.59-.52 0-1.04.2-1.43.59L10.3 9.45l-7.72 7.72c-.78.78-.78 2.05 0 2.83L4 21.41c.39.39.9.59 1.41.59.51 0 1.02-.2 1.41-.59l7.78-7.78 2.81-2.81c.8-.78.8-2.07 0-2.86zM5.41 20L4 18.59l7.72-7.72 1.47 1.35L5.41 20z\"/>\n",
              "  </svg>\n",
              "      </button>\n",
              "      \n",
              "  <style>\n",
              "    .colab-df-container {\n",
              "      display:flex;\n",
              "      flex-wrap:wrap;\n",
              "      gap: 12px;\n",
              "    }\n",
              "\n",
              "    .colab-df-convert {\n",
              "      background-color: #E8F0FE;\n",
              "      border: none;\n",
              "      border-radius: 50%;\n",
              "      cursor: pointer;\n",
              "      display: none;\n",
              "      fill: #1967D2;\n",
              "      height: 32px;\n",
              "      padding: 0 0 0 0;\n",
              "      width: 32px;\n",
              "    }\n",
              "\n",
              "    .colab-df-convert:hover {\n",
              "      background-color: #E2EBFA;\n",
              "      box-shadow: 0px 1px 2px rgba(60, 64, 67, 0.3), 0px 1px 3px 1px rgba(60, 64, 67, 0.15);\n",
              "      fill: #174EA6;\n",
              "    }\n",
              "\n",
              "    [theme=dark] .colab-df-convert {\n",
              "      background-color: #3B4455;\n",
              "      fill: #D2E3FC;\n",
              "    }\n",
              "\n",
              "    [theme=dark] .colab-df-convert:hover {\n",
              "      background-color: #434B5C;\n",
              "      box-shadow: 0px 1px 3px 1px rgba(0, 0, 0, 0.15);\n",
              "      filter: drop-shadow(0px 1px 2px rgba(0, 0, 0, 0.3));\n",
              "      fill: #FFFFFF;\n",
              "    }\n",
              "  </style>\n",
              "\n",
              "      <script>\n",
              "        const buttonEl =\n",
              "          document.querySelector('#df-cc5a7687-21d1-4fc3-938d-9aaf22fb9063 button.colab-df-convert');\n",
              "        buttonEl.style.display =\n",
              "          google.colab.kernel.accessAllowed ? 'block' : 'none';\n",
              "\n",
              "        async function convertToInteractive(key) {\n",
              "          const element = document.querySelector('#df-cc5a7687-21d1-4fc3-938d-9aaf22fb9063');\n",
              "          const dataTable =\n",
              "            await google.colab.kernel.invokeFunction('convertToInteractive',\n",
              "                                                     [key], {});\n",
              "          if (!dataTable) return;\n",
              "\n",
              "          const docLinkHtml = 'Like what you see? Visit the ' +\n",
              "            '<a target=\"_blank\" href=https://colab.research.google.com/notebooks/data_table.ipynb>data table notebook</a>'\n",
              "            + ' to learn more about interactive tables.';\n",
              "          element.innerHTML = '';\n",
              "          dataTable['output_type'] = 'display_data';\n",
              "          await google.colab.output.renderOutput(dataTable, element);\n",
              "          const docLink = document.createElement('div');\n",
              "          docLink.innerHTML = docLinkHtml;\n",
              "          element.appendChild(docLink);\n",
              "        }\n",
              "      </script>\n",
              "    </div>\n",
              "  </div>\n",
              "  "
            ],
            "text/plain": [
              "      subject  actions  rewards  true_alpha   true_beta\n",
              "0  subject_99        2        1   28.265336  301.148257\n",
              "1  subject_99        2        1   28.265336  301.148257\n",
              "2  subject_99        2        1   28.265336  301.148257"
            ]
          },
          "metadata": {},
          "execution_count": 44
        }
      ]
    },
    {
      "cell_type": "code",
      "source": [
        "df2.actions + 1"
      ],
      "metadata": {
        "colab": {
          "base_uri": "https://localhost:8080/"
        },
        "id": "0YY7xzJgqU8E",
        "outputId": "49fc2b65-c25f-4fee-e664-933698aee54d"
      },
      "execution_count": null,
      "outputs": [
        {
          "output_type": "execute_result",
          "data": {
            "text/plain": [
              "0     2\n",
              "1     2\n",
              "2     2\n",
              "3     2\n",
              "4     2\n",
              "     ..\n",
              "95    1\n",
              "96    1\n",
              "97    1\n",
              "98    1\n",
              "99    0\n",
              "Name: actions, Length: 100, dtype: int64"
            ]
          },
          "metadata": {},
          "execution_count": 49
        }
      ]
    },
    {
      "cell_type": "code",
      "source": [
        "# assume Q is knowndf2\n",
        "a = 28.265336\n",
        "b = \n",
        "df2"
      ],
      "metadata": {
        "colab": {
          "base_uri": "https://localhost:8080/",
          "height": 423
        },
        "id": "twMdlxEvqhLA",
        "outputId": "ee6ab40d-7cd0-4478-db49-221dd282a1d5"
      },
      "execution_count": null,
      "outputs": [
        {
          "output_type": "execute_result",
          "data": {
            "text/html": [
              "\n",
              "  <div id=\"df-25d9cc00-cddd-4e0c-8cd8-40d713765e93\">\n",
              "    <div class=\"colab-df-container\">\n",
              "      <div>\n",
              "<style scoped>\n",
              "    .dataframe tbody tr th:only-of-type {\n",
              "        vertical-align: middle;\n",
              "    }\n",
              "\n",
              "    .dataframe tbody tr th {\n",
              "        vertical-align: top;\n",
              "    }\n",
              "\n",
              "    .dataframe thead th {\n",
              "        text-align: right;\n",
              "    }\n",
              "</style>\n",
              "<table border=\"1\" class=\"dataframe\">\n",
              "  <thead>\n",
              "    <tr style=\"text-align: right;\">\n",
              "      <th></th>\n",
              "      <th>subject</th>\n",
              "      <th>actions</th>\n",
              "      <th>rewards</th>\n",
              "      <th>true_alpha</th>\n",
              "      <th>true_beta</th>\n",
              "    </tr>\n",
              "  </thead>\n",
              "  <tbody>\n",
              "    <tr>\n",
              "      <th>0</th>\n",
              "      <td>subject_99</td>\n",
              "      <td>2</td>\n",
              "      <td>1</td>\n",
              "      <td>28.265336</td>\n",
              "      <td>301.148257</td>\n",
              "    </tr>\n",
              "    <tr>\n",
              "      <th>1</th>\n",
              "      <td>subject_99</td>\n",
              "      <td>2</td>\n",
              "      <td>1</td>\n",
              "      <td>28.265336</td>\n",
              "      <td>301.148257</td>\n",
              "    </tr>\n",
              "    <tr>\n",
              "      <th>2</th>\n",
              "      <td>subject_99</td>\n",
              "      <td>2</td>\n",
              "      <td>1</td>\n",
              "      <td>28.265336</td>\n",
              "      <td>301.148257</td>\n",
              "    </tr>\n",
              "    <tr>\n",
              "      <th>3</th>\n",
              "      <td>subject_99</td>\n",
              "      <td>2</td>\n",
              "      <td>1</td>\n",
              "      <td>28.265336</td>\n",
              "      <td>301.148257</td>\n",
              "    </tr>\n",
              "    <tr>\n",
              "      <th>4</th>\n",
              "      <td>subject_99</td>\n",
              "      <td>2</td>\n",
              "      <td>1</td>\n",
              "      <td>28.265336</td>\n",
              "      <td>301.148257</td>\n",
              "    </tr>\n",
              "    <tr>\n",
              "      <th>...</th>\n",
              "      <td>...</td>\n",
              "      <td>...</td>\n",
              "      <td>...</td>\n",
              "      <td>...</td>\n",
              "      <td>...</td>\n",
              "    </tr>\n",
              "    <tr>\n",
              "      <th>95</th>\n",
              "      <td>subject_99</td>\n",
              "      <td>1</td>\n",
              "      <td>1</td>\n",
              "      <td>28.265336</td>\n",
              "      <td>301.148257</td>\n",
              "    </tr>\n",
              "    <tr>\n",
              "      <th>96</th>\n",
              "      <td>subject_99</td>\n",
              "      <td>1</td>\n",
              "      <td>1</td>\n",
              "      <td>28.265336</td>\n",
              "      <td>301.148257</td>\n",
              "    </tr>\n",
              "    <tr>\n",
              "      <th>97</th>\n",
              "      <td>subject_99</td>\n",
              "      <td>1</td>\n",
              "      <td>0</td>\n",
              "      <td>28.265336</td>\n",
              "      <td>301.148257</td>\n",
              "    </tr>\n",
              "    <tr>\n",
              "      <th>98</th>\n",
              "      <td>subject_99</td>\n",
              "      <td>1</td>\n",
              "      <td>1</td>\n",
              "      <td>28.265336</td>\n",
              "      <td>301.148257</td>\n",
              "    </tr>\n",
              "    <tr>\n",
              "      <th>99</th>\n",
              "      <td>subject_99</td>\n",
              "      <td>0</td>\n",
              "      <td>0</td>\n",
              "      <td>28.265336</td>\n",
              "      <td>301.148257</td>\n",
              "    </tr>\n",
              "  </tbody>\n",
              "</table>\n",
              "<p>100 rows × 5 columns</p>\n",
              "</div>\n",
              "      <button class=\"colab-df-convert\" onclick=\"convertToInteractive('df-25d9cc00-cddd-4e0c-8cd8-40d713765e93')\"\n",
              "              title=\"Convert this dataframe to an interactive table.\"\n",
              "              style=\"display:none;\">\n",
              "        \n",
              "  <svg xmlns=\"http://www.w3.org/2000/svg\" height=\"24px\"viewBox=\"0 0 24 24\"\n",
              "       width=\"24px\">\n",
              "    <path d=\"M0 0h24v24H0V0z\" fill=\"none\"/>\n",
              "    <path d=\"M18.56 5.44l.94 2.06.94-2.06 2.06-.94-2.06-.94-.94-2.06-.94 2.06-2.06.94zm-11 1L8.5 8.5l.94-2.06 2.06-.94-2.06-.94L8.5 2.5l-.94 2.06-2.06.94zm10 10l.94 2.06.94-2.06 2.06-.94-2.06-.94-.94-2.06-.94 2.06-2.06.94z\"/><path d=\"M17.41 7.96l-1.37-1.37c-.4-.4-.92-.59-1.43-.59-.52 0-1.04.2-1.43.59L10.3 9.45l-7.72 7.72c-.78.78-.78 2.05 0 2.83L4 21.41c.39.39.9.59 1.41.59.51 0 1.02-.2 1.41-.59l7.78-7.78 2.81-2.81c.8-.78.8-2.07 0-2.86zM5.41 20L4 18.59l7.72-7.72 1.47 1.35L5.41 20z\"/>\n",
              "  </svg>\n",
              "      </button>\n",
              "      \n",
              "  <style>\n",
              "    .colab-df-container {\n",
              "      display:flex;\n",
              "      flex-wrap:wrap;\n",
              "      gap: 12px;\n",
              "    }\n",
              "\n",
              "    .colab-df-convert {\n",
              "      background-color: #E8F0FE;\n",
              "      border: none;\n",
              "      border-radius: 50%;\n",
              "      cursor: pointer;\n",
              "      display: none;\n",
              "      fill: #1967D2;\n",
              "      height: 32px;\n",
              "      padding: 0 0 0 0;\n",
              "      width: 32px;\n",
              "    }\n",
              "\n",
              "    .colab-df-convert:hover {\n",
              "      background-color: #E2EBFA;\n",
              "      box-shadow: 0px 1px 2px rgba(60, 64, 67, 0.3), 0px 1px 3px 1px rgba(60, 64, 67, 0.15);\n",
              "      fill: #174EA6;\n",
              "    }\n",
              "\n",
              "    [theme=dark] .colab-df-convert {\n",
              "      background-color: #3B4455;\n",
              "      fill: #D2E3FC;\n",
              "    }\n",
              "\n",
              "    [theme=dark] .colab-df-convert:hover {\n",
              "      background-color: #434B5C;\n",
              "      box-shadow: 0px 1px 3px 1px rgba(0, 0, 0, 0.15);\n",
              "      filter: drop-shadow(0px 1px 2px rgba(0, 0, 0, 0.3));\n",
              "      fill: #FFFFFF;\n",
              "    }\n",
              "  </style>\n",
              "\n",
              "      <script>\n",
              "        const buttonEl =\n",
              "          document.querySelector('#df-25d9cc00-cddd-4e0c-8cd8-40d713765e93 button.colab-df-convert');\n",
              "        buttonEl.style.display =\n",
              "          google.colab.kernel.accessAllowed ? 'block' : 'none';\n",
              "\n",
              "        async function convertToInteractive(key) {\n",
              "          const element = document.querySelector('#df-25d9cc00-cddd-4e0c-8cd8-40d713765e93');\n",
              "          const dataTable =\n",
              "            await google.colab.kernel.invokeFunction('convertToInteractive',\n",
              "                                                     [key], {});\n",
              "          if (!dataTable) return;\n",
              "\n",
              "          const docLinkHtml = 'Like what you see? Visit the ' +\n",
              "            '<a target=\"_blank\" href=https://colab.research.google.com/notebooks/data_table.ipynb>data table notebook</a>'\n",
              "            + ' to learn more about interactive tables.';\n",
              "          element.innerHTML = '';\n",
              "          dataTable['output_type'] = 'display_data';\n",
              "          await google.colab.output.renderOutput(dataTable, element);\n",
              "          const docLink = document.createElement('div');\n",
              "          docLink.innerHTML = docLinkHtml;\n",
              "          element.appendChild(docLink);\n",
              "        }\n",
              "      </script>\n",
              "    </div>\n",
              "  </div>\n",
              "  "
            ],
            "text/plain": [
              "       subject  actions  rewards  true_alpha   true_beta\n",
              "0   subject_99        2        1   28.265336  301.148257\n",
              "1   subject_99        2        1   28.265336  301.148257\n",
              "2   subject_99        2        1   28.265336  301.148257\n",
              "3   subject_99        2        1   28.265336  301.148257\n",
              "4   subject_99        2        1   28.265336  301.148257\n",
              "..         ...      ...      ...         ...         ...\n",
              "95  subject_99        1        1   28.265336  301.148257\n",
              "96  subject_99        1        1   28.265336  301.148257\n",
              "97  subject_99        1        0   28.265336  301.148257\n",
              "98  subject_99        1        1   28.265336  301.148257\n",
              "99  subject_99        0        0   28.265336  301.148257\n",
              "\n",
              "[100 rows x 5 columns]"
            ]
          },
          "metadata": {},
          "execution_count": 63
        }
      ]
    },
    {
      "cell_type": "code",
      "source": [
        "# 1 subject ---------------------------------------------------*\n",
        "stan_data = {\n",
        "    'n_t':len(df2.actions),\n",
        "    'actions':df2.actions + 1,\n",
        "    'rewards':df2.rewards}\n",
        "\n",
        "\n",
        "\n",
        "stan_model = \"\"\"\n",
        "data {\n",
        "  int<lower=0>  n_t;\n",
        "  vector[n_t]   actions;\n",
        "  vector[n_t]   rewards;\n",
        "}\n",
        "\n",
        "parameter {\n",
        "  real<lower=0,upper=1> alpha;\n",
        "  real beta;\n",
        "}\n",
        "\n",
        "model {\n",
        "  vector[3] Qs;\n",
        "  vector[3] BQs;\n",
        "  vector[3] pi;\n",
        "\n",
        "  for (t in 1:n_t) {\n",
        "\n",
        "    if (t == 1){\n",
        "      for (v in 1:4){\n",
        "        Qs[v] = 0.3333\n",
        "      }\n",
        "    }\n",
        "\n",
        "    // update Qs ----------*\n",
        "    Qs[actions[t]] = Qs[actions[t]] - alpha * (rewards[t] - Qs[actions[t]])\n",
        "\n",
        "    BQs = beta * Qs\n",
        "    BQs = Qs\n",
        "    //denom = exp(BQs[1]) + exp(BQs[2]) + exp(BQs[3])\n",
        "    //for (v in 1:4){\n",
        "     //pi[v] = exp(BQs[v])/ denom\n",
        "    //}\n",
        "    \n",
        "\n",
        "\n",
        "    // sample from categorgical ---------*\n",
        "    actions[t] ~ CategoricalLogit(BQs);\n",
        "  }\n",
        "}\n",
        "\n",
        "\"\"\"\n",
        "\n",
        "fit = pystan.stan(model_code=stan_model, data=stan_data, iter=1000, chains=2)\n",
        "print(fit)\n",
        "fit.plot()"
      ],
      "metadata": {
        "colab": {
          "base_uri": "https://localhost:8080/",
          "height": 1000
        },
        "id": "Z1OIcn9tEQYQ",
        "outputId": "e0cea528-2da7-4772-8483-49b5b34b6d99"
      },
      "execution_count": null,
      "outputs": [
        {
          "output_type": "stream",
          "name": "stderr",
          "text": [
            "WARNING:pystan:DeprecationWarning: pystan.stan was deprecated in version 2.17 and will be removed in version 3.0. Compile and use a Stan program in separate steps.\n"
          ]
        },
        {
          "output_type": "error",
          "ename": "ValueError",
          "evalue": "ignored",
          "traceback": [
            "\u001b[0;31m---------------------------------------------------------------------------\u001b[0m",
            "\u001b[0;31mValueError\u001b[0m                                Traceback (most recent call last)",
            "\u001b[0;32m<ipython-input-60-f04b14de06bf>\u001b[0m in \u001b[0;36m<module>\u001b[0;34m()\u001b[0m\n\u001b[1;32m     52\u001b[0m \"\"\"\n\u001b[1;32m     53\u001b[0m \u001b[0;34m\u001b[0m\u001b[0m\n\u001b[0;32m---> 54\u001b[0;31m \u001b[0mfit\u001b[0m \u001b[0;34m=\u001b[0m \u001b[0mpystan\u001b[0m\u001b[0;34m.\u001b[0m\u001b[0mstan\u001b[0m\u001b[0;34m(\u001b[0m\u001b[0mmodel_code\u001b[0m\u001b[0;34m=\u001b[0m\u001b[0mstan_model\u001b[0m\u001b[0;34m,\u001b[0m \u001b[0mdata\u001b[0m\u001b[0;34m=\u001b[0m\u001b[0mstan_data\u001b[0m\u001b[0;34m,\u001b[0m \u001b[0miter\u001b[0m\u001b[0;34m=\u001b[0m\u001b[0;36m1000\u001b[0m\u001b[0;34m,\u001b[0m \u001b[0mchains\u001b[0m\u001b[0;34m=\u001b[0m\u001b[0;36m2\u001b[0m\u001b[0;34m)\u001b[0m\u001b[0;34m\u001b[0m\u001b[0;34m\u001b[0m\u001b[0m\n\u001b[0m\u001b[1;32m     55\u001b[0m \u001b[0mprint\u001b[0m\u001b[0;34m(\u001b[0m\u001b[0mfit\u001b[0m\u001b[0;34m)\u001b[0m\u001b[0;34m\u001b[0m\u001b[0;34m\u001b[0m\u001b[0m\n\u001b[1;32m     56\u001b[0m \u001b[0mfit\u001b[0m\u001b[0;34m.\u001b[0m\u001b[0mplot\u001b[0m\u001b[0;34m(\u001b[0m\u001b[0;34m)\u001b[0m\u001b[0;34m\u001b[0m\u001b[0;34m\u001b[0m\u001b[0m\n",
            "\u001b[0;32m/usr/local/lib/python3.7/dist-packages/pystan/api.py\u001b[0m in \u001b[0;36mstan\u001b[0;34m(file, model_name, model_code, fit, data, pars, chains, iter, warmup, thin, init, seed, algorithm, control, sample_file, diagnostic_file, verbose, boost_lib, eigen_lib, include_paths, n_jobs, allow_undefined, **kwargs)\u001b[0m\n\u001b[1;32m    433\u001b[0m                       \u001b[0minclude_paths\u001b[0m\u001b[0;34m=\u001b[0m\u001b[0minclude_paths\u001b[0m\u001b[0;34m,\u001b[0m\u001b[0;34m\u001b[0m\u001b[0;34m\u001b[0m\u001b[0m\n\u001b[1;32m    434\u001b[0m                       \u001b[0mobfuscate_model_name\u001b[0m\u001b[0;34m=\u001b[0m\u001b[0mobfuscate_model_name\u001b[0m\u001b[0;34m,\u001b[0m \u001b[0mverbose\u001b[0m\u001b[0;34m=\u001b[0m\u001b[0mverbose\u001b[0m\u001b[0;34m,\u001b[0m\u001b[0;34m\u001b[0m\u001b[0;34m\u001b[0m\u001b[0m\n\u001b[0;32m--> 435\u001b[0;31m                       allow_undefined=allow_undefined)\n\u001b[0m\u001b[1;32m    436\u001b[0m     \u001b[0;31m# check that arguments in kwargs are valid\u001b[0m\u001b[0;34m\u001b[0m\u001b[0;34m\u001b[0m\u001b[0;34m\u001b[0m\u001b[0m\n\u001b[1;32m    437\u001b[0m     valid_args = {\"chain_id\", \"init_r\", \"test_grad\", \"append_samples\", \"enable_random_init\",\n",
            "\u001b[0;32m/usr/local/lib/python3.7/dist-packages/pystan/model.py\u001b[0m in \u001b[0;36m__init__\u001b[0;34m(self, file, charset, model_name, model_code, stanc_ret, include_paths, boost_lib, eigen_lib, verbose, obfuscate_model_name, extra_compile_args, allow_undefined, include_dirs, includes)\u001b[0m\n\u001b[1;32m    235\u001b[0m                                          \u001b[0minclude_paths\u001b[0m\u001b[0;34m=\u001b[0m\u001b[0minclude_paths\u001b[0m\u001b[0;34m,\u001b[0m\u001b[0;34m\u001b[0m\u001b[0;34m\u001b[0m\u001b[0m\n\u001b[1;32m    236\u001b[0m                                          \u001b[0mobfuscate_model_name\u001b[0m\u001b[0;34m=\u001b[0m\u001b[0mobfuscate_model_name\u001b[0m\u001b[0;34m,\u001b[0m\u001b[0;34m\u001b[0m\u001b[0;34m\u001b[0m\u001b[0m\n\u001b[0;32m--> 237\u001b[0;31m                                          allow_undefined=allow_undefined)\n\u001b[0m\u001b[1;32m    238\u001b[0m \u001b[0;34m\u001b[0m\u001b[0m\n\u001b[1;32m    239\u001b[0m         \u001b[0;32mif\u001b[0m \u001b[0;32mnot\u001b[0m \u001b[0misinstance\u001b[0m\u001b[0;34m(\u001b[0m\u001b[0mstanc_ret\u001b[0m\u001b[0;34m,\u001b[0m \u001b[0mdict\u001b[0m\u001b[0;34m)\u001b[0m\u001b[0;34m:\u001b[0m\u001b[0;34m\u001b[0m\u001b[0;34m\u001b[0m\u001b[0m\n",
            "\u001b[0;32m/usr/local/lib/python3.7/dist-packages/pystan/api.py\u001b[0m in \u001b[0;36mstanc\u001b[0;34m(file, charset, model_code, model_name, include_paths, verbose, obfuscate_model_name, allow_undefined)\u001b[0m\n\u001b[1;32m    167\u001b[0m             \u001b[0mmsg\u001b[0m \u001b[0;34m=\u001b[0m \u001b[0mmsg\u001b[0m\u001b[0;34m.\u001b[0m\u001b[0mencode\u001b[0m\u001b[0;34m(\u001b[0m\u001b[0;34m'ascii'\u001b[0m\u001b[0;34m,\u001b[0m \u001b[0;34m'replace'\u001b[0m\u001b[0;34m)\u001b[0m\u001b[0;34m\u001b[0m\u001b[0;34m\u001b[0m\u001b[0m\n\u001b[1;32m    168\u001b[0m         \u001b[0merror_msg\u001b[0m \u001b[0;34m=\u001b[0m \u001b[0;34m\"Failed to parse Stan model '{}'. Error message:\\n{}\"\u001b[0m\u001b[0;34m.\u001b[0m\u001b[0mformat\u001b[0m\u001b[0;34m(\u001b[0m\u001b[0mmodel_name\u001b[0m\u001b[0;34m,\u001b[0m \u001b[0mmsg\u001b[0m\u001b[0;34m)\u001b[0m\u001b[0;34m\u001b[0m\u001b[0;34m\u001b[0m\u001b[0m\n\u001b[0;32m--> 169\u001b[0;31m         \u001b[0;32mraise\u001b[0m \u001b[0mValueError\u001b[0m\u001b[0;34m(\u001b[0m\u001b[0merror_msg\u001b[0m\u001b[0;34m)\u001b[0m\u001b[0;34m\u001b[0m\u001b[0;34m\u001b[0m\u001b[0m\n\u001b[0m\u001b[1;32m    170\u001b[0m     \u001b[0;32melif\u001b[0m \u001b[0mresult\u001b[0m\u001b[0;34m[\u001b[0m\u001b[0;34m'status'\u001b[0m\u001b[0;34m]\u001b[0m \u001b[0;34m==\u001b[0m \u001b[0;36m0\u001b[0m\u001b[0;34m:\u001b[0m  \u001b[0;31m# SUCCESS_RC is 0\u001b[0m\u001b[0;34m\u001b[0m\u001b[0;34m\u001b[0m\u001b[0m\n\u001b[1;32m    171\u001b[0m         \u001b[0mlogger\u001b[0m\u001b[0;34m.\u001b[0m\u001b[0mdebug\u001b[0m\u001b[0;34m(\u001b[0m\u001b[0;34m\"Successfully parsed Stan model '{}'.\"\u001b[0m\u001b[0;34m.\u001b[0m\u001b[0mformat\u001b[0m\u001b[0;34m(\u001b[0m\u001b[0mmodel_name\u001b[0m\u001b[0;34m)\u001b[0m\u001b[0;34m)\u001b[0m\u001b[0;34m\u001b[0m\u001b[0;34m\u001b[0m\u001b[0m\n",
            "\u001b[0;31mValueError\u001b[0m: Failed to parse Stan model 'anon_model_c403d20dd5647fe138fa2551c43f66ad'. Error message:\nPARSER FAILED TO PARSE INPUT COMPLETELY\nSTOPPED AT LINE 8: \nparameter {\n  real<lower=0,upper=1> alpha;\n  real beta;\n}\n\nmodel {\n  vector[3] Qs;\n  vector[3] BQs;\n  vector[3] pi;\n  real denom;\n\n  for (t in 1:n_t) {\n\n    if (t == 1){\n      for (v in 1:4){\n        Qs[v] = 0.3333\n      }\n    }\n\n    // update Qs ----------*\n    // Qs[actions[t]] = Qs[actions[t]] - alpha * (rewards[t] - Qs[actions[t]])\n\n    //BQs = beta * Qs\n    BQs = Qs\n    //denom = exp(BQs[1]) + exp(BQs[2]) + exp(BQs[3])\n    //for (v in 1:4){\n     //pi[v] = exp(BQs[v])/ denom\n    //}\n    \n\n\n    // sample from categorgical ---------*\n    actions[t] ~ CategoricalLogit(BQs);\n  }\n}\n\n\n\n\n\n"
          ]
        }
      ]
    },
    {
      "cell_type": "code",
      "source": [
        ""
      ],
      "metadata": {
        "id": "z1nt6SOenCxo"
      },
      "execution_count": null,
      "outputs": []
    },
    {
      "cell_type": "code",
      "source": [
        ""
      ],
      "metadata": {
        "id": "MmtACZzgp4t3"
      },
      "execution_count": null,
      "outputs": []
    }
  ]
}