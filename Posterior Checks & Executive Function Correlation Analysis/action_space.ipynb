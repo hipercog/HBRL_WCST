{
 "cells": [
  {
   "cell_type": "markdown",
   "metadata": {},
   "source": [
    "# Actions ~ BayesRL(X)\n",
    "\n",
    "Illustrate how the model drives behaviour.\n",
    "\n",
    "\n",
    "------\n",
    "\n",
    "```\n",
    "author:     Zach Wolpe\n",
    "email:      zach.wolpe@medibio.com.au\n",
    "date:       23 March 2022\n",
    "```\n",
    "\n",
    "-----\n"
   ]
  },
  {
   "cell_type": "code",
   "execution_count": 1,
   "metadata": {},
   "outputs": [],
   "source": [
    "from plotly.subplots import make_subplots\n",
    "import plotly.graph_objects as go\n",
    "import matplotlib.pyplot as plt\n",
    "import plotly.express as px\n",
    "from scipy import stats\n",
    "from tqdm import tqdm\n",
    "import pandas as pd\n",
    "import numpy as np\n",
    "import arviz as az\n",
    "import pickle \n",
    "import math"
   ]
  },
  {
   "cell_type": "code",
   "execution_count": 2,
   "metadata": {},
   "outputs": [],
   "source": [
    "data_loc    = '/Users/zachwolpe/Documents/Production/Dynocog/Python Implementation/final instance/data objects/final data objects'\n",
    "model_loc   = '/Users/zachwolpe/Documents/Production/Dynocog/Python Implementation/final instance/data objects/final model objects'"
   ]
  },
  {
   "cell_type": "markdown",
   "metadata": {},
   "source": [
    "# load data"
   ]
  },
  {
   "cell_type": "code",
   "execution_count": 3,
   "metadata": {},
   "outputs": [],
   "source": [
    "\n",
    "# bio models -----*\n",
    "bio_model_top = np.load(model_loc + '/null_model_top.npz', allow_pickle=True)\n",
    "bio_model_ran = np.load(model_loc + '/null_model_ran.npz', allow_pickle=True)\n",
    "\n",
    "# wcst data -----*\n",
    "wcst_top100     = pd.read_csv(data_loc + '/df_wcst_top_100.csv')\n",
    "wcst_ran100     = pd.read_csv(data_loc + '/df_wcst_ran_100.csv')\n",
    "\n",
    "# psychological covariates -----*\n",
    "psy_top100     = pd.read_csv(data_loc + '/psy_covars_top100.csv')\n",
    "psy_ran100     = pd.read_csv(data_loc + '/psy_covars_ran100.csv')\n",
    "\n",
    "# demographic covariates -----*\n",
    "dem_top100     = pd.read_csv(data_loc + '/dem_covars_top100.csv')\n",
    "dem_ran100     = pd.read_csv(data_loc + '/dem_covars_ran100.csv')\n",
    "# Bayesian Posterior Analysis\n",
    "\n",
    "# extract data ----------------------------------------*\n",
    "alpha   = pd.DataFrame.from_records(bio_model_top['arr_0'].tolist()['a'])\n",
    "beta    = pd.DataFrame.from_records(bio_model_top['arr_0'].tolist()['b'])\n",
    "\n",
    "a_mu  = bio_model_top['arr_0'].tolist()['a_mu']\n",
    "b_mu  = bio_model_top['arr_0'].tolist()['b_mu']\n",
    "a_sd  = bio_model_top['arr_0'].tolist()['a_sd_raw']\n",
    "b_sd  = bio_model_top['arr_0'].tolist()['b_sd_raw']\n",
    "\n",
    "\n",
    "def generate_data(bio_mod):\n",
    "    alpha   = pd.DataFrame.from_records(bio_mod['arr_0'].tolist()['a'])\n",
    "    beta    = pd.DataFrame.from_records(bio_mod['arr_0'].tolist()['b'])\n",
    "\n",
    "    a_mu  = bio_mod['arr_0'].tolist()['a_mu']\n",
    "    b_mu  = bio_mod['arr_0'].tolist()['b_mu']\n",
    "    a_sd  = bio_mod['arr_0'].tolist()['a_sd_raw']\n",
    "    b_sd  = bio_mod['arr_0'].tolist()['b_sd_raw']\n",
    "\n",
    "    return {'alpha': alpha, 'beta': beta, 'a_mu': a_mu, 'b_mu': b_mu, 'a_sd': a_sd, 'b_sd': b_sd}\n",
    "\n",
    "data = {}\n",
    "data['top'] = generate_data(bio_model_top)\n",
    "data['ran'] = generate_data(bio_model_ran)\n"
   ]
  },
  {
   "cell_type": "code",
   "execution_count": 4,
   "metadata": {},
   "outputs": [
    {
     "name": "stdout",
     "output_type": "stream",
     "text": [
      "alpha:  0.9688441185927827\n",
      "beta:   6.1801318205667135\n"
     ]
    }
   ],
   "source": [
    "# extract data ----------------------------------------*\n",
    "alpha   = pd.DataFrame.from_records(bio_model_top['arr_0'].tolist()['a'])\n",
    "beta    = pd.DataFrame.from_records(bio_model_top['arr_0'].tolist()['b'])\n",
    "\n",
    "# first subject params \n",
    "a1 = alpha.loc[:,0].mean()\n",
    "b1 = beta.loc[:,0].mean()\n",
    "\n",
    "print('alpha: ', a1)\n",
    "print('beta:  ', b1)"
   ]
  },
  {
   "cell_type": "code",
   "execution_count": 5,
   "metadata": {},
   "outputs": [
    {
     "data": {
      "text/plain": [
       "1.0    4334\n",
       "3.0    3190\n",
       "2.0    2429\n",
       "Name: action, dtype: int64"
      ]
     },
     "execution_count": 5,
     "metadata": {},
     "output_type": "execute_result"
    }
   ],
   "source": [
    "# action distribution\n",
    "wcst_top100.action.value_counts()"
   ]
  },
  {
   "cell_type": "code",
   "execution_count": 6,
   "metadata": {},
   "outputs": [],
   "source": [
    "# Generate action sequence --------------------------------------------------------------------------------------------*\n",
    "def generate_Qs_pi(x,a,b):\n",
    "\n",
    "    # init: [shape, colour, number]\n",
    "    Qs = np.ones((100,4)) * 0.25\n",
    "\n",
    "    for i in range(1,100):\n",
    "        # take action\n",
    "        at = x.action.values[i].astype(int)\n",
    "        rt = x.reward.values[i].astype(int)\n",
    "\n",
    "        # update\n",
    "        Qs[i, at-1] = Qs[i-1, at-1] + a * (rt - Qs[i-1, at-1])\n",
    "\n",
    "    # generated predicted actions\n",
    "    pi = np.ones((100,4)) * 0.333\n",
    "    pred = []\n",
    "\n",
    "    for i in range(100):\n",
    "        for j in [0,1,2,3]:\n",
    "            pi[i, j] = np.exp(b * Qs[i,j]) / np.exp(b * Qs[i,]).sum()\n",
    "\n",
    "        # predict\n",
    "        pred.append(np.random.choice([1,2,3,4], size=1, p=pi[i,])[0])\n",
    "\n",
    "    return {'Qs': Qs , 'pi':pi, 'pred':pred}\n",
    "# Generate action sequence --------------------------------------------------------------------------------------------*\n",
    "\n",
    "\n",
    "\n",
    "# Visualize action sequence -------------------------------------------------------------------------------------------*\n",
    "def plot_data(actions, rewards, Qs):\n",
    "    plt.figure(figsize=(30,3))\n",
    "    x = np.arange(len(actions))\n",
    "\n",
    "    plt.plot(x, Qs[:, 0] - .5 + 0, c='C0', lw=3, alpha=.3)\n",
    "    plt.plot(x, Qs[:, 1] - .5 + 1, c='C1', lw=3, alpha=.3)\n",
    "    plt.plot(x, Qs[:, 2] - .5 + 2, c='C2', lw=3, alpha=.3)\n",
    "\n",
    "    s   = 50\n",
    "    lw  = 2\n",
    "\n",
    "    # action = 0\n",
    "    print(actions)\n",
    "    cond = (actions == 0) & (rewards == 0)\n",
    "    plt.scatter(x[cond], actions[cond], s=s, c='None', ec='C0', lw=lw)\n",
    "\n",
    "    cond = (actions == 0) & (rewards == 1)\n",
    "    plt.scatter(x[cond], actions[cond], s=s, c='C0', ec='C0', lw=lw)\n",
    "\n",
    "    # action = 1\n",
    "    cond = (actions == 1) & (rewards == 0)\n",
    "    plt.scatter(x[cond], actions[cond], s=s, c='None', ec='C1', lw=lw)\n",
    "\n",
    "    cond = (actions == 1) & (rewards == 1)\n",
    "    plt.scatter(x[cond], actions[cond], s=s, c='C1', ec='C1', lw=lw)\n",
    "\n",
    "    # action = 2\n",
    "    cond = (actions == 2) & (rewards == 0)\n",
    "    plt.scatter(x[cond], actions[cond], s=s, c='None', ec='C2', lw=lw)\n",
    "\n",
    "    cond = (actions == 2) & (rewards == 1)\n",
    "    plt.scatter(x[cond], actions[cond], s=s, c='C2', ec='C2', lw=lw)\n",
    "\n",
    "    # provide legend \n",
    "    plt.scatter(0, 40, c='k', s=s, lw=lw, label='Reward')\n",
    "    plt.scatter(0, 20, c='w', ec='k', s=s, lw=lw, label='No reward')\n",
    "    plt.plot([0,1], [20,20], c='k', lw=3, alpha=.3, label='Qvalue (centered)')\n",
    "\n",
    "    # axes\n",
    "    plt.yticks([0,1,2], ['colour', 'shape', 'number'])\n",
    "    plt.ylim(-1, 3)\n",
    "    plt.ylabel('action: matching rule')\n",
    "    plt.xlabel('trial')\n",
    "\n",
    "    # legend\n",
    "    handles, labels = plt.gca().get_legend_handles_labels()\n",
    "    order   = (1,2,0)\n",
    "    handles = [handles[idx] for idx in order]\n",
    "    labels  = [labels[idx]  for idx in order]\n",
    "\n",
    "    plt.legend(handles, labels, fontsize=20, loc=(1.01, .27))\n",
    "    plt.tight_layout()\n",
    "    return plt\n",
    "# Visualize action sequence -------------------------------------------------------------------------------------------*"
   ]
  },
  {
   "cell_type": "code",
   "execution_count": 7,
   "metadata": {},
   "outputs": [],
   "source": [
    "# Plot trajectory of participant:p ------------------------------------------------------------------------------------*\n",
    "def fit_estimate(wcst, p, plot=False):\n",
    "    x       = wcst.loc[wcst.participant==p,]\n",
    "    p_no    = (x.index // 100)[0]\n",
    "\n",
    "    # recover parameters estimate\n",
    "    a = alpha.loc[:,p_no].mean()\n",
    "    b = beta.loc[:,p_no].mean()\n",
    "\n",
    "    # calculate\n",
    "    res = generate_Qs_pi(x,a,b)\n",
    "    pt  = None\n",
    "    if plot:\n",
    "        pt  = plot_data(x.action-1, x.reward, res['Qs'])\n",
    "    \n",
    "    # accuracy\n",
    "    acc = np.mean(x.action == res['pred'])\n",
    "\n",
    "    return {'res':res, 'pt':pt, 'acc':acc}\n",
    "# Plot trajectory of participant:p ------------------------------------------------------------------------------------*"
   ]
  },
  {
   "cell_type": "markdown",
   "metadata": {},
   "source": [
    "# Compute all results"
   ]
  },
  {
   "cell_type": "code",
   "execution_count": 8,
   "metadata": {},
   "outputs": [
    {
     "name": "stdout",
     "output_type": "stream",
     "text": [
      "Average predicted vs reward accuracy:  -0.030199999999999994\n",
      "difference due to the 4th choice dimension (no rule)\n"
     ]
    }
   ],
   "source": [
    "wcst = wcst_top100.copy()\n",
    "\n",
    "# compute best accuracy -----------------------------------*\n",
    "pred_acc_top = []\n",
    "for p in wcst.participant.unique():\n",
    "    estimate = fit_estimate(wcst, p)\n",
    "    pred_acc_top.append(estimate['acc'])\n",
    "\n",
    "\n",
    "# compute accuracy in random set --------------------------*\n",
    "wcst = wcst_ran100.copy()\n",
    "pred_acc_ran    = []\n",
    "reward_mean     = []\n",
    "for p in wcst.participant.unique():\n",
    "    estimate = fit_estimate(wcst, p)\n",
    "    pred_acc_ran.append(estimate['acc'])\n",
    "\n",
    "    # test: vs\n",
    "    x = wcst.loc[wcst.participant==p,]\n",
    "    reward_mean.append(x.reward.mean())\n",
    "\n",
    "\n",
    "\n",
    "print('Average predicted vs reward accuracy: ', np.mean([i-j for i,j in zip(pred_acc_ran, reward_mean)]))\n",
    "print('difference due to the 4th choice dimension (no rule)')"
   ]
  },
  {
   "cell_type": "code",
   "execution_count": 10,
   "metadata": {},
   "outputs": [],
   "source": [
    "# fetch data ---------------------------------------------------*\n",
    "wcst = wcst_top100.copy()                           # top sample \n",
    "wcst.loc[wcst.action.isna(), 'action'] = 4.0        # wcs\n",
    "\n",
    "p = 388850.0\n",
    "# p = wcst.participant.sample().values[0]"
   ]
  },
  {
   "cell_type": "code",
   "execution_count": 9,
   "metadata": {},
   "outputs": [
    {
     "name": "stdout",
     "output_type": "stream",
     "text": [
      "participant:  678629.0\n",
      "Ave score:    0.84\n",
      "6900    0.0\n",
      "6901    0.0\n",
      "6902    0.0\n",
      "6903    0.0\n",
      "6904    0.0\n",
      "       ... \n",
      "6995    2.0\n",
      "6996    2.0\n",
      "6997    2.0\n",
      "6998    2.0\n",
      "6999    2.0\n",
      "Name: action, Length: 100, dtype: float64\n"
     ]
    },
    {
     "data": {
      "image/png": "[encoded data removed]",
      "text/plain": [
       "<Figure size 2160x216 with 1 Axes>"
      ]
     },
     "metadata": {
      "needs_background": "light"
     },
     "output_type": "display_data"
    }
   ],
   "source": [
    "# find max -----------------------------------------------------*\n",
    "max_idx = np.where(pred_acc_ran==np.max(pred_acc_ran))[0][0]\n",
    "p = wcst.participant.unique()[max_idx]\n",
    "p = np.random.choice(wcst.participant.unique())\n",
    "print('participant: ', p)\n",
    "print('Ave score:   ', wcst.loc[wcst.participant==p, ].reward.mean()) # 317920.0 # 702467.0 # 122240.0\n",
    "\n",
    "# p = np.random.choice(wcst.participant.unique())\n",
    "plt.rcParams.update({'font.size': 25})\n",
    "r = fit_estimate(wcst, p, plot=True)"
   ]
  },
  {
   "cell_type": "code",
   "execution_count": 10,
   "metadata": {},
   "outputs": [
    {
     "data": {
      "application/vnd.plotly.v1+json": {
       "config": {
        "plotlyServerURL": "https://plot.ly"
       },
       "data": [
        {
         "line": {
          "color": "rgb(9,56,125)"
         },
         "marker": {
          "color": "rgb(9,56,125)"
         },
         "name": "random set",
         "type": "box",
         "y": [
          0.75,
          0.88,
          0.61,
          0.77,
          0.72,
          0.78,
          0.77,
          0.69,
          0.78,
          0.77,
          0.66,
          0.83,
          0.74,
          0.61,
          0.75,
          0.8,
          0.58,
          0.84,
          0.69,
          0.55,
          0.63,
          0.7,
          0.78,
          0.84,
          0.73,
          0.75,
          0.84,
          0.83,
          0.75,
          0.65,
          0.89,
          0.67,
          0.84,
          0.66,
          0.71,
          0.76,
          0.55,
          0.8,
          0.37,
          0.78,
          0.81,
          0.8,
          0.85,
          0.76,
          0.73,
          0.83,
          0.68,
          0.71,
          0.56,
          0.68,
          0.67,
          0.72,
          0.8,
          0.8,
          0.84,
          0.77,
          0.79,
          0.84,
          0.87,
          0.85,
          0.84,
          0.62,
          0.68,
          0.79,
          0.74,
          0.55,
          0.65,
          0.83,
          0.87,
          0.83,
          0.59,
          0.67,
          0.74,
          0.63,
          0.74,
          0.46,
          0.63,
          0.72,
          0.41,
          0.53,
          0.77,
          0.86,
          0.65,
          0.89,
          0.71,
          0.83,
          0.56,
          0.75,
          0.79,
          0.8,
          0.74,
          0.85,
          0.8,
          0.82,
          0.83,
          0.58,
          0.75,
          0.76,
          0.81,
          0.63
         ]
        },
        {
         "marker": {
          "color": "#863071"
         },
         "name": "top set",
         "type": "box",
         "y": [
          0.86,
          0.85,
          0.83,
          0.78,
          0.7,
          0.84,
          0.76,
          0.77,
          0.8,
          0.84,
          0.81,
          0.8,
          0.77,
          0.75,
          0.81,
          0.87,
          0.76,
          0.83,
          0.83,
          0.74,
          0.84,
          0.78,
          0.89,
          0.84,
          0.74,
          0.73,
          0.81,
          0.82,
          0.72,
          0.86,
          0.81,
          0.84,
          0.84,
          0.77,
          0.77,
          0.87,
          0.76,
          0.78,
          0.84,
          0.79,
          0.88,
          0.74,
          0.82,
          0.83,
          0.84,
          0.84,
          0.87,
          0.78,
          0.74,
          0.73,
          0.78,
          0.78,
          0.86,
          0.81,
          0.87,
          0.83,
          0.84,
          0.82,
          0.77,
          0.78,
          0.89,
          0.76,
          0.81,
          0.76,
          0.82,
          0.85,
          0.83,
          0.85,
          0.8,
          0.86,
          0.84,
          0.83,
          0.82,
          0.8,
          0.8,
          0.79,
          0.84,
          0.85,
          0.85,
          0.85,
          0.79,
          0.84,
          0.79,
          0.79,
          0.77,
          0.87,
          0.86,
          0.78,
          0.76,
          0.76,
          0.7,
          0.79,
          0.8,
          0.86,
          0.81,
          0.81,
          0.82,
          0.84,
          0.8,
          0.83
         ]
        }
       ],
       "layout": {
        "font": {
         "size": 20
        },
        "height": 400,
        "template": {
         "data": {
          "scatter": [
           {
            "type": "scatter"
           }
          ]
         }
        },
        "width": 550
       }
      }
     },
     "metadata": {},
     "output_type": "display_data"
    }
   ],
   "source": [
    "\n",
    "# Accuracy box plots -------------------------------------------------------------------------------------------------------------*\n",
    "\n",
    "c1 = '#f7cac9'\n",
    "c2 = '#f7cac9'\n",
    "c3 = '#dec2cb'\n",
    "c4 = '#c5b9cd'\n",
    "c5 = '#abb1cf'\n",
    "c6 = '#92a8d1'\n",
    "import seaborn as sns\n",
    "cls = sns.color_palette(\"flare\", n_colors=3).as_hex()\n",
    "\n",
    "c = 'steelblue'\n",
    "\n",
    "fig = go.Figure()\n",
    "fig.add_trace(go.Box(y=pred_acc_ran, name='random set',\n",
    "                    marker_color='rgb(9,56,125)',\n",
    "    line_color='rgb(9,56,125)'\n",
    "                ))\n",
    "fig.add_trace(go.Box(y=pred_acc_top, name = 'top set',\n",
    "                marker_color = cls[2]\n",
    "                ))\n",
    "\n",
    "\n",
    "fig.update_layout(height=400, width=550, font={'size':20}, template='none')\n",
    "fig.show()"
   ]
  },
  {
   "cell_type": "code",
   "execution_count": 13,
   "metadata": {},
   "outputs": [
    {
     "name": "stdout",
     "output_type": "stream",
     "text": [
      "top mean:     0.8063000000000001\n",
      "top median:   0.81\n",
      "------------------------------\n",
      "ran mean:     0.7298\n",
      "ran median:   0.75\n",
      "ran max:      0.88\n",
      "ran min:      0.43\n"
     ]
    }
   ],
   "source": [
    "# view best\n",
    "print('top mean:    ', np.mean(pred_acc_top))\n",
    "print('top median:  ', np.median(pred_acc_top))\n",
    "print('---'*10)\n",
    "print('ran mean:    ', np.mean(pred_acc_ran))\n",
    "print('ran median:  ', np.median(pred_acc_ran))\n",
    "print('ran max:     ', np.max(pred_acc_ran))\n",
    "print('ran min:     ', np.min(pred_acc_ran))"
   ]
  },
  {
   "cell_type": "code",
   "execution_count": null,
   "metadata": {},
   "outputs": [],
   "source": []
  }
 ],
 "metadata": {
  "interpreter": {
   "hash": "499ade56b48b11342a6d867619c791c628f90c2104c58bc97832364da1843f8a"
  },
  "kernelspec": {
   "display_name": "Python 3.9.7 64-bit ('base': conda)",
   "language": "python",
   "name": "python3"
  },
  "language_info": {
   "codemirror_mode": {
    "name": "ipython",
    "version": 3
   },
   "file_extension": ".py",
   "mimetype": "text/x-python",
   "name": "python",
   "nbconvert_exporter": "python",
   "pygments_lexer": "ipython3",
   "version": "3.9.7"
  },
  "orig_nbformat": 4
 },
 "nbformat": 4,
 "nbformat_minor": 2
}
