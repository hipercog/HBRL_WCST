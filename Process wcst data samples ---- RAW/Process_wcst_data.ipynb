{
 "cells": [
  {
   "cell_type": "markdown",
   "metadata": {},
   "source": [
    "# Process the WCST data\n",
    "\n",
    "Transform to a suitable format for final processing.\n",
    "\n",
    "----\n",
    "```\n",
    "author:     Zach Wolpe\n",
    "email:      zachcolinwolpe@gmail.com\n",
    "date:       21 January 2022\n",
    "```\n",
    "----"
   ]
  },
  {
   "cell_type": "code",
   "execution_count": 10,
   "metadata": {},
   "outputs": [],
   "source": [
    "import sys\n",
    "sys.path.append('../process data')\n",
    "from dependencies import *\n",
    "# import nbformatx"
   ]
  },
  {
   "cell_type": "markdown",
   "metadata": {},
   "source": [
    "# Encode Choices"
   ]
  },
  {
   "cell_type": "code",
   "execution_count": 81,
   "metadata": {},
   "outputs": [
    {
     "data": {
      "text/html": [
       "<div>\n",
       "<style scoped>\n",
       "    .dataframe tbody tr th:only-of-type {\n",
       "        vertical-align: middle;\n",
       "    }\n",
       "\n",
       "    .dataframe tbody tr th {\n",
       "        vertical-align: top;\n",
       "    }\n",
       "\n",
       "    .dataframe thead th {\n",
       "        text-align: right;\n",
       "    }\n",
       "</style>\n",
       "<table border=\"1\" class=\"dataframe\">\n",
       "  <thead>\n",
       "    <tr style=\"text-align: right;\">\n",
       "      <th></th>\n",
       "      <th>card</th>\n",
       "      <th>color</th>\n",
       "      <th>shape</th>\n",
       "      <th>number</th>\n",
       "    </tr>\n",
       "  </thead>\n",
       "  <tbody>\n",
       "    <tr>\n",
       "      <th>0</th>\n",
       "      <td>1</td>\n",
       "      <td>red</td>\n",
       "      <td>circle</td>\n",
       "      <td>1</td>\n",
       "    </tr>\n",
       "    <tr>\n",
       "      <th>1</th>\n",
       "      <td>2</td>\n",
       "      <td>green</td>\n",
       "      <td>triangle</td>\n",
       "      <td>2</td>\n",
       "    </tr>\n",
       "    <tr>\n",
       "      <th>2</th>\n",
       "      <td>3</td>\n",
       "      <td>blue</td>\n",
       "      <td>cross</td>\n",
       "      <td>3</td>\n",
       "    </tr>\n",
       "    <tr>\n",
       "      <th>3</th>\n",
       "      <td>4</td>\n",
       "      <td>yellow</td>\n",
       "      <td>star</td>\n",
       "      <td>4</td>\n",
       "    </tr>\n",
       "  </tbody>\n",
       "</table>\n",
       "</div>"
      ],
      "text/plain": [
       "   card   color     shape  number\n",
       "0     1     red    circle       1\n",
       "1     2   green  triangle       2\n",
       "2     3    blue     cross       3\n",
       "3     4  yellow      star       4"
      ]
     },
     "execution_count": 81,
     "metadata": {},
     "output_type": "execute_result"
    }
   ],
   "source": [
    "# encode choice cards --------*\n",
    "choice_cards = pd.DataFrame({'card':[1,2,3,4], 'colour':['red','green','blue','yellow'], 'shape':['circle', 'triangle', 'cross', 'star'], 'number':[1,2,3,4]})\n",
    "choice_cards\n",
    "\n",
    "# encode choice cards --------*\n",
    "choice_cards_2 = pd.DataFrame({'card':[1,2,3,4], 'color':['red','green','blue','yellow'], 'shape':['circle', 'triangle', 'cross', 'star'], 'number':[1,2,3,4]})\n",
    "choice_cards_2"
   ]
  },
  {
   "cell_type": "markdown",
   "metadata": {},
   "source": [
    "# Correct WCST\n",
    "\n",
    "- Account for `no rule match`\n",
    "- rebalance choice data"
   ]
  },
  {
   "cell_type": "code",
   "execution_count": 82,
   "metadata": {},
   "outputs": [],
   "source": [
    "# create correct sequence ------------------------------------------------------------------------------------------------------------------*\n",
    "seq_correct = ['shape','number','color','shape','number','color','number','shape','color','shape','number','shape','color','shape','color']\n",
    "seq_no      = [10,9,8,8,7,5,6,7,5,5,7,6,5,6,6]\n",
    "seq_final   = []\n",
    "for s,n in zip(seq_correct, seq_no): seq_final.append(n*[s])\n",
    "seq_final   = [item for sublist in seq_final for item in sublist]\n",
    "# create correct sequence ------------------------------------------------------------------------------------------------------------------*"
   ]
  },
  {
   "cell_type": "code",
   "execution_count": 83,
   "metadata": {},
   "outputs": [],
   "source": [
    "# load data -----*\n",
    "loc         = '/Users/zachwolpe/Documents/Production/Dynocog/Python Implementation/final instance/model-free analysis/final_dataframes'\n",
    "wcst_raw    = pd.read_pickle(loc + '/wcst_raw_data.pkl')\n",
    "wcst_raw    = wcst_raw[['participant', 'rule', 'card_shape', 'card_number', 'card_colour', 'status','correct_card','card_selected']]\n",
    "wcst_raw    = wcst_raw[['participant', 'status', 'rule', 'card_shape', 'card_number', 'card_colour', 'card_selected']] # correct_card"
   ]
  },
  {
   "cell_type": "code",
   "execution_count": 84,
   "metadata": {},
   "outputs": [
    {
     "name": "stderr",
     "output_type": "stream",
     "text": [
      "100%|██████████| 27400/27400 [00:07<00:00, 3844.68it/s]\n"
     ]
    }
   ],
   "source": [
    "# compute pseudo rule used\n",
    "matching_rule = []\n",
    "for idx in tqdm(wcst_raw.index):\n",
    "\n",
    "    sub = wcst_raw.loc[idx,]\n",
    "\n",
    "    # extract info about card selected\n",
    "    card_spec = choice_cards.loc[choice_cards.card==sub['card_selected'],]\n",
    "    col = card_spec['colour'].values[0]\n",
    "    shp = card_spec['shape'].values[0]\n",
    "    nmb = card_spec['number'].values[0]\n",
    "\n",
    "    if sub.status == 1: matching_rule.append('cxx')\n",
    "    \n",
    "    else:\n",
    "        # find matching rule\n",
    "        if sub.card_shape==shp or sub.card_number==nmb or sub.card_colour==col:\n",
    "            if sub['card_shape']    == shp: matching_rule.append('shape')\n",
    "            if sub['card_number']   == nmb: matching_rule.append('number')\n",
    "            if sub['card_colour']   == col: matching_rule.append('color')\n",
    "\n",
    "        else:\n",
    "            # NO MATCH! \n",
    "            matching_rule.append('no rule')\n",
    "\n",
    "wcst_raw['matching_rule'] = matching_rule\n"
   ]
  },
  {
   "cell_type": "code",
   "execution_count": 85,
   "metadata": {},
   "outputs": [
    {
     "name": "stderr",
     "output_type": "stream",
     "text": [
      "100%|██████████| 27400/27400 [00:02<00:00, 12181.19it/s]\n"
     ]
    }
   ],
   "source": [
    "# encode action space --------------------------------------------------------------------------------------------------------*\n",
    "wcst_raw['rule_correct']    = len(wcst_raw.participant.unique())*seq_final # correct encoding\n",
    "wcst_raw['rule_used']       = None\n",
    "rules                       = ['color', 'shape', 'number']\n",
    "\n",
    "\n",
    "rules_used = []\n",
    "for idx in tqdm(wcst_raw.index):\n",
    "    sub = wcst_raw.loc[idx,]\n",
    "    \n",
    "    # rule change required\n",
    "    if sub.matching_rule == sub.rule_correct:\n",
    "\n",
    "        if sub.matching_rule != 'no rule':\n",
    "            # random sample\n",
    "            sub_rules = [i for i in rules if i != sub.rule_correct]\n",
    "            rules_used.append(np.random.choice(sub_rules))\n",
    "        else:\n",
    "            # no rule applied!\n",
    "            rules_used.append(None)\n",
    "    \n",
    "    # no change!\n",
    "    else:\n",
    "        rules_used.append(sub.matching_rule)\n",
    "\n",
    "\n",
    "# status==2: random sample\n",
    "wcst_raw['rule_used'] = rules_used\n",
    "\n",
    "# status==1: correct rule \n",
    "wcst_raw.loc[wcst_raw.status==1, 'rule_used'] = wcst_raw.loc[wcst_raw.status==1, 'rule_correct'] \n",
    "\n",
    "# status==3: too slow\n",
    "wcst_raw.loc[wcst_raw.status==3, 'rule_used'] = 'time out'\n",
    "# encode action space --------------------------------------------------------------------------------------------------------*\n"
   ]
  },
  {
   "cell_type": "code",
   "execution_count": null,
   "metadata": {},
   "outputs": [],
   "source": []
  },
  {
   "cell_type": "code",
   "execution_count": 93,
   "metadata": {},
   "outputs": [
    {
     "data": {
      "text/plain": [
       "array(['shape', 'color', 'number', 'time out', 'no rule'], dtype=object)"
      ]
     },
     "execution_count": 93,
     "metadata": {},
     "output_type": "execute_result"
    }
   ],
   "source": [
    "wcst_raw.rule_used.unique()"
   ]
  },
  {
   "cell_type": "code",
   "execution_count": 19,
   "metadata": {},
   "outputs": [],
   "source": []
  },
  {
   "cell_type": "code",
   "execution_count": 66,
   "metadata": {},
   "outputs": [],
   "source": [
    "# DEPRECATED DEPRECATED DEPRECATED DEPRECATED DEPRECATED DEPRECATED DEPRECATED DEPRECATED DEPRECATED DEPRECATED DEPRECATED DEPRECATED DEPRECATED DEPRECATED DEPRECATED \n",
    "# Exact Correct Card: STORED ------------------------------*\n",
    "# given the 'rule' locate the correct card.\n",
    "# correct_card = []\n",
    "# for idx in tqdm(wcst_raw.index):\n",
    "\n",
    "#     sub     = wcst_raw.loc[idx,]\n",
    "#     rule    = sub['rule']\n",
    "\n",
    "#     if rule == 'color':     ix = 'card_colour'\n",
    "#     if rule == 'shape':     ix = 'card_shape'\n",
    "#     if rule == 'number':    ix = 'card_number'\n",
    "\n",
    "#     card_indx = 1\n",
    "#     for r in choice_cards_2[rule]:\n",
    "\n",
    "#         # if match\n",
    "#         if r == sub[ix]: correct_card.append(card_indx)\n",
    "#         card_indx += 1\n",
    "\n",
    "\n",
    "# wcst_raw['correct_card_indx'] = correct_card\n",
    "# wcst_raw\n",
    "# DEPRECATED DEPRECATED DEPRECATED DEPRECATED DEPRECATED DEPRECATED DEPRECATED DEPRECATED DEPRECATED DEPRECATED DEPRECATED DEPRECATED DEPRECATED DEPRECATED DEPRECATED "
   ]
  },
  {
   "cell_type": "code",
   "execution_count": 65,
   "metadata": {},
   "outputs": [],
   "source": [
    "# DEPRECATED DEPRECATED DEPRECATED DEPRECATED DEPRECATED DEPRECATED DEPRECATED DEPRECATED DEPRECATED DEPRECATED DEPRECATED DEPRECATED DEPRECATED DEPRECATED DEPRECATED \n",
    "##CORRECT MAPPING!\n",
    "# numbs           = [10,9,8,8,7,5,6,7,5,5,7,6,5,6,6]\n",
    "# rules           = ['number', 'shape', 'number', 'number', 'shape', 'number', 'shape', 'number', 'number', 'number', 'shape', 'number', 'number', 'number', 'number']\n",
    "# altered_map     = ['number', 'shape', 'number', 'color', 'shape', 'color', 'shape', 'number', 'color', 'number', 'shape', 'number', 'number', 'number', 'color']\n",
    "# correct_rules   = []\n",
    "# adj_corr_rules  = []\n",
    "# for n,r,adj in zip(numbs, rules, altered_map): \n",
    "#     correct_rules.append(n*[r])\n",
    "#     adj_corr_rules.append(n*[adj])\n",
    "\n",
    "# # flatten\n",
    "# correct_rules   = [i for sublist in correct_rules  for i in sublist]\n",
    "# adj_corr_rules  = [i for sublist in adj_corr_rules for i in sublist]\n",
    "# # correct_rules\n",
    "# adj_corr_rules\n",
    "# DEPRECATED DEPRECATED DEPRECATED DEPRECATED DEPRECATED DEPRECATED DEPRECATED DEPRECATED DEPRECATED DEPRECATED DEPRECATED DEPRECATED DEPRECATED DEPRECATED DEPRECATED "
   ]
  },
  {
   "cell_type": "code",
   "execution_count": 94,
   "metadata": {},
   "outputs": [
    {
     "data": {
      "text/html": [
       "<div>\n",
       "<style scoped>\n",
       "    .dataframe tbody tr th:only-of-type {\n",
       "        vertical-align: middle;\n",
       "    }\n",
       "\n",
       "    .dataframe tbody tr th {\n",
       "        vertical-align: top;\n",
       "    }\n",
       "\n",
       "    .dataframe thead th {\n",
       "        text-align: right;\n",
       "    }\n",
       "</style>\n",
       "<table border=\"1\" class=\"dataframe\">\n",
       "  <thead>\n",
       "    <tr style=\"text-align: right;\">\n",
       "      <th></th>\n",
       "      <th>participant</th>\n",
       "      <th>reward</th>\n",
       "      <th>status</th>\n",
       "      <th>action</th>\n",
       "      <th>rule</th>\n",
       "      <th>rule_correct</th>\n",
       "      <th>rule_used</th>\n",
       "      <th>n_t</th>\n",
       "    </tr>\n",
       "  </thead>\n",
       "  <tbody>\n",
       "    <tr>\n",
       "      <th>0</th>\n",
       "      <td>816404.0</td>\n",
       "      <td>1</td>\n",
       "      <td>1</td>\n",
       "      <td>1</td>\n",
       "      <td>shape</td>\n",
       "      <td>shape</td>\n",
       "      <td>shape</td>\n",
       "      <td>0</td>\n",
       "    </tr>\n",
       "    <tr>\n",
       "      <th>1</th>\n",
       "      <td>816404.0</td>\n",
       "      <td>1</td>\n",
       "      <td>1</td>\n",
       "      <td>1</td>\n",
       "      <td>shape</td>\n",
       "      <td>shape</td>\n",
       "      <td>shape</td>\n",
       "      <td>1</td>\n",
       "    </tr>\n",
       "    <tr>\n",
       "      <th>2</th>\n",
       "      <td>816404.0</td>\n",
       "      <td>1</td>\n",
       "      <td>1</td>\n",
       "      <td>1</td>\n",
       "      <td>shape</td>\n",
       "      <td>shape</td>\n",
       "      <td>shape</td>\n",
       "      <td>2</td>\n",
       "    </tr>\n",
       "    <tr>\n",
       "      <th>3</th>\n",
       "      <td>816404.0</td>\n",
       "      <td>1</td>\n",
       "      <td>1</td>\n",
       "      <td>1</td>\n",
       "      <td>shape</td>\n",
       "      <td>shape</td>\n",
       "      <td>shape</td>\n",
       "      <td>3</td>\n",
       "    </tr>\n",
       "    <tr>\n",
       "      <th>4</th>\n",
       "      <td>816404.0</td>\n",
       "      <td>1</td>\n",
       "      <td>1</td>\n",
       "      <td>1</td>\n",
       "      <td>shape</td>\n",
       "      <td>shape</td>\n",
       "      <td>shape</td>\n",
       "      <td>4</td>\n",
       "    </tr>\n",
       "    <tr>\n",
       "      <th>...</th>\n",
       "      <td>...</td>\n",
       "      <td>...</td>\n",
       "      <td>...</td>\n",
       "      <td>...</td>\n",
       "      <td>...</td>\n",
       "      <td>...</td>\n",
       "      <td>...</td>\n",
       "      <td>...</td>\n",
       "    </tr>\n",
       "    <tr>\n",
       "      <th>27395</th>\n",
       "      <td>684712.0</td>\n",
       "      <td>1</td>\n",
       "      <td>1</td>\n",
       "      <td>3</td>\n",
       "      <td>color</td>\n",
       "      <td>color</td>\n",
       "      <td>color</td>\n",
       "      <td>95</td>\n",
       "    </tr>\n",
       "    <tr>\n",
       "      <th>27396</th>\n",
       "      <td>684712.0</td>\n",
       "      <td>1</td>\n",
       "      <td>1</td>\n",
       "      <td>3</td>\n",
       "      <td>color</td>\n",
       "      <td>color</td>\n",
       "      <td>color</td>\n",
       "      <td>96</td>\n",
       "    </tr>\n",
       "    <tr>\n",
       "      <th>27397</th>\n",
       "      <td>684712.0</td>\n",
       "      <td>1</td>\n",
       "      <td>1</td>\n",
       "      <td>3</td>\n",
       "      <td>color</td>\n",
       "      <td>color</td>\n",
       "      <td>color</td>\n",
       "      <td>97</td>\n",
       "    </tr>\n",
       "    <tr>\n",
       "      <th>27398</th>\n",
       "      <td>684712.0</td>\n",
       "      <td>1</td>\n",
       "      <td>1</td>\n",
       "      <td>3</td>\n",
       "      <td>color</td>\n",
       "      <td>color</td>\n",
       "      <td>color</td>\n",
       "      <td>98</td>\n",
       "    </tr>\n",
       "    <tr>\n",
       "      <th>27399</th>\n",
       "      <td>684712.0</td>\n",
       "      <td>1</td>\n",
       "      <td>1</td>\n",
       "      <td>3</td>\n",
       "      <td>color</td>\n",
       "      <td>color</td>\n",
       "      <td>color</td>\n",
       "      <td>99</td>\n",
       "    </tr>\n",
       "  </tbody>\n",
       "</table>\n",
       "<p>27400 rows × 8 columns</p>\n",
       "</div>"
      ],
      "text/plain": [
       "       participant  reward  status action   rule rule_correct rule_used  n_t\n",
       "0         816404.0       1       1      1  shape        shape     shape    0\n",
       "1         816404.0       1       1      1  shape        shape     shape    1\n",
       "2         816404.0       1       1      1  shape        shape     shape    2\n",
       "3         816404.0       1       1      1  shape        shape     shape    3\n",
       "4         816404.0       1       1      1  shape        shape     shape    4\n",
       "...            ...     ...     ...    ...    ...          ...       ...  ...\n",
       "27395     684712.0       1       1      3  color        color     color   95\n",
       "27396     684712.0       1       1      3  color        color     color   96\n",
       "27397     684712.0       1       1      3  color        color     color   97\n",
       "27398     684712.0       1       1      3  color        color     color   98\n",
       "27399     684712.0       1       1      3  color        color     color   99\n",
       "\n",
       "[27400 rows x 8 columns]"
      ]
     },
     "execution_count": 94,
     "metadata": {},
     "output_type": "execute_result"
    }
   ],
   "source": [
    "# Rt (correct action) --------* \n",
    "wcst_raw['reward'] = [int(i) for i in wcst_raw.status == 1]\n",
    "\n",
    "# encode actions -------------*\n",
    "encoding =  {'shape':1, 'number':2, 'color':3, 'na':0}\n",
    "wcst_raw['action'] = None\n",
    "for k in encoding.keys(): wcst_raw['action'][wcst_raw.rule_used==k] = encoding[k]\n",
    "\n",
    "# # check ----------------------*\n",
    "wcst = wcst_raw[['participant', 'reward', 'status', 'action', 'rule', 'rule_correct', 'rule_used']]\n",
    "wcst['n_t'] = wcst_raw[['participant']].reset_index()['index'] % 100"
   ]
  },
  {
   "cell_type": "markdown",
   "metadata": {},
   "source": [
    "`note`: `matching_rule` has changed to `rule_used`, which may effect downstream analysis."
   ]
  },
  {
   "cell_type": "code",
   "execution_count": 97,
   "metadata": {},
   "outputs": [],
   "source": [
    "# save -------------------------------------*\n",
    "loc = '/Users/zachwolpe/Documents/Production/Dynocog/Python Implementation/final instance/model-free analysis/final_dataframes/'\n",
    "wcst.to_pickle(loc + 'wcst.pkl')\n",
    "wcst.to_csv(loc + 'wcst.csv')\n",
    "# save -------------------------------------*"
   ]
  },
  {
   "cell_type": "code",
   "execution_count": null,
   "metadata": {},
   "outputs": [],
   "source": []
  }
 ],
 "metadata": {
  "interpreter": {
   "hash": "499ade56b48b11342a6d867619c791c628f90c2104c58bc97832364da1843f8a"
  },
  "kernelspec": {
   "display_name": "Python 3.9.7 64-bit ('base': conda)",
   "language": "python",
   "name": "python3"
  },
  "language_info": {
   "codemirror_mode": {
    "name": "ipython",
    "version": 3
   },
   "file_extension": ".py",
   "mimetype": "text/x-python",
   "name": "python",
   "nbconvert_exporter": "python",
   "pygments_lexer": "ipython3",
   "version": ""
  },
  "orig_nbformat": 4
 },
 "nbformat": 4,
 "nbformat_minor": 2
}
