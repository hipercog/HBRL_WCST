{
 "cells": [
  {
   "cell_type": "markdown",
   "metadata": {},
   "source": [
    "# Process Raw Data\n",
    "\n",
    "\n",
    "This Notebook provides the code to process the raw _.txt_ files collected by the Psytoolkit Experiments.\n",
    "\n",
    "Experiments:\n",
    " - Navon\n",
    " - Fitts\n",
    " - N-Back\n",
    " - WCST\n",
    " - Corsi Block Span\n",
    "\n",
    "\n",
    "#### Function\n",
    "Extract raw data from _.txt_ files & store them in a programable datastructure (pandas dataframes)\n",
    "\n",
    "#### Input\n",
    "- file path: raw _.txt_ data\n",
    "- file path: write _pandas dataframes_\n",
    "\n",
    "#### Output\n",
    "- stored, structured dataframes suitable for statistical computation\n",
    "\n",
    "\n",
    "\n",
    "---------\n",
    "```\n",
    "Zach Wolpe\n",
    "zachcolinwolpe@gmail.com\n",
    "04 June 2022\n",
    "```\n",
    "---------"
   ]
  },
  {
   "cell_type": "code",
   "execution_count": 1,
   "metadata": {},
   "outputs": [
    {
     "name": "stdout",
     "output_type": "stream",
     "text": [
      "/Users/bcowley/Benslab/DynOCog/HBRL_WCST_ZACH/.venv311/bin/python\n"
     ]
    }
   ],
   "source": [
    "import sys\n",
    "print(sys.executable)\n",
    "from dependencies import *"
   ]
  },
  {
   "cell_type": "markdown",
   "metadata": {},
   "source": [
    "# Instantiate\n",
    "Instantiate the class & provide the file locations. Save the processed object as a _.pkl_ file - compressing the datastructure."
   ]
  },
  {
   "cell_type": "code",
   "execution_count": 2,
   "metadata": {},
   "outputs": [
    {
     "name": "stdout",
     "output_type": "stream",
     "text": [
      "\n",
      "     Metadata saved!     \n",
      "\n",
      "\n",
      "\n",
      "        ------------------------------------------------------------------\n",
      "                                Individual data created\n",
      "        ------------------------------------------------------------------\n",
      "\n",
      "        \n",
      "\n",
      "\n",
      "        ------------------------------------------------------------------\n",
      "                          MTurk workers data analyzed\n",
      "        ------------------------------------------------------------------\n",
      "\n",
      "        \n"
     ]
    },
    {
     "data": {
      "image/png": "[encoded data removed]",
      "text/plain": [
       "<Figure size 640x480 with 1 Axes>"
      ]
     },
     "metadata": {},
     "output_type": "display_data"
    },
    {
     "name": "stdout",
     "output_type": "stream",
     "text": [
      "\n",
      "\n",
      "        ------------------------------------------------------------------\n",
      "                                WCST data created\n",
      "        ------------------------------------------------------------------\n",
      "\n",
      "        \n",
      "\n",
      "\n",
      "        ------------------------------------------------------------------\n",
      "                                Navon data created\n",
      "        ------------------------------------------------------------------\n",
      "\n",
      "        \n",
      "\n",
      "\n",
      "            ------------------------------------------------------------------\n",
      "                                    N back data created\n",
      "            ------------------------------------------------------------------\n",
      "\n",
      "            \n",
      "\n",
      "\n",
      "        ------------------------------------------------------------------\n",
      "                                Corsi data created\n",
      "        ------------------------------------------------------------------\n",
      "\n",
      "        \n",
      "\n",
      "\n",
      "        ------------------------------------------------------------------\n",
      "                                Fitts data created\n",
      "        ------------------------------------------------------------------\n",
      "\n",
      "        \n",
      "\n",
      "        ------------------------------------------------------------------\n",
      "        Schemas Converted!\n",
      "        ------------------------------------------------------------------\n",
      "        \n",
      "\n",
      "        ------------------------------------------------------------------\n",
      "        Dataframes successfully written to path ../data_objects/!\n",
      "        ------------------------------------------------------------------\n",
      "        \n",
      "\n",
      "        ------------------------------------------------------------------\n",
      "        Object successfully written to path: '../data_objects/batch_processing_object.pkl'!\n",
      "\n",
      "        To retrieve run:\n",
      "            with open('../data_objects/batch_processing_object.pkl', 'rb') as file2:\n",
      "                bp = pickle.load(file2)\n",
      "        ------------------------------------------------------------------\n",
      "        \n"
     ]
    }
   ],
   "source": [
    "# ---- Updated dirs -----x\n",
    "base_path   = '../data/mturk - final data/'\n",
    "mturk_path  = base_path + 'mturk data - 04 June 2021/'\n",
    "meta_path   = base_path + 'Batch_4453805_batch_results - 04 June 2021.csv'\n",
    "write_path  = '../data_objects/'\n",
    "\n",
    "# ---- call scripts -----x\n",
    "bp = batch_processing(mturk_path)\n",
    "bp.cache_metadata(meta_path)\n",
    "bp.create_participant_data()\n",
    "bp.mturk_completion_rates()\n",
    "bp.create_wcst_data()\n",
    "bp.create_navon_data()\n",
    "bp.create_nback_data()\n",
    "bp.create_corsi_data()\n",
    "bp.create_fitts_data()\n",
    "bp.convert_data_to_int()\n",
    "bp.write_to_pickle(write_path)\n",
    "bp.write_class_to_pickle(write_path)"
   ]
  }
 ],
 "metadata": {
  "kernelspec": {
   "display_name": "Python(.venv311)",
   "language": "python",
   "name": ".venv311"
  },
  "language_info": {
   "codemirror_mode": {
    "name": "ipython",
    "version": 3
   },
   "file_extension": ".py",
   "mimetype": "text/x-python",
   "name": "python",
   "nbconvert_exporter": "python",
   "pygments_lexer": "ipython3",
   "version": "3.11.11"
  },
  "orig_nbformat": 2
 },
 "nbformat": 4,
 "nbformat_minor": 2
}
