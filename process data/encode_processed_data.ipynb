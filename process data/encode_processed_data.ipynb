{
 "cells": [
  {
   "cell_type": "markdown",
   "metadata": {},
   "source": [
    "# Encoded Processed Data\n",
    "\n",
    "\n",
    "This Notebook take the processed data instance & encodes the data to prepare for anaylsis, some additional clean may also be performed.\n",
    "\n",
    "The idea is for these functions to be used when training the models.\n",
    "\n",
    "\n",
    "#### Function\n",
    "Abstracted class to process raw data.\n",
    "\n",
    "#### Input\n",
    "- file path: processed data instance \n",
    "- file path: write path\n",
    "\n",
    "#### Output\n",
    "- stored class hosting the processed data.\n",
    "\n",
    "> Note: The **Encoding** class inherits all methods & properties from it's parent class: _batch_processing_.\n",
    "\n",
    "---------\n",
    "```\n",
    "Zach Wolpe\n",
    "zachcolinwolpe@gmail.com\n",
    "15 June 2021\n",
    "```\n",
    "---------"
   ]
  },
  {
   "cell_type": "code",
   "execution_count": 1,
   "metadata": {},
   "outputs": [
    {
     "data": {
      "text/plain": [
       "dict_keys(['path', 'metadata', 'mapping', 'data_times', 'participants', 'parti_code', 'n', 'wcst_paths', 'nback_paths', 'corsi_paths', 'fitts_paths', 'navon_paths', 'wcst_data', 'nback_data', 'corsi_data', 'fitts_data', 'navon_data', 'individual_data', 'MTurk'])"
      ]
     },
     "execution_count": 1,
     "metadata": {},
     "output_type": "execute_result"
    }
   ],
   "source": [
    "# ---- load data module ----x\n",
    "import sys\n",
    "sys.path.append('')\n",
    "from dependencies import *\n",
    "\n",
    "# ---- fetch data object ----x\n",
    "with open('../data objects/batch_processing_object.pkl', 'rb') as file2:\n",
    "    bp = pickle.load(file2)\n",
    "bp.__dict__.keys()"
   ]
  },
  {
   "cell_type": "code",
   "execution_count": 2,
   "metadata": {},
   "outputs": [
    {
     "name": "stdout",
     "output_type": "stream",
     "text": [
      "\n",
      "\n",
      "        ------------------------------------------------------------------\n",
      "            self.path            : raw data loc\n",
      "            self.metadata        : mturk metadata\n",
      "            self.mapping         : reference table\n",
      "            self.data_times      : reference times table\n",
      "            self.participants    : list of participant identifiers\n",
      "            self.parti_code      : list of participant codes\n",
      "            self.n               : total number of samples\n",
      "            self.wcst_paths      : paths to wcst  raw data\n",
      "            self.nback_paths     : paths to nback raw data\n",
      "            self.corsi_paths     : paths to corsi raw data\n",
      "            self.fitts_paths     : paths to fitts raw data\n",
      "            self.navon_paths     : paths to navon raw data\n",
      "            self.wcst_data       : wcst  dataframe\n",
      "            self.nback_data      : nback dataframe\n",
      "            self.corsi_data      : corsi dataframe\n",
      "            self.fitts_data      : fitts dataframe\n",
      "            self.navon_data      : navon dataframe\n",
      "            self.individual_data : psytoolkit metadata\n",
      "            self.MTurk           : mturk completion data\n",
      "        ------------------------------------------------------------------\n",
      "\n",
      "        \n"
     ]
    }
   ],
   "source": [
    "bp.describe_data()"
   ]
  },
  {
   "cell_type": "code",
   "execution_count": 3,
   "metadata": {},
   "outputs": [
    {
     "name": "stdout",
     "output_type": "stream",
     "text": [
      "\n",
      "        ------------------------------------------------------------------\n",
      "        Object successfully written to path: '../data objects/batch_processing_object_with_encodings.pkl'!\n",
      "\n",
      "        To retrieve run:\n",
      "            with open('../data objects/batch_processing_object_with_encodings.pkl', 'rb') as file2:\n",
      "                bp = pickle.load(file2)\n",
      "        ------------------------------------------------------------------\n",
      "        \n"
     ]
    }
   ],
   "source": [
    "ed = encode_data(bp)\n",
    "ed.compute_summary_table()\n",
    "plt.style.use('default')\n",
    "write_path = '../data objects/'\n",
    "ed.write_class_to_pickle(write_path)"
   ]
  },
  {
   "cell_type": "code",
   "execution_count": null,
   "metadata": {},
   "outputs": [],
   "source": []
  }
 ],
 "metadata": {
  "interpreter": {
   "hash": "0bdb1145a6394107ddd55d824c4d0e411e79cd19a6286b1018600d724ae6ee81"
  },
  "kernelspec": {
   "display_name": "Python 3.9.6 64-bit ('dynocog': conda)",
   "name": "python3"
  },
  "language_info": {
   "codemirror_mode": {
    "name": "ipython",
    "version": 3
   },
   "file_extension": ".py",
   "mimetype": "text/x-python",
   "name": "python",
   "nbconvert_exporter": "python",
   "pygments_lexer": "ipython3",
   "version": "3.8.12"
  },
  "orig_nbformat": 4
 },
 "nbformat": 4,
 "nbformat_minor": 2
}
