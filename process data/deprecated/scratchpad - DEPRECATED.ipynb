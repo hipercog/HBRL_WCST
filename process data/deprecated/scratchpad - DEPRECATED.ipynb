{
 "cells": [
  {
   "cell_type": "markdown",
   "metadata": {},
   "source": [
    "# Scratchpad\n",
    "\n",
    "Free to use testing environment.\n",
    "\n",
    "------\n",
    "```\n",
    "author:     Zach Wolpe\n",
    "email:      zachcolinwolpe@gmail.com\n",
    "reviewer:   n/a\n",
    "date:       03 December 2021\n",
    "```\n",
    "------\n",
    "\n",
    "## 1. Assess data after first round of processing.\n"
   ]
  },
  {
   "cell_type": "code",
   "execution_count": 31,
   "metadata": {},
   "outputs": [
    {
     "data": {
      "text/plain": [
       "dict_keys(['path', 'metadata', 'mapping', 'data_times', 'participants', 'parti_code', 'n', 'wcst_paths', 'nback_paths', 'corsi_paths', 'fitts_paths', 'navon_paths', 'wcst_data', 'nback_data', 'corsi_data', 'fitts_data', 'navon_data', 'individual_data', 'MTurk'])"
      ]
     },
     "execution_count": 31,
     "metadata": {},
     "output_type": "execute_result"
    }
   ],
   "source": [
    "# ---- load data module ----x\n",
    "import sys\n",
    "sys.path.append('')\n",
    "from dependencies import *\n",
    "\n",
    "# ---- fetch data object ----x\n",
    "with open('../data objects/batch_processing_object.pkl', 'rb') as file2:\n",
    "    bp = pickle.load(file2)\n",
    "bp.__dict__.keys()"
   ]
  },
  {
   "cell_type": "code",
   "execution_count": 32,
   "metadata": {},
   "outputs": [
    {
     "data": {
      "text/html": [
       "<div>\n",
       "<style scoped>\n",
       "    .dataframe tbody tr th:only-of-type {\n",
       "        vertical-align: middle;\n",
       "    }\n",
       "\n",
       "    .dataframe tbody tr th {\n",
       "        vertical-align: top;\n",
       "    }\n",
       "\n",
       "    .dataframe thead th {\n",
       "        text-align: right;\n",
       "    }\n",
       "</style>\n",
       "<table border=\"1\" class=\"dataframe\">\n",
       "  <thead>\n",
       "    <tr style=\"text-align: right;\">\n",
       "      <th></th>\n",
       "      <th>participant</th>\n",
       "      <th>participant_file</th>\n",
       "      <th>participant_code</th>\n",
       "      <th>version</th>\n",
       "      <th>server-time</th>\n",
       "      <th>user_agent</th>\n",
       "      <th>screen_width</th>\n",
       "      <th>screen_height</th>\n",
       "      <th>html_width</th>\n",
       "      <th>html_height</th>\n",
       "      <th>...</th>\n",
       "      <th>fitts_law</th>\n",
       "      <th>fitts_law_stime</th>\n",
       "      <th>fitts_law_T</th>\n",
       "      <th>fitts_law_t</th>\n",
       "      <th>navon_task_law</th>\n",
       "      <th>navon_task_stime</th>\n",
       "      <th>navon_task_T</th>\n",
       "      <th>navon_task_t</th>\n",
       "      <th>endcode</th>\n",
       "      <th>end</th>\n",
       "    </tr>\n",
       "  </thead>\n",
       "  <tbody>\n",
       "    <tr>\n",
       "      <th>1</th>\n",
       "      <td>221478.0</td>\n",
       "      <td>s.fa171c49-91e1-44b0-b9e3-9937dca02dca.txt</td>\n",
       "      <td>participant_code</td>\n",
       "      <td>3.3.0</td>\n",
       "      <td>2021-05-25-16-10</td>\n",
       "      <td>mozilla/5.0</td>\n",
       "      <td>0</td>\n",
       "      <td>0</td>\n",
       "      <td>0</td>\n",
       "      <td>0</td>\n",
       "      <td>...</td>\n",
       "      <td>fitts_law</td>\n",
       "      <td>2021-05-25-16-31</td>\n",
       "      <td>1621953114925</td>\n",
       "      <td>experiment</td>\n",
       "      <td>NaN</td>\n",
       "      <td>2021-05-25-16-34</td>\n",
       "      <td>1621953244054</td>\n",
       "      <td>experiment</td>\n",
       "      <td></td>\n",
       "      <td>2021-05-25-16-34</td>\n",
       "    </tr>\n",
       "    <tr>\n",
       "      <th>2</th>\n",
       "      <td>192208.0</td>\n",
       "      <td>s.b36334f4-c3dd-4d1b-b2e4-f0bee8be7d31.txt</td>\n",
       "      <td>participant_code</td>\n",
       "      <td>3.3.0</td>\n",
       "      <td>2021-05-25-16-39</td>\n",
       "      <td>mozilla/5.0</td>\n",
       "      <td>0</td>\n",
       "      <td>0</td>\n",
       "      <td>0</td>\n",
       "      <td>0</td>\n",
       "      <td>...</td>\n",
       "      <td>NaN</td>\n",
       "      <td>NaN</td>\n",
       "      <td>NaN</td>\n",
       "      <td>NaN</td>\n",
       "      <td>NaN</td>\n",
       "      <td>NaN</td>\n",
       "      <td>NaN</td>\n",
       "      <td>NaN</td>\n",
       "      <td>NaN</td>\n",
       "      <td>NaN</td>\n",
       "    </tr>\n",
       "  </tbody>\n",
       "</table>\n",
       "<p>2 rows × 77 columns</p>\n",
       "</div>"
      ],
      "text/plain": [
       "  participant                            participant_file  participant_code  \\\n",
       "1    221478.0  s.fa171c49-91e1-44b0-b9e3-9937dca02dca.txt  participant_code   \n",
       "2    192208.0  s.b36334f4-c3dd-4d1b-b2e4-f0bee8be7d31.txt  participant_code   \n",
       "\n",
       "  version       server-time   user_agent screen_width screen_height  \\\n",
       "1   3.3.0  2021-05-25-16-10  mozilla/5.0            0             0   \n",
       "2   3.3.0  2021-05-25-16-39  mozilla/5.0            0             0   \n",
       "\n",
       "  html_width html_height  ...  fitts_law   fitts_law_stime    fitts_law_T  \\\n",
       "1          0           0  ...  fitts_law  2021-05-25-16-31  1621953114925   \n",
       "2          0           0  ...        NaN               NaN            NaN   \n",
       "\n",
       "  fitts_law_t navon_task_law  navon_task_stime   navon_task_T navon_task_t  \\\n",
       "1  experiment            NaN  2021-05-25-16-34  1621953244054   experiment   \n",
       "2         NaN            NaN               NaN            NaN          NaN   \n",
       "\n",
       "  endcode               end  \n",
       "1          2021-05-25-16-34  \n",
       "2     NaN               NaN  \n",
       "\n",
       "[2 rows x 77 columns]"
      ]
     },
     "execution_count": 32,
     "metadata": {},
     "output_type": "execute_result"
    }
   ],
   "source": [
    "bp.wcst_data.loc[1:2,:]\n",
    "bp.nback_data.loc[1:2,:]\n",
    "bp.corsi_data.loc[1:2,:]\n",
    "bp.fitts_data.loc[1:2,:]\n",
    "bp.navon_data.loc[1:2,:]\n",
    "bp.individual_data.loc[1:2,:]\n"
   ]
  },
  {
   "cell_type": "markdown",
   "metadata": {},
   "source": [
    "-----\n",
    "\n",
    "## 2. Assess data after second round of processing."
   ]
  },
  {
   "cell_type": "code",
   "execution_count": 33,
   "metadata": {},
   "outputs": [
    {
     "data": {
      "text/plain": [
       "dict_keys(['raw', 'summary_table', 'fitts_summary_stats', 'corsi_summary_stats', 'navon_summary_stats', 'nback_summary_stats', 'demographics_plot', 'demographics'])"
      ]
     },
     "execution_count": 33,
     "metadata": {},
     "output_type": "execute_result"
    }
   ],
   "source": [
    "with open('../data objects/batch_processing_object_with_encodings.pkl', 'rb') as file2: bp = pickle.load(file2)\n",
    "bp.__dict__.keys()"
   ]
  },
  {
   "cell_type": "code",
   "execution_count": null,
   "metadata": {},
   "outputs": [],
   "source": []
  }
 ],
 "metadata": {
  "interpreter": {
   "hash": "3a334c8c58dd4200bc641ab3004b2a959a31887e25ae71afde31f67083237f66"
  },
  "kernelspec": {
   "display_name": "Python 3.8.12 64-bit ('dynocog': conda)",
   "language": "python",
   "name": "python3"
  },
  "language_info": {
   "codemirror_mode": {
    "name": "ipython",
    "version": 3
   },
   "file_extension": ".py",
   "mimetype": "text/x-python",
   "name": "python",
   "nbconvert_exporter": "python",
   "pygments_lexer": "ipython3",
   "version": "3.8.12"
  },
  "orig_nbformat": 4
 },
 "nbformat": 4,
 "nbformat_minor": 2
}
