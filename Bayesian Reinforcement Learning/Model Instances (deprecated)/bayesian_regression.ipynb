{
 "cells": [
  {
   "cell_type": "markdown",
   "source": [
    "# Bayesian Regression Analysis\n",
    "\n",
    "Blah Blah Blah\n",
    "\n",
    "---------\n",
    "```\n",
    "Zach Wolpe\n",
    "zachcolinwolpe@gmail.com\n",
    "25 Aug 2021\n",
    "```\n",
    "---------"
   ],
   "metadata": {}
  },
  {
   "cell_type": "code",
   "execution_count": 3,
   "source": [
    "\n",
    "from typing import Text\n",
    "\n",
    "from pandas.io.formats import style\n",
    "from dash_core_components.Dropdown import Dropdown\n",
    "import numpy as np\n",
    "import matplotlib.pyplot as plt\n",
    "import pandas as pd\n",
    "import pickle\n",
    "import os\n",
    "import re\n",
    "import sys\n",
    "sys.path.append('../process data/')\n",
    "import scipy.stats as stats\n",
    "from plotly.subplots import make_subplots\n",
    "import plotly.graph_objects as go\n",
    "import plotly.figure_factory as ff\n",
    "import plotly.offline as pyo\n",
    "import plotly.express as px\n",
    "from encode_processed_data import encode_data\n",
    "\n",
    "import dash\n",
    "import dash_table\n",
    "import dash_core_components as dcc\n",
    "import dash_html_components as html\n",
    "import dash_bootstrap_components as dbc\n",
    "import plotly.graph_objects as go\n",
    "from dash.dependencies import Input, Output\n",
    "\n",
    "from summary_plots_and_figures import summary_plots_and_figures"
   ],
   "outputs": [],
   "metadata": {}
  },
  {
   "cell_type": "code",
   "execution_count": 4,
   "source": [
    "\n",
    "# ---- fetch data object ----x\n",
    "with open('../data objects/batch_processing_object_with_encodings.pkl', 'rb') as file2:\n",
    "    # ed = pickle.load(file2)\n",
    "    ed = pd.read_pickle(file2)\n",
    "spf = summary_plots_and_figures(ed)\n",
    "spf.create_performance_groupings(5)"
   ],
   "outputs": [],
   "metadata": {}
  },
  {
   "cell_type": "code",
   "execution_count": 21,
   "source": [
    "print('>> ____________________ Continuous vars:____________________')\n",
    "spf.continuous_vars\n"
   ],
   "outputs": [
    {
     "output_type": "stream",
     "name": "stdout",
     "text": [
      ">> ____________________ Continuous vars:____________________\n"
     ]
    },
    {
     "output_type": "execute_result",
     "data": {
      "text/plain": [
       "[{'label': 'N-Back accuracy', 'value': 'nback_status'},\n",
       " {'label': 'N-Back Reaction Time', 'value': 'nback_reaction_time_ms'},\n",
       " {'label': 'Fitts accuracy', 'value': 'fitts_mean_deviation'},\n",
       " {'label': 'Corsi Span', 'value': 'corsi_block_span'},\n",
       " {'label': 'Navon accuracy', 'value': 'navon_perc_correct'},\n",
       " {'label': 'Navon Reaction Time', 'value': 'navon_reaction_time_ms'},\n",
       " {'label': 'WCST accuracy', 'value': 'wcst_accuracy'},\n",
       " {'label': 'WCST Reaction Time', 'value': 'wcst_RT'},\n",
       " {'label': 'Age', 'value': 'demographics_age_a'},\n",
       " {'label': 'Computer Hours', 'value': 'demographics_computer_hours_a'},\n",
       " {'label': 'Income', 'value': 'demographics_income_a'},\n",
       " {'label': 'Initial Response RT',\n",
       "  'value': 'demographics_mean_reation_time_ms'}]"
      ]
     },
     "metadata": {},
     "execution_count": 21
    }
   ],
   "metadata": {}
  },
  {
   "cell_type": "code",
   "execution_count": 22,
   "source": [
    "print('>> ____________________ Categorical vars:____________________')\n",
    "spf.categorical_vars"
   ],
   "outputs": [
    {
     "output_type": "stream",
     "name": "stdout",
     "text": [
      ">> ____________________ Categorical vars:____________________\n"
     ]
    },
    {
     "output_type": "execute_result",
     "data": {
      "text/plain": [
       "[{'label': 'Gender', 'value': 'demographics_gender_a'},\n",
       " {'label': 'Education', 'value': 'demographics_education_a'},\n",
       " {'label': 'Handedness', 'value': 'demographics_handedness_a'},\n",
       " {'label': 'Age', 'value': 'demographics_age_group'},\n",
       " {'label': 'Navon Level', 'value': 'navon_level_of_target'},\n",
       " {'label': 'Nback', 'value': 'nback_group'},\n",
       " {'label': 'Fitts', 'value': 'fitts_group'},\n",
       " {'label': 'Corsi', 'value': 'corsi_group'},\n",
       " {'label': 'Navon', 'value': 'navon_group'},\n",
       " {'label': 'WCST', 'value': 'wcst_group'},\n",
       " {'label': 'Random Particpants', 'value': 'random_participants'},\n",
       " {'label': 'None', 'value': ''}]"
      ]
     },
     "metadata": {},
     "execution_count": 22
    }
   ],
   "metadata": {}
  },
  {
   "cell_type": "code",
   "execution_count": null,
   "source": [],
   "outputs": [],
   "metadata": {}
  }
 ],
 "metadata": {
  "orig_nbformat": 4,
  "language_info": {
   "name": "python",
   "version": "3.9.6",
   "mimetype": "text/x-python",
   "codemirror_mode": {
    "name": "ipython",
    "version": 3
   },
   "pygments_lexer": "ipython3",
   "nbconvert_exporter": "python",
   "file_extension": ".py"
  },
  "kernelspec": {
   "name": "python3",
   "display_name": "Python 3.9.6 64-bit ('dynocog': conda)"
  },
  "interpreter": {
   "hash": "0bdb1145a6394107ddd55d824c4d0e411e79cd19a6286b1018600d724ae6ee81"
  }
 },
 "nbformat": 4,
 "nbformat_minor": 2
}