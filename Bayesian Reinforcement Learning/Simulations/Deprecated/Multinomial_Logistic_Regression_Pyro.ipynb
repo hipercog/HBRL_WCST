{
 "cells": [
  {
   "cell_type": "markdown",
   "metadata": {},
   "source": [
    "# Mutlinomial Logistic Regression\n",
    "\n",
    "\n"
   ]
  },
  {
   "cell_type": "code",
   "execution_count": 11,
   "metadata": {},
   "outputs": [],
   "source": [
    "import warnings\n",
    "warnings.filterwarnings('ignore')"
   ]
  },
  {
   "cell_type": "code",
   "execution_count": null,
   "metadata": {},
   "outputs": [],
   "source": [
    "%matplotlib inline\n",
    "from pathlib import Path\n",
    "import pickle\n",
    "from collections import OrderedDict\n",
    "import pandas as pd\n",
    "import numpy as np\n",
    "from scipy import stats\n",
    "\n",
    "from sklearn import preprocessing\n",
    "from sklearn.model_selection import train_test_split\n",
    "from sklearn.metrics import (roc_curve, roc_auc_score, confusion_matrix, accuracy_score, f1_score, \n",
    "                             precision_recall_curve) \n",
    "from mlxtend.plotting import plot_confusion_matrix\n",
    "\n",
    "import theano\n",
    "import pymc3 as pm\n",
    "from pymc3.variational.callbacks import CheckParametersConvergence\n",
    "import statsmodels.formula.api as smf\n",
    "\n",
    "import arviz as az\n",
    "import matplotlib.pyplot as plt\n",
    "import matplotlib.cm as cm\n",
    "\n",
    "import seaborn as sns\n",
    "from IPython.display import HTML\n",
    "data_path = Path('data')\n",
    "fig_path = Path('figures')\n",
    "model_path = Path('models')\n",
    "for p in [data_path, fig_path, model_path]:\n",
    "    if not p.exists():\n",
    "        p.mkdir()"
   ]
  },
  {
   "cell_type": "code",
   "execution_count": 14,
   "metadata": {},
   "outputs": [
    {
     "name": "stdout",
     "output_type": "stream",
     "text": [
      "Collecting git+https://github.com/pymc-devs/pymc3\n",
      "  Cloning https://github.com/pymc-devs/pymc3 to /private/var/folders/kd/p1z7_f_974d7tkw1zmvskn_m0000gn/T/pip-req-build-2v2o15ym\n",
      "  Running command git clone --filter=blob:none -q https://github.com/pymc-devs/pymc3 /private/var/folders/kd/p1z7_f_974d7tkw1zmvskn_m0000gn/T/pip-req-build-2v2o15ym\n",
      "  error: RPC failed; curl 56 LibreSSL SSL_read: Connection reset by peer, errno 54\n",
      "  error: 4131 bytes of body are still expected\n",
      "  fetch-pack: unexpected disconnect while reading sideband packet\n",
      "  fatal: early EOF\n",
      "  fatal: index-pack failed\n",
      "  Auto packing the repository in background for optimum performance.\n",
      "  See \"git help gc\" for manual housekeeping.\n",
      "  Auto packing the repository in background for optimum performance.\n",
      "  See \"git help gc\" for manual housekeeping.\n",
      "  Auto packing the repository in background for optimum performance.\n",
      "  See \"git help gc\" for manual housekeeping.\n",
      "  Auto packing the repository in background for optimum performance.\n",
      "  See \"git help gc\" for manual housekeeping.\n",
      "  Auto packing the repository in background for optimum performance.\n",
      "  See \"git help gc\" for manual housekeeping.\n",
      "  Auto packing the repository in background for optimum performance.\n",
      "  See \"git help gc\" for manual housekeeping.\n",
      "  Auto packing the repository in background for optimum performance.\n",
      "  See \"git help gc\" for manual housekeeping.\n",
      "  Auto packing the repository in background for optimum performance.\n",
      "  See \"git help gc\" for manual housekeeping.\n",
      "  Auto packing the repository in background for optimum performance.\n",
      "  See \"git help gc\" for manual housekeeping.\n",
      "  Auto packing the repository in background for optimum performance.\n",
      "  See \"git help gc\" for manual housekeeping.\n",
      "  Auto packing the repository in background for optimum performance.\n",
      "  See \"git help gc\" for manual housekeeping.\n",
      "^C\n",
      "\u001b[31mERROR: Operation cancelled by user\u001b[0m\n",
      "Collecting git+git://github.com/arviz-devs/arviz.git\n",
      "  Cloning git://github.com/arviz-devs/arviz.git to /private/var/folders/kd/p1z7_f_974d7tkw1zmvskn_m0000gn/T/pip-req-build-tqifmcab\n",
      "  Running command git clone --filter=blob:none -q git://github.com/arviz-devs/arviz.git /private/var/folders/kd/p1z7_f_974d7tkw1zmvskn_m0000gn/T/pip-req-build-tqifmcab\n",
      "^C\n",
      "\u001b[31mERROR: Operation cancelled by user\u001b[0m\n"
     ]
    }
   ],
   "source": [
    "!pip install git+https://github.com/pymc-devs/pymc3\n",
    "!pip install git+git://github.com/arviz-devs/arviz.git\n",
    "\n"
   ]
  },
  {
   "cell_type": "code",
   "execution_count": null,
   "metadata": {},
   "outputs": [],
   "source": [
    "import arviz as az\n",
    "import matplotlib.pyplot as plt\n",
    "import numpy as np"
   ]
  },
  {
   "cell_type": "code",
   "execution_count": null,
   "metadata": {},
   "outputs": [],
   "source": [
    "%config InlineBackend.figure_format = 'retina'\n",
    "# Initialize random number generator\n",
    "RANDOM_SEED = 8927\n",
    "np.random.seed(RANDOM_SEED)\n",
    "az.style.use(\"arviz-darkgrid\")\n",
    "# True parameter values\n",
    "alpha, sigma = 1, 1\n",
    "beta = [1, 2.5]\n",
    "\n",
    "# Size of dataset\n",
    "size = 100\n",
    "\n",
    "# Predictor variable\n",
    "X1 = np.random.randn(size)\n",
    "X2 = np.random.randn(size) * 0.2\n",
    "\n",
    "# Simulate outcome variable\n",
    "Y = alpha + beta[0] * X1 + beta[1] * X2 + np.random.randn(size) * sigma"
   ]
  },
  {
   "cell_type": "code",
   "execution_count": null,
   "metadata": {},
   "outputs": [],
   "source": [
    "fig, axes = plt.subplots(1, 2, sharex=True, figsize=(10, 4))\n",
    "axes[0].scatter(X1, Y, alpha=0.6)\n",
    "axes[1].scatter(X2, Y, alpha=0.6)\n",
    "axes[0].set_ylabel(\"Y\")\n",
    "axes[0].set_xlabel(\"X1\")\n",
    "axes[1].set_xlabel(\"X2\");"
   ]
  },
  {
   "cell_type": "code",
   "execution_count": null,
   "metadata": {},
   "outputs": [],
   "source": []
  },
  {
   "cell_type": "code",
   "execution_count": null,
   "metadata": {},
   "outputs": [],
   "source": []
  },
  {
   "cell_type": "code",
   "execution_count": null,
   "metadata": {},
   "outputs": [],
   "source": []
  },
  {
   "cell_type": "code",
   "execution_count": null,
   "metadata": {},
   "outputs": [],
   "source": [
    "data = pd.read_csv('bank.csv')\n",
    "data.info()\n",
    "\n",
    "categorical_features = data.select_dtypes(include=[np.object])\n",
    "\n",
    "numeric_features = data.select_dtypes(include=[np.number])\n",
    "\n",
    "cols = numeric_features.columns\n",
    "numeric_features.loc[:, cols] = preprocessing.scale(numeric_features.loc[:, cols])\n",
    "\n",
    "le = preprocessing.LabelEncoder()\n",
    "\n",
    "categorical_features = data[categorical_features.columns].apply(lambda x: le.fit_transform(x))\n",
    "\n",
    "data = pd.concat([categorical_features, numeric_features], axis=1)\n",
    "data.info()"
   ]
  }
 ],
 "metadata": {
  "interpreter": {
   "hash": "f0b13015dde540d8a0a28ac4cd5ec40a2292ac69683884db3f92763550df8eea"
  },
  "kernelspec": {
   "display_name": "Python 3.9.9 64-bit ('dynocog_pmc3': conda)",
   "language": "python",
   "name": "python3"
  },
  "language_info": {
   "codemirror_mode": {
    "name": "ipython",
    "version": 3
   },
   "file_extension": ".py",
   "mimetype": "text/x-python",
   "name": "python",
   "nbconvert_exporter": "python",
   "pygments_lexer": "ipython3",
   "version": "3.9.9"
  },
  "orig_nbformat": 4
 },
 "nbformat": 4,
 "nbformat_minor": 2
}
