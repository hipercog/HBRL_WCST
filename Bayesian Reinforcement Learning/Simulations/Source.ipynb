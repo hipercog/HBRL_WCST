{
 "cells": [
  {
   "cell_type": "markdown",
   "metadata": {},
   "source": [
    "# Source\n",
    "\n",
    "Due to computational issues Google Colab is used to run the Bayesian experiments.\n",
    "\n",
    "Notebook links:\n",
    "\n",
    "- [Simulation: Bayesian RL](https://colab.research.google.com/drive/1rFw5_UIMXGG5D4Ami1JU9r4PgOEK2Rqg#scrollTo=NxjYWeolvDRS)\n",
    "\n",
    "\n",
    "----\n",
    "\n",
    "Resources & Sources:\n",
    "\n",
    "1. [PyMC3 RL Theano Scan](https://colab.research.google.com/github/ricardoV94/stats/blob/master/modelling/RL_PyMC.ipynb#scrollTo=dHzhTy20g4vh)\n",
    "2. [PyMC3 Inference Docs](https://docs.pymc.io/en/v3/pymc-examples/examples/pymc3_howto/api_quickstart.html)"
   ]
  },
  {
   "cell_type": "markdown",
   "metadata": {},
   "source": []
  }
 ],
 "metadata": {
  "language_info": {
   "name": "python"
  },
  "orig_nbformat": 4
 },
 "nbformat": 4,
 "nbformat_minor": 2
}
