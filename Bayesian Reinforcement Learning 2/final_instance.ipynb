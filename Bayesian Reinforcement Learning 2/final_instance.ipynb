{
 "cells": [
  {
   "cell_type": "markdown",
   "metadata": {},
   "source": [
    "# Bayesian RL Models\n",
    "## Production Instance\n",
    "\n",
    "----\n",
    "```\n",
    "author:             Zach Wolpe\n",
    "email:              zach.wolpe@medibio.com.au\n",
    "reviewer:           na\n",
    "date:               07 June 2022\n",
    "```\n",
    "----"
   ]
  },
  {
   "cell_type": "code",
   "execution_count": null,
   "metadata": {},
   "outputs": [],
   "source": []
  }
 ],
 "metadata": {
  "language_info": {
   "name": "python"
  },
  "orig_nbformat": 4
 },
 "nbformat": 4,
 "nbformat_minor": 2
}
